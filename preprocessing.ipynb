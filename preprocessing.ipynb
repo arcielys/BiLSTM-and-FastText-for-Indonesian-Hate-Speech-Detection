{
 "cells": [
  {
   "cell_type": "code",
   "execution_count": 99,
   "id": "319c5174",
   "metadata": {},
   "outputs": [
    {
     "name": "stdout",
     "output_type": "stream",
     "text": [
      "^C\n"
     ]
    },
    {
     "name": "stdout",
     "output_type": "stream",
     "text": [
      "Requirement already satisfied: Sastrawi in c:\\users\\arciel\\anaconda3\\lib\\site-packages (1.0.1)\n"
     ]
    }
   ],
   "source": [
    "!pip install Sastrawi"
   ]
  },
  {
   "cell_type": "code",
   "execution_count": 1,
   "id": "bcaf819a",
   "metadata": {},
   "outputs": [],
   "source": [
    "#Load library yang dibutuhkan\n",
    "import pandas as pd\n",
    "import numpy as np\n",
    "import matplotlib.pyplot as plt\n",
    "import seaborn as sns\n",
    "import re\n",
    "import nltk\n",
    "\n",
    "from Sastrawi.Stemmer.StemmerFactory import StemmerFactory\n",
    "from Sastrawi.StopWordRemover.StopWordRemoverFactory import StopWordRemoverFactory\n",
    "from nltk.corpus import stopwords"
   ]
  },
  {
   "cell_type": "code",
   "execution_count": 2,
   "id": "4efcb3ea",
   "metadata": {},
   "outputs": [
    {
     "name": "stdout",
     "output_type": "stream",
     "text": [
      "Kolom dalam dataset: ['text', 'labels']\n",
      "Jumlah data: 14306\n",
      "labels\n",
      "0    8256\n",
      "1    6050\n",
      "Name: count, dtype: int64\n"
     ]
    },
    {
     "data": {
      "text/html": [
       "<div>\n",
       "<style scoped>\n",
       "    .dataframe tbody tr th:only-of-type {\n",
       "        vertical-align: middle;\n",
       "    }\n",
       "\n",
       "    .dataframe tbody tr th {\n",
       "        vertical-align: top;\n",
       "    }\n",
       "\n",
       "    .dataframe thead th {\n",
       "        text-align: right;\n",
       "    }\n",
       "</style>\n",
       "<table border=\"1\" class=\"dataframe\">\n",
       "  <thead>\n",
       "    <tr style=\"text-align: right;\">\n",
       "      <th></th>\n",
       "      <th>text</th>\n",
       "      <th>labels</th>\n",
       "    </tr>\n",
       "  </thead>\n",
       "  <tbody>\n",
       "    <tr>\n",
       "      <th>0</th>\n",
       "      <td>@USER.wood17 knp lo gak berani bersumpah dan b...</td>\n",
       "      <td>1</td>\n",
       "    </tr>\n",
       "    <tr>\n",
       "      <th>1</th>\n",
       "      <td>haha, somad somad. Muka dekil otak 0% , kok ya...</td>\n",
       "      <td>1</td>\n",
       "    </tr>\n",
       "    <tr>\n",
       "      <th>2</th>\n",
       "      <td>hahaha, kaum sableng 212 kl berita begini mrk ...</td>\n",
       "      <td>1</td>\n",
       "    </tr>\n",
       "    <tr>\n",
       "      <th>3</th>\n",
       "      <td>hahaha, makin stress aja  ni umat sableng, dlu...</td>\n",
       "      <td>1</td>\n",
       "    </tr>\n",
       "    <tr>\n",
       "      <th>4</th>\n",
       "      <td>HIDUP PSI = partai SAMPAH indonesia..... ...</td>\n",
       "      <td>1</td>\n",
       "    </tr>\n",
       "  </tbody>\n",
       "</table>\n",
       "</div>"
      ],
      "text/plain": [
       "                                                text  labels\n",
       "0  @USER.wood17 knp lo gak berani bersumpah dan b...       1\n",
       "1  haha, somad somad. Muka dekil otak 0% , kok ya...       1\n",
       "2  hahaha, kaum sableng 212 kl berita begini mrk ...       1\n",
       "3  hahaha, makin stress aja  ni umat sableng, dlu...       1\n",
       "4       HIDUP PSI = partai SAMPAH indonesia..... ...       1"
      ]
     },
     "execution_count": 2,
     "metadata": {},
     "output_type": "execute_result"
    }
   ],
   "source": [
    "#Load dataset\n",
    "df = pd.read_csv('in_hf.csv', usecols=['text', 'labels'], encoding='utf-8')\n",
    "print(\"Kolom dalam dataset:\", df.columns.tolist())\n",
    "print(\"Jumlah data:\", len(df))\n",
    "print(df['labels'].value_counts())\n",
    "df.head()"
   ]
  },
  {
   "cell_type": "code",
   "execution_count": 3,
   "id": "a7ca1b15",
   "metadata": {},
   "outputs": [
    {
     "data": {
      "image/png": "[encoded data removed]",
      "text/plain": [
       "<Figure size 640x480 with 1 Axes>"
      ]
     },
     "metadata": {},
     "output_type": "display_data"
    },
    {
     "data": {
      "text/plain": [
       "labels\n",
       "0    8256\n",
       "1    6050\n",
       "Name: count, dtype: int64"
      ]
     },
     "execution_count": 3,
     "metadata": {},
     "output_type": "execute_result"
    }
   ],
   "source": [
    "#lihat sebaran label pada dataset\n",
    "sns.countplot(x='labels', data=df)\n",
    "plt.title('Sebaran Label pada Dataset')\n",
    "plt.xlabel('Label')\n",
    "plt.ylabel('Jumlah')\n",
    "plt.show()\n",
    "#Cek jumlah data pada setiap label\n",
    "df['labels'].value_counts()"
   ]
  },
  {
   "cell_type": "code",
   "execution_count": 130,
   "id": "9de9207a",
   "metadata": {},
   "outputs": [
    {
     "data": {
      "text/plain": [
       "text      0\n",
       "labels    0\n",
       "dtype: int64"
      ]
     },
     "execution_count": 130,
     "metadata": {},
     "output_type": "execute_result"
    }
   ],
   "source": [
    "#Cek missing value pada dataset\n",
    "df.isnull().sum()"
   ]
  },
  {
   "cell_type": "code",
   "execution_count": 131,
   "id": "13ffae3c",
   "metadata": {},
   "outputs": [
    {
     "data": {
      "text/plain": [
       "114"
      ]
     },
     "execution_count": 131,
     "metadata": {},
     "output_type": "execute_result"
    }
   ],
   "source": [
    "#Cek duplikasi pada baris\n",
    "df.duplicated().sum()"
   ]
  },
  {
   "cell_type": "code",
   "execution_count": 132,
   "id": "bc56d9a7",
   "metadata": {},
   "outputs": [
    {
     "data": {
      "text/plain": [
       "0"
      ]
     },
     "execution_count": 132,
     "metadata": {},
     "output_type": "execute_result"
    }
   ],
   "source": [
    "#hapus duplikasi pada dataset\n",
    "df.drop_duplicates(inplace=True)\n",
    "df.duplicated().sum()"
   ]
  },
  {
   "cell_type": "code",
   "execution_count": 133,
   "id": "66606ac9",
   "metadata": {},
   "outputs": [
    {
     "data": {
      "text/html": [
       "<div>\n",
       "<style scoped>\n",
       "    .dataframe tbody tr th:only-of-type {\n",
       "        vertical-align: middle;\n",
       "    }\n",
       "\n",
       "    .dataframe tbody tr th {\n",
       "        vertical-align: top;\n",
       "    }\n",
       "\n",
       "    .dataframe thead th {\n",
       "        text-align: right;\n",
       "    }\n",
       "</style>\n",
       "<table border=\"1\" class=\"dataframe\">\n",
       "  <thead>\n",
       "    <tr style=\"text-align: right;\">\n",
       "      <th></th>\n",
       "      <th>text</th>\n",
       "      <th>labels</th>\n",
       "    </tr>\n",
       "  </thead>\n",
       "  <tbody>\n",
       "    <tr>\n",
       "      <th>0</th>\n",
       "      <td>@USER.wood17 knp lo gak berani bersumpah dan b...</td>\n",
       "      <td>1</td>\n",
       "    </tr>\n",
       "    <tr>\n",
       "      <th>1</th>\n",
       "      <td>haha, somad somad. Muka dekil otak 0% , kok ya...</td>\n",
       "      <td>1</td>\n",
       "    </tr>\n",
       "    <tr>\n",
       "      <th>2</th>\n",
       "      <td>hahaha, kaum sableng 212 kl berita begini mrk ...</td>\n",
       "      <td>1</td>\n",
       "    </tr>\n",
       "    <tr>\n",
       "      <th>3</th>\n",
       "      <td>hahaha, makin stress aja  ni umat sableng, dlu...</td>\n",
       "      <td>1</td>\n",
       "    </tr>\n",
       "    <tr>\n",
       "      <th>4</th>\n",
       "      <td>HIDUP PSI = partai SAMPAH indonesia..... ...</td>\n",
       "      <td>1</td>\n",
       "    </tr>\n",
       "  </tbody>\n",
       "</table>\n",
       "</div>"
      ],
      "text/plain": [
       "                                                text  labels\n",
       "0  @USER.wood17 knp lo gak berani bersumpah dan b...       1\n",
       "1  haha, somad somad. Muka dekil otak 0% , kok ya...       1\n",
       "2  hahaha, kaum sableng 212 kl berita begini mrk ...       1\n",
       "3  hahaha, makin stress aja  ni umat sableng, dlu...       1\n",
       "4       HIDUP PSI = partai SAMPAH indonesia..... ...       1"
      ]
     },
     "execution_count": 133,
     "metadata": {},
     "output_type": "execute_result"
    }
   ],
   "source": [
    "#hapus url\n",
    "def clean_data(df):\n",
    "  df['text'] = df['text'].str.replace('http[s]?://(?:[a-zA-Z]|[0-9]|[$-_@.&+]|(?:%[0-9a-fA-F][0-9a-fA-F]))+', ' ')\n",
    "\n",
    "clean_data(df)\n",
    "df.head()"
   ]
  },
  {
   "cell_type": "code",
   "execution_count": 134,
   "id": "2be4be23",
   "metadata": {},
   "outputs": [
    {
     "data": {
      "text/html": [
       "<div>\n",
       "<style scoped>\n",
       "    .dataframe tbody tr th:only-of-type {\n",
       "        vertical-align: middle;\n",
       "    }\n",
       "\n",
       "    .dataframe tbody tr th {\n",
       "        vertical-align: top;\n",
       "    }\n",
       "\n",
       "    .dataframe thead th {\n",
       "        text-align: right;\n",
       "    }\n",
       "</style>\n",
       "<table border=\"1\" class=\"dataframe\">\n",
       "  <thead>\n",
       "    <tr style=\"text-align: right;\">\n",
       "      <th></th>\n",
       "      <th>text</th>\n",
       "      <th>labels</th>\n",
       "    </tr>\n",
       "  </thead>\n",
       "  <tbody>\n",
       "    <tr>\n",
       "      <th>0</th>\n",
       "      <td>@USER.wood17 knp lo gak berani bersumpah dan b...</td>\n",
       "      <td>1</td>\n",
       "    </tr>\n",
       "    <tr>\n",
       "      <th>1</th>\n",
       "      <td>haha, somad somad. Muka dekil otak 0% , kok ya...</td>\n",
       "      <td>1</td>\n",
       "    </tr>\n",
       "    <tr>\n",
       "      <th>2</th>\n",
       "      <td>hahaha, kaum sableng 212 kl berita begini mrk ...</td>\n",
       "      <td>1</td>\n",
       "    </tr>\n",
       "    <tr>\n",
       "      <th>3</th>\n",
       "      <td>hahaha, makin stress aja  ni umat sableng, dlu...</td>\n",
       "      <td>1</td>\n",
       "    </tr>\n",
       "    <tr>\n",
       "      <th>4</th>\n",
       "      <td>HIDUP PSI = partai SAMPAH indonesia..... ...</td>\n",
       "      <td>1</td>\n",
       "    </tr>\n",
       "  </tbody>\n",
       "</table>\n",
       "</div>"
      ],
      "text/plain": [
       "                                                text  labels\n",
       "0  @USER.wood17 knp lo gak berani bersumpah dan b...       1\n",
       "1  haha, somad somad. Muka dekil otak 0% , kok ya...       1\n",
       "2  hahaha, kaum sableng 212 kl berita begini mrk ...       1\n",
       "3  hahaha, makin stress aja  ni umat sableng, dlu...       1\n",
       "4       HIDUP PSI = partai SAMPAH indonesia..... ...       1"
      ]
     },
     "execution_count": 134,
     "metadata": {},
     "output_type": "execute_result"
    }
   ],
   "source": [
    "#hapus emoji\n",
    "emoji_pattern = re.compile(\"[\"\n",
    "                           u\"\\U0001F600-\\U0001F64F\"  # emotikon wajah\n",
    "                           u\"\\U0001F300-\\U0001F5FF\"  # simbol & ikon\n",
    "                           u\"\\U0001F680-\\U0001F6FF\"  # transport & simbol\n",
    "                           u\"\\U0001F1E0-\\U0001F1FF\"  # bendera\n",
    "                           u\"\\U00002700-\\U000027BF\"  # simbol tambahan\n",
    "                           u\"\\U0001F900-\\U0001F9FF\"  # emoji tambahan (2017+)\n",
    "                           \"]+\", flags=re.UNICODE)\n",
    "\n",
    "#fungsi hapus emoji\n",
    "def remove_emoji(text):\n",
    "    return emoji_pattern.sub(r'', text)\n",
    "df['text'] = df['text'].apply(remove_emoji)\n",
    "df.head()"
   ]
  },
  {
   "cell_type": "code",
   "execution_count": 135,
   "id": "2e31006f",
   "metadata": {},
   "outputs": [
    {
     "data": {
      "text/html": [
       "<div>\n",
       "<style scoped>\n",
       "    .dataframe tbody tr th:only-of-type {\n",
       "        vertical-align: middle;\n",
       "    }\n",
       "\n",
       "    .dataframe tbody tr th {\n",
       "        vertical-align: top;\n",
       "    }\n",
       "\n",
       "    .dataframe thead th {\n",
       "        text-align: right;\n",
       "    }\n",
       "</style>\n",
       "<table border=\"1\" class=\"dataframe\">\n",
       "  <thead>\n",
       "    <tr style=\"text-align: right;\">\n",
       "      <th></th>\n",
       "      <th>text</th>\n",
       "      <th>labels</th>\n",
       "    </tr>\n",
       "  </thead>\n",
       "  <tbody>\n",
       "    <tr>\n",
       "      <th>0</th>\n",
       "      <td>USER wood knp lo gak berani bersumpah dan ber...</td>\n",
       "      <td>1</td>\n",
       "    </tr>\n",
       "    <tr>\n",
       "      <th>1</th>\n",
       "      <td>haha  somad somad  Muka dekil otak     kok ya ...</td>\n",
       "      <td>1</td>\n",
       "    </tr>\n",
       "    <tr>\n",
       "      <th>2</th>\n",
       "      <td>hahaha  kaum sableng  kl berita begini mrk but...</td>\n",
       "      <td>1</td>\n",
       "    </tr>\n",
       "    <tr>\n",
       "      <th>3</th>\n",
       "      <td>hahaha  makin stress aja  ni umat sableng  dlu...</td>\n",
       "      <td>1</td>\n",
       "    </tr>\n",
       "    <tr>\n",
       "      <th>4</th>\n",
       "      <td>HIDUP PSI   partai SAMPAH indonesia</td>\n",
       "      <td>1</td>\n",
       "    </tr>\n",
       "  </tbody>\n",
       "</table>\n",
       "</div>"
      ],
      "text/plain": [
       "                                                text  labels\n",
       "0   USER wood knp lo gak berani bersumpah dan ber...       1\n",
       "1  haha  somad somad  Muka dekil otak     kok ya ...       1\n",
       "2  hahaha  kaum sableng  kl berita begini mrk but...       1\n",
       "3  hahaha  makin stress aja  ni umat sableng  dlu...       1\n",
       "4       HIDUP PSI   partai SAMPAH indonesia                1"
      ]
     },
     "execution_count": 135,
     "metadata": {},
     "output_type": "execute_result"
    }
   ],
   "source": [
    "#hapus karakter spesial\n",
    "import string\n",
    "\n",
    "def hapus_karakter_spesial(text):\n",
    "    for sp in string.punctuation:\n",
    "        text = text.replace(sp, \" \")\n",
    "    text = re.sub(r\"\\d+\", \"\", text)\n",
    "    return text.replace('/s+/g', ' ')\n",
    "df['text'] = df['text'].apply(hapus_karakter_spesial)\n",
    "df.head()"
   ]
  },
  {
   "cell_type": "code",
   "execution_count": 136,
   "id": "141fd073",
   "metadata": {},
   "outputs": [
    {
     "data": {
      "text/html": [
       "<div>\n",
       "<style scoped>\n",
       "    .dataframe tbody tr th:only-of-type {\n",
       "        vertical-align: middle;\n",
       "    }\n",
       "\n",
       "    .dataframe tbody tr th {\n",
       "        vertical-align: top;\n",
       "    }\n",
       "\n",
       "    .dataframe thead th {\n",
       "        text-align: right;\n",
       "    }\n",
       "</style>\n",
       "<table border=\"1\" class=\"dataframe\">\n",
       "  <thead>\n",
       "    <tr style=\"text-align: right;\">\n",
       "      <th></th>\n",
       "      <th>text</th>\n",
       "      <th>labels</th>\n",
       "    </tr>\n",
       "  </thead>\n",
       "  <tbody>\n",
       "    <tr>\n",
       "      <th>0</th>\n",
       "      <td>user wood knp lo gak berani bersumpah dan ber...</td>\n",
       "      <td>1</td>\n",
       "    </tr>\n",
       "    <tr>\n",
       "      <th>1</th>\n",
       "      <td>haha  somad somad  muka dekil otak     kok ya ...</td>\n",
       "      <td>1</td>\n",
       "    </tr>\n",
       "    <tr>\n",
       "      <th>2</th>\n",
       "      <td>hahaha  kaum sableng  kl berita begini mrk but...</td>\n",
       "      <td>1</td>\n",
       "    </tr>\n",
       "    <tr>\n",
       "      <th>3</th>\n",
       "      <td>hahaha  makin stress aja  ni umat sableng  dlu...</td>\n",
       "      <td>1</td>\n",
       "    </tr>\n",
       "    <tr>\n",
       "      <th>4</th>\n",
       "      <td>hidup psi   partai sampah indonesia</td>\n",
       "      <td>1</td>\n",
       "    </tr>\n",
       "  </tbody>\n",
       "</table>\n",
       "</div>"
      ],
      "text/plain": [
       "                                                text  labels\n",
       "0   user wood knp lo gak berani bersumpah dan ber...       1\n",
       "1  haha  somad somad  muka dekil otak     kok ya ...       1\n",
       "2  hahaha  kaum sableng  kl berita begini mrk but...       1\n",
       "3  hahaha  makin stress aja  ni umat sableng  dlu...       1\n",
       "4       hidup psi   partai sampah indonesia                1"
      ]
     },
     "execution_count": 136,
     "metadata": {},
     "output_type": "execute_result"
    }
   ],
   "source": [
    "#casefolding\n",
    "df['text'] = df['text'].str.lower()\n",
    "df.head()"
   ]
  },
  {
   "cell_type": "code",
   "execution_count": 137,
   "id": "233eb542",
   "metadata": {},
   "outputs": [
    {
     "data": {
      "text/html": [
       "<div>\n",
       "<style scoped>\n",
       "    .dataframe tbody tr th:only-of-type {\n",
       "        vertical-align: middle;\n",
       "    }\n",
       "\n",
       "    .dataframe tbody tr th {\n",
       "        vertical-align: top;\n",
       "    }\n",
       "\n",
       "    .dataframe thead th {\n",
       "        text-align: right;\n",
       "    }\n",
       "</style>\n",
       "<table border=\"1\" class=\"dataframe\">\n",
       "  <thead>\n",
       "    <tr style=\"text-align: right;\">\n",
       "      <th></th>\n",
       "      <th>text</th>\n",
       "      <th>labels</th>\n",
       "    </tr>\n",
       "  </thead>\n",
       "  <tbody>\n",
       "    <tr>\n",
       "      <th>0</th>\n",
       "      <td>wood knp lo gak berani bersumpah dan bertaruh ...</td>\n",
       "      <td>1</td>\n",
       "    </tr>\n",
       "    <tr>\n",
       "      <th>1</th>\n",
       "      <td>haha somad somad muka dekil otak kok ya g malu...</td>\n",
       "      <td>1</td>\n",
       "    </tr>\n",
       "    <tr>\n",
       "      <th>2</th>\n",
       "      <td>hahaha kaum sableng kl berita begini mrk buta ...</td>\n",
       "      <td>1</td>\n",
       "    </tr>\n",
       "    <tr>\n",
       "      <th>3</th>\n",
       "      <td>hahaha makin stress aja ni umat sableng dlu ra...</td>\n",
       "      <td>1</td>\n",
       "    </tr>\n",
       "    <tr>\n",
       "      <th>4</th>\n",
       "      <td>hidup psi partai sampah indonesia</td>\n",
       "      <td>1</td>\n",
       "    </tr>\n",
       "  </tbody>\n",
       "</table>\n",
       "</div>"
      ],
      "text/plain": [
       "                                                text  labels\n",
       "0  wood knp lo gak berani bersumpah dan bertaruh ...       1\n",
       "1  haha somad somad muka dekil otak kok ya g malu...       1\n",
       "2  hahaha kaum sableng kl berita begini mrk buta ...       1\n",
       "3  hahaha makin stress aja ni umat sableng dlu ra...       1\n",
       "4                  hidup psi partai sampah indonesia       1"
      ]
     },
     "execution_count": 137,
     "metadata": {},
     "output_type": "execute_result"
    }
   ],
   "source": [
    "#hapus kata user dan rt\n",
    "def hapus_user_rt(text):\n",
    "    text = re.sub(r'\\bUSER\\b', '', text, flags=re.IGNORECASE)\n",
    "    text = re.sub(r'\\bRT\\b', '', text, flags=re.IGNORECASE)\n",
    "    #hapus encoding error pada dataset\n",
    "    text = re.sub(r'[�ð]', '', text)                                      #karakter spesifik yang sering muncul\n",
    "    text = re.sub(r'[^\\x00-\\x7F]+', '', text)                               #hapus karakter non-ASCII)\n",
    "    text = text.translate(str.maketrans('', '', string.punctuation))        #hapus tanda baca\n",
    "    #hapus spasi berlebihan\n",
    "    text = re.sub(r'\\s+', ' ', text).strip()\n",
    "    return text\n",
    "\n",
    "df['text'] = df['text'].apply(hapus_user_rt)\n",
    "df.head()"
   ]
  },
  {
   "cell_type": "code",
   "execution_count": 138,
   "id": "145b3107",
   "metadata": {},
   "outputs": [],
   "source": [
    "#simpan dataset hasil cleaning untuk di cek\n",
    "df[['text', 'labels']].to_csv('dataset_b1.csv', index=False)"
   ]
  },
  {
   "cell_type": "markdown",
   "id": "8c0b1b57",
   "metadata": {},
   "source": [
    "-------------------------------------------------------------------------------------------------------"
   ]
  },
  {
   "cell_type": "code",
   "execution_count": 139,
   "id": "0be8ef3e",
   "metadata": {},
   "outputs": [
    {
     "name": "stderr",
     "output_type": "stream",
     "text": [
      "[nltk_data] Downloading package stopwords to\n",
      "[nltk_data]     C:\\Users\\Arciel\\AppData\\Roaming\\nltk_data...\n",
      "[nltk_data]   Package stopwords is already up-to-date!\n"
     ]
    }
   ],
   "source": [
    "#Membaca stopwords tambahan\n",
    "stopwords_file = 'stopword_extend.txt'\n",
    "with open(stopwords_file, 'r') as file:\n",
    "    additional_stopwords = [line.strip() for line in file]\n",
    "additional_stopwords = str(additional_stopwords).split()\n",
    "\n",
    "#Download stopwords dari NLTK\n",
    "nltk.download('stopwords')\n",
    "stopword_id_factory = StopWordRemoverFactory()\n",
    "sastrawi_stopwords = stopword_id_factory.get_stop_words()\n",
    "\n",
    "#Gabungkan stopwords bawaan NLTK dengan stopwords tambahan\n",
    "stop_words = stopwords.words('indonesian')\n",
    "extended_stopwords = list(set(stop_words + additional_stopwords + sastrawi_stopwords))"
   ]
  },
  {
   "cell_type": "code",
   "execution_count": 140,
   "id": "2fb737bb",
   "metadata": {},
   "outputs": [
    {
     "name": "stdout",
     "output_type": "stream",
     "text": [
      "              original               replacement\n",
      "0  anakjakartaasikasik  anak jakarta asyik asyik\n",
      "1         pakcikdahtua         pak cik sudah tua\n",
      "2       pakcikmudalagi         pak cik muda lagi\n",
      "3          t3tapjokowi              tetap jokowi\n",
      "4                   3x                 tiga kali\n",
      "Total entries in kamus alay: 15167\n"
     ]
    }
   ],
   "source": [
    "#Load kamus alay\n",
    "alay_dict = pd.read_csv('new_kamusalay.csv', encoding='latin-1', header=None)\n",
    "#Rename kolom alay_dict\n",
    "alay_dict = alay_dict.rename(columns={0: 'original', 1: 'replacement'})\n",
    "# Create alay_dict map\n",
    "alay_map = dict(zip(alay_dict['original'], alay_dict['replacement']))\n",
    "\n",
    "# cek alay_map\n",
    "print(alay_dict.head())\n",
    "print(f\"Total entries in kamus alay: {len(alay_map)}\")"
   ]
  },
  {
   "cell_type": "code",
   "execution_count": 141,
   "id": "45483b98",
   "metadata": {},
   "outputs": [],
   "source": [
    "#Inisialisasi stemmer\n",
    "factory = StemmerFactory()\n",
    "stemmer = factory.create_stemmer()"
   ]
  },
  {
   "cell_type": "markdown",
   "id": "aeef34df",
   "metadata": {},
   "source": [
    "-------------------------------------------------------------------------------------------------------"
   ]
  },
  {
   "cell_type": "code",
   "execution_count": 142,
   "id": "2d94b684",
   "metadata": {},
   "outputs": [
    {
     "data": {
      "text/html": [
       "<div>\n",
       "<style scoped>\n",
       "    .dataframe tbody tr th:only-of-type {\n",
       "        vertical-align: middle;\n",
       "    }\n",
       "\n",
       "    .dataframe tbody tr th {\n",
       "        vertical-align: top;\n",
       "    }\n",
       "\n",
       "    .dataframe thead th {\n",
       "        text-align: right;\n",
       "    }\n",
       "</style>\n",
       "<table border=\"1\" class=\"dataframe\">\n",
       "  <thead>\n",
       "    <tr style=\"text-align: right;\">\n",
       "      <th></th>\n",
       "      <th>text</th>\n",
       "      <th>labels</th>\n",
       "    </tr>\n",
       "  </thead>\n",
       "  <tbody>\n",
       "    <tr>\n",
       "      <th>0</th>\n",
       "      <td>wood knp gak berani bersumpah bertaruh krnlo p...</td>\n",
       "      <td>1</td>\n",
       "    </tr>\n",
       "    <tr>\n",
       "      <th>1</th>\n",
       "      <td>haha somad somad muka dekil otak g malu ngaku ...</td>\n",
       "      <td>1</td>\n",
       "    </tr>\n",
       "    <tr>\n",
       "      <th>2</th>\n",
       "      <td>hahaha kaum sableng kl berita mrk buta tuli</td>\n",
       "      <td>1</td>\n",
       "    </tr>\n",
       "    <tr>\n",
       "      <th>3</th>\n",
       "      <td>hahaha stress aja ni umat sableng dlu raja sal...</td>\n",
       "      <td>1</td>\n",
       "    </tr>\n",
       "    <tr>\n",
       "      <th>4</th>\n",
       "      <td>hidup psi partai sampah indonesia</td>\n",
       "      <td>1</td>\n",
       "    </tr>\n",
       "  </tbody>\n",
       "</table>\n",
       "</div>"
      ],
      "text/plain": [
       "                                                text  labels\n",
       "0  wood knp gak berani bersumpah bertaruh krnlo p...       1\n",
       "1  haha somad somad muka dekil otak g malu ngaku ...       1\n",
       "2        hahaha kaum sableng kl berita mrk buta tuli       1\n",
       "3  hahaha stress aja ni umat sableng dlu raja sal...       1\n",
       "4                  hidup psi partai sampah indonesia       1"
      ]
     },
     "execution_count": 142,
     "metadata": {},
     "output_type": "execute_result"
    }
   ],
   "source": [
    "#hapus stopwords\n",
    "def remove_stopwords(text):\n",
    "    words = text.split()\n",
    "    cleaned_words = [word for word in words if word not in extended_stopwords]\n",
    "    return ' '.join(cleaned_words)\n",
    "\n",
    "df['text'] = df['text'].apply(remove_stopwords)\n",
    "df.head()"
   ]
  },
  {
   "cell_type": "code",
   "execution_count": 143,
   "id": "bbde5ba3",
   "metadata": {},
   "outputs": [
    {
     "data": {
      "text/html": [
       "<div>\n",
       "<style scoped>\n",
       "    .dataframe tbody tr th:only-of-type {\n",
       "        vertical-align: middle;\n",
       "    }\n",
       "\n",
       "    .dataframe tbody tr th {\n",
       "        vertical-align: top;\n",
       "    }\n",
       "\n",
       "    .dataframe thead th {\n",
       "        text-align: right;\n",
       "    }\n",
       "</style>\n",
       "<table border=\"1\" class=\"dataframe\">\n",
       "  <thead>\n",
       "    <tr style=\"text-align: right;\">\n",
       "      <th></th>\n",
       "      <th>text</th>\n",
       "      <th>labels</th>\n",
       "    </tr>\n",
       "  </thead>\n",
       "  <tbody>\n",
       "    <tr>\n",
       "      <th>0</th>\n",
       "      <td>wood kenapa tidak berani bersumpah bertaruh kr...</td>\n",
       "      <td>1</td>\n",
       "    </tr>\n",
       "    <tr>\n",
       "      <th>1</th>\n",
       "      <td>haha somad somad muka dekil otak tidak malu me...</td>\n",
       "      <td>1</td>\n",
       "    </tr>\n",
       "    <tr>\n",
       "      <th>2</th>\n",
       "      <td>haha kaum sableng kalau berita mereka buta tuli</td>\n",
       "      <td>1</td>\n",
       "    </tr>\n",
       "    <tr>\n",
       "      <th>3</th>\n",
       "      <td>haha stres saja nih umat sableng dulu raja sal...</td>\n",
       "      <td>1</td>\n",
       "    </tr>\n",
       "    <tr>\n",
       "      <th>4</th>\n",
       "      <td>hidup psi partai sampah indonesia</td>\n",
       "      <td>1</td>\n",
       "    </tr>\n",
       "  </tbody>\n",
       "</table>\n",
       "</div>"
      ],
      "text/plain": [
       "                                                text  labels\n",
       "0  wood kenapa tidak berani bersumpah bertaruh kr...       1\n",
       "1  haha somad somad muka dekil otak tidak malu me...       1\n",
       "2    haha kaum sableng kalau berita mereka buta tuli       1\n",
       "3  haha stres saja nih umat sableng dulu raja sal...       1\n",
       "4                  hidup psi partai sampah indonesia       1"
      ]
     },
     "execution_count": 143,
     "metadata": {},
     "output_type": "execute_result"
    }
   ],
   "source": [
    "#normalisasi kata dengan kamus alay\n",
    "def normalize_alay(text):\n",
    "    words = text.split()\n",
    "    normalize_words = [alay_map.get(word, word) for word in words]\n",
    "    return ' '.join(normalize_words)\n",
    "\n",
    "df['text'] = df['text'].apply(normalize_alay)\n",
    "df.head()"
   ]
  },
  {
   "cell_type": "code",
   "execution_count": 144,
   "id": "6ebea6d0",
   "metadata": {},
   "outputs": [
    {
     "data": {
      "application/vnd.jupyter.widget-view+json": {
       "model_id": "b9528984e1264a4383c942861f18807e",
       "version_major": 2,
       "version_minor": 0
      },
      "text/plain": [
       "  0%|          | 0/14192 [00:00<?, ?it/s]"
      ]
     },
     "metadata": {},
     "output_type": "display_data"
    },
    {
     "data": {
      "text/html": [
       "<div>\n",
       "<style scoped>\n",
       "    .dataframe tbody tr th:only-of-type {\n",
       "        vertical-align: middle;\n",
       "    }\n",
       "\n",
       "    .dataframe tbody tr th {\n",
       "        vertical-align: top;\n",
       "    }\n",
       "\n",
       "    .dataframe thead th {\n",
       "        text-align: right;\n",
       "    }\n",
       "</style>\n",
       "<table border=\"1\" class=\"dataframe\">\n",
       "  <thead>\n",
       "    <tr style=\"text-align: right;\">\n",
       "      <th></th>\n",
       "      <th>text</th>\n",
       "      <th>labels</th>\n",
       "    </tr>\n",
       "  </thead>\n",
       "  <tbody>\n",
       "    <tr>\n",
       "      <th>0</th>\n",
       "      <td>wood kenapa tidak berani sumpah taruh krnlo cu...</td>\n",
       "      <td>1</td>\n",
       "    </tr>\n",
       "    <tr>\n",
       "      <th>1</th>\n",
       "      <td>haha somad somad muka dekil otak tidak malu ak...</td>\n",
       "      <td>1</td>\n",
       "    </tr>\n",
       "    <tr>\n",
       "      <th>2</th>\n",
       "      <td>haha kaum sableng kalau berita mereka buta tuli</td>\n",
       "      <td>1</td>\n",
       "    </tr>\n",
       "    <tr>\n",
       "      <th>3</th>\n",
       "      <td>haha stres saja nih umat sableng dulu raja sal...</td>\n",
       "      <td>1</td>\n",
       "    </tr>\n",
       "    <tr>\n",
       "      <th>4</th>\n",
       "      <td>hidup psi partai sampah indonesia</td>\n",
       "      <td>1</td>\n",
       "    </tr>\n",
       "  </tbody>\n",
       "</table>\n",
       "</div>"
      ],
      "text/plain": [
       "                                                text  labels\n",
       "0  wood kenapa tidak berani sumpah taruh krnlo cu...       1\n",
       "1  haha somad somad muka dekil otak tidak malu ak...       1\n",
       "2    haha kaum sableng kalau berita mereka buta tuli       1\n",
       "3  haha stres saja nih umat sableng dulu raja sal...       1\n",
       "4                  hidup psi partai sampah indonesia       1"
      ]
     },
     "execution_count": 144,
     "metadata": {},
     "output_type": "execute_result"
    }
   ],
   "source": [
    "from tqdm.auto import tqdm\n",
    "tqdm.pandas()\n",
    "#stemming\n",
    "def stemming(text):\n",
    "    return stemmer.stem(text)\n",
    "\n",
    "df['text'] = df['text'].progress_apply(stemming)\n",
    "df.head()"
   ]
  },
  {
   "cell_type": "code",
   "execution_count": 146,
   "id": "288ee4ff",
   "metadata": {},
   "outputs": [
    {
     "data": {
      "text/plain": [
       "text      0\n",
       "labels    0\n",
       "dtype: int64"
      ]
     },
     "execution_count": 146,
     "metadata": {},
     "output_type": "execute_result"
    }
   ],
   "source": [
    "#Cek missing value pada dataset\n",
    "df.isnull().sum()"
   ]
  },
  {
   "cell_type": "code",
   "execution_count": 147,
   "id": "c581b391",
   "metadata": {},
   "outputs": [
    {
     "data": {
      "application/vnd.jupyter.widget-view+json": {
       "model_id": "c762e64a963c471795eea4af03af4c30",
       "version_major": 2,
       "version_minor": 0
      },
      "text/plain": [
       "  0%|          | 0/14192 [00:00<?, ?it/s]"
      ]
     },
     "metadata": {},
     "output_type": "display_data"
    },
    {
     "data": {
      "text/html": [
       "<div>\n",
       "<style scoped>\n",
       "    .dataframe tbody tr th:only-of-type {\n",
       "        vertical-align: middle;\n",
       "    }\n",
       "\n",
       "    .dataframe tbody tr th {\n",
       "        vertical-align: top;\n",
       "    }\n",
       "\n",
       "    .dataframe thead th {\n",
       "        text-align: right;\n",
       "    }\n",
       "</style>\n",
       "<table border=\"1\" class=\"dataframe\">\n",
       "  <thead>\n",
       "    <tr style=\"text-align: right;\">\n",
       "      <th></th>\n",
       "      <th>text</th>\n",
       "      <th>labels</th>\n",
       "    </tr>\n",
       "  </thead>\n",
       "  <tbody>\n",
       "    <tr>\n",
       "      <th>0</th>\n",
       "      <td>wood kenapa tidak berani sumpah taruh krnlo cu...</td>\n",
       "      <td>1</td>\n",
       "    </tr>\n",
       "    <tr>\n",
       "      <th>1</th>\n",
       "      <td>haha somad somad muka dekil otak tidak malu ak...</td>\n",
       "      <td>1</td>\n",
       "    </tr>\n",
       "    <tr>\n",
       "      <th>2</th>\n",
       "      <td>haha kaum sableng kalau berita mereka buta tuli</td>\n",
       "      <td>1</td>\n",
       "    </tr>\n",
       "    <tr>\n",
       "      <th>3</th>\n",
       "      <td>haha stres saja nih umat sableng dulu raja sal...</td>\n",
       "      <td>1</td>\n",
       "    </tr>\n",
       "    <tr>\n",
       "      <th>4</th>\n",
       "      <td>hidup psi partai sampah indonesia</td>\n",
       "      <td>1</td>\n",
       "    </tr>\n",
       "  </tbody>\n",
       "</table>\n",
       "</div>"
      ],
      "text/plain": [
       "                                                text  labels\n",
       "0  wood kenapa tidak berani sumpah taruh krnlo cu...       1\n",
       "1  haha somad somad muka dekil otak tidak malu ak...       1\n",
       "2    haha kaum sableng kalau berita mereka buta tuli       1\n",
       "3  haha stres saja nih umat sableng dulu raja sal...       1\n",
       "4                  hidup psi partai sampah indonesia       1"
      ]
     },
     "execution_count": 147,
     "metadata": {},
     "output_type": "execute_result"
    }
   ],
   "source": [
    "#hapus space berlebihan setelah stemming\n",
    "def poststemming(text):\n",
    "    text = re.sub(r'\\s+', ' ', text).strip()\n",
    "    return text\n",
    "df['text'] = df['text'].progress_apply(poststemming)\n",
    "df.head()"
   ]
  },
  {
   "cell_type": "code",
   "execution_count": 148,
   "id": "52b4bb54",
   "metadata": {},
   "outputs": [],
   "source": [
    "#simpan dataset hasil preprocessing\n",
    "df[['text', 'labels']].to_csv('datasetfinal.csv', index=False)"
   ]
  },
  {
   "cell_type": "markdown",
   "id": "dec151e6",
   "metadata": {},
   "source": [
    "------------------------------------------------------------------------------------------------------------------------------------------------------------------------------------------"
   ]
  },
  {
   "cell_type": "code",
   "execution_count": 5,
   "id": "2618826b",
   "metadata": {},
   "outputs": [
    {
     "data": {
      "text/plain": [
       "text      21\n",
       "labels     0\n",
       "dtype: int64"
      ]
     },
     "execution_count": 5,
     "metadata": {},
     "output_type": "execute_result"
    }
   ],
   "source": [
    "#cek dataset kembali sesudah preprocessing\n",
    "df = pd.read_csv('datasetfinal.csv', encoding='utf-8')\n",
    "\n",
    "#cek kembali missing value pada dataset setelah stemming pada pre-processing\n",
    "df.isnull().sum()"
   ]
  },
  {
   "cell_type": "code",
   "execution_count": 6,
   "id": "e2828b94",
   "metadata": {},
   "outputs": [],
   "source": [
    "df.dropna(subset=['text'], inplace=True)"
   ]
  },
  {
   "cell_type": "code",
   "execution_count": 7,
   "id": "dea68174",
   "metadata": {},
   "outputs": [
    {
     "data": {
      "text/plain": [
       "text      0\n",
       "labels    0\n",
       "dtype: int64"
      ]
     },
     "execution_count": 7,
     "metadata": {},
     "output_type": "execute_result"
    }
   ],
   "source": [
    "#cek kembali missing value \n",
    "df.isnull().sum()"
   ]
  },
  {
   "cell_type": "code",
   "execution_count": 8,
   "id": "8b614afd",
   "metadata": {},
   "outputs": [],
   "source": [
    "#simpan dataset yang telah difix\n",
    "df[['text', 'labels']].to_csv('datasetfinal.csv', index=False)"
   ]
  },
  {
   "cell_type": "markdown",
   "id": "c84ef3e7",
   "metadata": {},
   "source": [
    "---------------------------------------------------------------------------------------------------------------------------------------------------------------------------------------------------------------------------------"
   ]
  },
  {
   "cell_type": "code",
   "execution_count": 4,
   "id": "d927bd61",
   "metadata": {},
   "outputs": [
    {
     "name": "stdout",
     "output_type": "stream",
     "text": [
      "Kolom dalam dataset: ['text', 'labels']\n",
      "Jumlah data: 14171\n",
      "labels\n",
      "0    8237\n",
      "1    5934\n",
      "Name: count, dtype: int64\n"
     ]
    },
    {
     "data": {
      "text/html": [
       "<div>\n",
       "<style scoped>\n",
       "    .dataframe tbody tr th:only-of-type {\n",
       "        vertical-align: middle;\n",
       "    }\n",
       "\n",
       "    .dataframe tbody tr th {\n",
       "        vertical-align: top;\n",
       "    }\n",
       "\n",
       "    .dataframe thead th {\n",
       "        text-align: right;\n",
       "    }\n",
       "</style>\n",
       "<table border=\"1\" class=\"dataframe\">\n",
       "  <thead>\n",
       "    <tr style=\"text-align: right;\">\n",
       "      <th></th>\n",
       "      <th>text</th>\n",
       "      <th>labels</th>\n",
       "    </tr>\n",
       "  </thead>\n",
       "  <tbody>\n",
       "    <tr>\n",
       "      <th>0</th>\n",
       "      <td>wood kenapa tidak berani sumpah taruh krnlo cu...</td>\n",
       "      <td>1</td>\n",
       "    </tr>\n",
       "    <tr>\n",
       "      <th>1</th>\n",
       "      <td>haha somad somad muka dekil otak tidak malu ak...</td>\n",
       "      <td>1</td>\n",
       "    </tr>\n",
       "    <tr>\n",
       "      <th>2</th>\n",
       "      <td>haha kaum sableng kalau berita mereka buta tuli</td>\n",
       "      <td>1</td>\n",
       "    </tr>\n",
       "    <tr>\n",
       "      <th>3</th>\n",
       "      <td>haha stres saja nih umat sableng dulu raja sal...</td>\n",
       "      <td>1</td>\n",
       "    </tr>\n",
       "    <tr>\n",
       "      <th>4</th>\n",
       "      <td>hidup psi partai sampah indonesia</td>\n",
       "      <td>1</td>\n",
       "    </tr>\n",
       "  </tbody>\n",
       "</table>\n",
       "</div>"
      ],
      "text/plain": [
       "                                                text  labels\n",
       "0  wood kenapa tidak berani sumpah taruh krnlo cu...       1\n",
       "1  haha somad somad muka dekil otak tidak malu ak...       1\n",
       "2    haha kaum sableng kalau berita mereka buta tuli       1\n",
       "3  haha stres saja nih umat sableng dulu raja sal...       1\n",
       "4                  hidup psi partai sampah indonesia       1"
      ]
     },
     "execution_count": 4,
     "metadata": {},
     "output_type": "execute_result"
    }
   ],
   "source": [
    "#Load dataset\n",
    "df = pd.read_csv('datasetfinal.csv', usecols=['text', 'labels'], encoding='utf-8')\n",
    "print(\"Kolom dalam dataset:\", df.columns.tolist())\n",
    "print(\"Jumlah data:\", len(df))\n",
    "print(df['labels'].value_counts())\n",
    "df.head()"
   ]
  },
  {
   "cell_type": "code",
   "execution_count": 5,
   "id": "e659faf3",
   "metadata": {},
   "outputs": [],
   "source": [
    "# Mengurangi jumlah hate speech menjadi 10% dari jumlah non-hate speech untuk revisi 1\n",
    "# Pisahkan berdasarkan label\n",
    "non_hate_df = df[df['labels'] == 0]\n",
    "hate_df = df[df['labels'] == 1]\n",
    "\n",
    "# Hitung 10% dari jumlah non-hate speech\n",
    "target_hate_count = int(0.1 * len(non_hate_df))\n",
    "\n",
    "# Ambil sampel dari hate speech\n",
    "reduced_hate_df = hate_df.sample(n=target_hate_count, random_state=42)\n",
    "\n",
    "# Gabungkan kembali\n",
    "balanced_df = pd.concat([non_hate_df, reduced_hate_df])\n",
    "\n",
    "# Acak ulang dataset\n",
    "balanced_df = balanced_df.sample(frac=1, random_state=42).reset_index(drop=True)\n",
    "\n",
    "# Simpan hasilnya ke CSV baru (opsional)\n",
    "balanced_df.to_csv(\"dataset_reduced.csv\", index=False)\n"
   ]
  },
  {
   "cell_type": "markdown",
   "id": "9f884c7a",
   "metadata": {},
   "source": [
    "---------------------------------------------------------------------------------------------------------------------------------------------------------------------------------------------------------------------------------"
   ]
  },
  {
   "cell_type": "code",
   "execution_count": 2,
   "id": "1635f78c",
   "metadata": {},
   "outputs": [
    {
     "name": "stdout",
     "output_type": "stream",
     "text": [
      "Kolom dalam dataset: ['text', 'labels']\n",
      "Jumlah data: 14171\n",
      "labels\n",
      "0    8237\n",
      "1    5934\n",
      "Name: count, dtype: int64\n"
     ]
    },
    {
     "data": {
      "text/html": [
       "<div>\n",
       "<style scoped>\n",
       "    .dataframe tbody tr th:only-of-type {\n",
       "        vertical-align: middle;\n",
       "    }\n",
       "\n",
       "    .dataframe tbody tr th {\n",
       "        vertical-align: top;\n",
       "    }\n",
       "\n",
       "    .dataframe thead th {\n",
       "        text-align: right;\n",
       "    }\n",
       "</style>\n",
       "<table border=\"1\" class=\"dataframe\">\n",
       "  <thead>\n",
       "    <tr style=\"text-align: right;\">\n",
       "      <th></th>\n",
       "      <th>text</th>\n",
       "      <th>labels</th>\n",
       "    </tr>\n",
       "  </thead>\n",
       "  <tbody>\n",
       "    <tr>\n",
       "      <th>0</th>\n",
       "      <td>wood kenapa tidak berani sumpah taruh krnlo cu...</td>\n",
       "      <td>1</td>\n",
       "    </tr>\n",
       "    <tr>\n",
       "      <th>1</th>\n",
       "      <td>haha somad somad muka dekil otak tidak malu ak...</td>\n",
       "      <td>1</td>\n",
       "    </tr>\n",
       "    <tr>\n",
       "      <th>2</th>\n",
       "      <td>haha kaum sableng kalau berita mereka buta tuli</td>\n",
       "      <td>1</td>\n",
       "    </tr>\n",
       "    <tr>\n",
       "      <th>3</th>\n",
       "      <td>haha stres saja nih umat sableng dulu raja sal...</td>\n",
       "      <td>1</td>\n",
       "    </tr>\n",
       "    <tr>\n",
       "      <th>4</th>\n",
       "      <td>hidup psi partai sampah indonesia</td>\n",
       "      <td>1</td>\n",
       "    </tr>\n",
       "  </tbody>\n",
       "</table>\n",
       "</div>"
      ],
      "text/plain": [
       "                                                text  labels\n",
       "0  wood kenapa tidak berani sumpah taruh krnlo cu...       1\n",
       "1  haha somad somad muka dekil otak tidak malu ak...       1\n",
       "2    haha kaum sableng kalau berita mereka buta tuli       1\n",
       "3  haha stres saja nih umat sableng dulu raja sal...       1\n",
       "4                  hidup psi partai sampah indonesia       1"
      ]
     },
     "execution_count": 2,
     "metadata": {},
     "output_type": "execute_result"
    }
   ],
   "source": [
    "#Load dataset\n",
    "df = pd.read_csv('datasetfinal.csv', usecols=['text', 'labels'], encoding='utf-8')\n",
    "print(\"Kolom dalam dataset:\", df.columns.tolist())\n",
    "print(\"Jumlah data:\", len(df))\n",
    "print(df['labels'].value_counts())\n",
    "df.head()"
   ]
  },
  {
   "cell_type": "code",
   "execution_count": 6,
   "id": "4afc05fa",
   "metadata": {},
   "outputs": [],
   "source": [
    "# Mengurangi jumlah hate speech menjadi 10% dari jumlah non-hate speech untuk revisi 1\n",
    "# Pisahkan berdasarkan label\n",
    "non_hate_df = df[df['labels'] == 0]\n",
    "hate_df = df[df['labels'] == 1]\n",
    "\n",
    "# Hitung 10% dari jumlah non-hate speech\n",
    "target_hate_count = int(0.3 * len(non_hate_df))\n",
    "\n",
    "# Ambil sampel dari hate speech\n",
    "reduced_hate_df = hate_df.sample(n=target_hate_count, random_state=42)\n",
    "\n",
    "# Gabungkan kembali\n",
    "balanced_df = pd.concat([non_hate_df, reduced_hate_df])\n",
    "\n",
    "# Acak ulang dataset\n",
    "balanced_df = balanced_df.sample(frac=1, random_state=42).reset_index(drop=True)\n",
    "\n",
    "# Simpan hasilnya ke CSV baru (opsional)\n",
    "balanced_df.to_csv(\"dataset_reduced_30.csv\", index=False)"
   ]
  }
 ],
 "metadata": {
  "kernelspec": {
   "display_name": "base",
   "language": "python",
   "name": "python3"
  },
  "language_info": {
   "codemirror_mode": {
    "name": "ipython",
    "version": 3
   },
   "file_extension": ".py",
   "mimetype": "text/x-python",
   "name": "python",
   "nbconvert_exporter": "python",
   "pygments_lexer": "ipython3",
   "version": "3.12.7"
  }
 },
 "nbformat": 4,
 "nbformat_minor": 5
}
