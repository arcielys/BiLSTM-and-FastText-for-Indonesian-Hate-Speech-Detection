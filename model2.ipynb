{
 "cells": [
  {
   "cell_type": "code",
   "execution_count": 1,
   "id": "12c7b7f2",
   "metadata": {},
   "outputs": [],
   "source": [
    "#load library yang dibutuhkan\n",
    "import pandas as pd\n",
    "import numpy as np\n",
    "import matplotlib.pyplot as plt\n",
    "import seaborn as sns\n",
    "import fasttext\n",
    "import tensorflow as tf\n",
    "\n",
    "from sklearn.model_selection import train_test_split, StratifiedKFold\n",
    "from sklearn.metrics import classification_report, confusion_matrix, accuracy_score, precision_score, recall_score, f1_score, ConfusionMatrixDisplay\n",
    "from tensorflow.keras.preprocessing.text import Tokenizer\n",
    "from tensorflow.keras.preprocessing.sequence import pad_sequences\n",
    "from tensorflow.keras.models import Sequential\n",
    "from tensorflow.keras.layers import Embedding, LSTM, Dense, Dropout, Bidirectional\n",
    "from tensorflow.keras.callbacks import EarlyStopping\n",
    "from imblearn.over_sampling import SMOTE, ADASYN, RandomOverSampler\n",
    "from collections import Counter\n",
    "from tqdm.auto import tqdm\n",
    "from nltk.corpus import stopwords\n",
    "tqdm.pandas()"
   ]
  },
  {
   "cell_type": "code",
   "execution_count": 2,
   "id": "6f0d4166",
   "metadata": {},
   "outputs": [
    {
     "data": {
      "text/html": [
       "<div>\n",
       "<style scoped>\n",
       "    .dataframe tbody tr th:only-of-type {\n",
       "        vertical-align: middle;\n",
       "    }\n",
       "\n",
       "    .dataframe tbody tr th {\n",
       "        vertical-align: top;\n",
       "    }\n",
       "\n",
       "    .dataframe thead th {\n",
       "        text-align: right;\n",
       "    }\n",
       "</style>\n",
       "<table border=\"1\" class=\"dataframe\">\n",
       "  <thead>\n",
       "    <tr style=\"text-align: right;\">\n",
       "      <th></th>\n",
       "      <th>text</th>\n",
       "      <th>labels</th>\n",
       "    </tr>\n",
       "  </thead>\n",
       "  <tbody>\n",
       "    <tr>\n",
       "      <th>0</th>\n",
       "      <td>wood kenapa tidak berani sumpah taruh krnlo cu...</td>\n",
       "      <td>1</td>\n",
       "    </tr>\n",
       "    <tr>\n",
       "      <th>1</th>\n",
       "      <td>haha somad somad muka dekil otak tidak malu ak...</td>\n",
       "      <td>1</td>\n",
       "    </tr>\n",
       "    <tr>\n",
       "      <th>2</th>\n",
       "      <td>haha kaum sableng kalau berita mereka buta tuli</td>\n",
       "      <td>1</td>\n",
       "    </tr>\n",
       "    <tr>\n",
       "      <th>3</th>\n",
       "      <td>haha stres saja nih umat sableng dulu raja sal...</td>\n",
       "      <td>1</td>\n",
       "    </tr>\n",
       "    <tr>\n",
       "      <th>4</th>\n",
       "      <td>hidup psi partai sampah indonesia</td>\n",
       "      <td>1</td>\n",
       "    </tr>\n",
       "  </tbody>\n",
       "</table>\n",
       "</div>"
      ],
      "text/plain": [
       "                                                text  labels\n",
       "0  wood kenapa tidak berani sumpah taruh krnlo cu...       1\n",
       "1  haha somad somad muka dekil otak tidak malu ak...       1\n",
       "2    haha kaum sableng kalau berita mereka buta tuli       1\n",
       "3  haha stres saja nih umat sableng dulu raja sal...       1\n",
       "4                  hidup psi partai sampah indonesia       1"
      ]
     },
     "execution_count": 2,
     "metadata": {},
     "output_type": "execute_result"
    }
   ],
   "source": [
    "#load dataset\n",
    "df = pd.read_csv('datasetfinal.csv', encoding = 'utf-8',)\n",
    "df.head()"
   ]
  },
  {
   "cell_type": "code",
   "execution_count": 3,
   "id": "26b65dba",
   "metadata": {},
   "outputs": [],
   "source": [
    "#pastikan tipe data pada kolom text dan labels\n",
    "df['text'] = df['text'].astype(str)\n",
    "df['labels'] = df['labels'].astype(int)"
   ]
  },
  {
   "cell_type": "code",
   "execution_count": 4,
   "id": "880b44f3",
   "metadata": {},
   "outputs": [
    {
     "data": {
      "image/png": "[encoded data removed]",
      "text/plain": [
       "<Figure size 640x480 with 1 Axes>"
      ]
     },
     "metadata": {},
     "output_type": "display_data"
    },
    {
     "data": {
      "text/plain": [
       "labels\n",
       "0    8237\n",
       "1    5934\n",
       "Name: count, dtype: int64"
      ]
     },
     "execution_count": 4,
     "metadata": {},
     "output_type": "execute_result"
    }
   ],
   "source": [
    "#lihat sebaran label pada dataset\n",
    "sns.countplot(x='labels', data=df)\n",
    "plt.title('Sebaran Label pada Dataset')\n",
    "plt.xlabel('Label')\n",
    "plt.ylabel('Jumlah')\n",
    "plt.show()\n",
    "#Cek jumlah data pada setiap label\n",
    "df['labels'].value_counts()"
   ]
  },
  {
   "cell_type": "markdown",
   "id": "ddee4414",
   "metadata": {},
   "source": [
    "***PERSIAPKAN WORD-EMBEDDING FASTTEXT***"
   ]
  },
  {
   "cell_type": "code",
   "execution_count": 5,
   "id": "e12530cc",
   "metadata": {},
   "outputs": [
    {
     "name": "stdout",
     "output_type": "stream",
     "text": [
      "300\n",
      "[-0.01407608  0.06523435  0.04372576  0.18425423  0.02241408 -0.11397391\n",
      " -0.04704365  0.02331188 -0.02006736 -0.05753721]\n"
     ]
    }
   ],
   "source": [
    "#load model pre-trained FastText\n",
    "model_path = 'cc.id.300.bin'\n",
    "\n",
    "import fasttext\n",
    "ft_model = fasttext.load_model(model_path)\n",
    "\n",
    "print(ft_model.get_dimension())  # Output: 300\n",
    "print(ft_model.get_word_vector(\"saya\")[:10])  # Cek vektor kata"
   ]
  },
  {
   "cell_type": "code",
   "execution_count": 6,
   "id": "7e093d05",
   "metadata": {},
   "outputs": [],
   "source": [
    "df = df.dropna(subset=['text'])"
   ]
  },
  {
   "cell_type": "code",
   "execution_count": 24,
   "id": "c0897e66",
   "metadata": {},
   "outputs": [
    {
     "name": "stdout",
     "output_type": "stream",
     "text": [
      "Jumlah kata unik dalam kamus: 13623\n",
      "Panjang maksimum urutan: 52\n"
     ]
    }
   ],
   "source": [
    "#definisikan X dan y\n",
    "X = df['text'].tolist()\n",
    "y = df['labels'].values\n",
    "\n",
    "#tokenisasi teks\n",
    "max_words = 20000\n",
    "tokenizer = Tokenizer(num_words=max_words, oov_token='<OOV>')\n",
    "tokenizer.fit_on_texts(X)\n",
    "\n",
    "word_index = tokenizer.word_index\n",
    "print(f\"Jumlah kata unik dalam kamus: {len(word_index)}\")\n",
    "\n",
    "# Mengonversi teks menjadi urutan indeks\n",
    "sequences = tokenizer.texts_to_sequences(X)\n",
    "\n",
    "# Padding urutan untuk memastikan panjang yang konsisten\n",
    "maxlen = max(len(seq) for seq in sequences)\n",
    "print(f\"Panjang maksimum urutan: {maxlen}\")\n",
    "\n",
    "# Padding urutan\n",
    "X_padded = pad_sequences(sequences, maxlen=maxlen, padding='post')"
   ]
  },
  {
   "cell_type": "code",
   "execution_count": 25,
   "id": "38d40225",
   "metadata": {},
   "outputs": [
    {
     "data": {
      "text/plain": [
       "Text(0.5, 1.0, 'Distribusi Panjang Teks')"
      ]
     },
     "execution_count": 25,
     "metadata": {},
     "output_type": "execute_result"
    },
    {
     "data": {
      "image/png": "[encoded data removed]",
      "text/plain": [
       "<Figure size 640x480 with 1 Axes>"
      ]
     },
     "metadata": {},
     "output_type": "display_data"
    }
   ],
   "source": [
    "#analisis distribusi panjang kata untuk maxlen\n",
    "plt.hist([len(seq) for seq in sequences], bins=50)\n",
    "plt.xlabel('Panjang Teks'); plt.ylabel('Jumlah'); plt.title('Distribusi Panjang Teks')"
   ]
  },
  {
   "cell_type": "code",
   "execution_count": 12,
   "id": "4dc18a35",
   "metadata": {},
   "outputs": [
    {
     "name": "stdout",
     "output_type": "stream",
     "text": [
      "Dimensi matriks embedding: (13624, 300)\n"
     ]
    }
   ],
   "source": [
    "# Membuat matriks embedding\n",
    "embedding_dim = ft_model.get_dimension()\n",
    "num_tokens = min(max_words, len(word_index) + 1)\n",
    "\n",
    "embedding_matrix = np.zeros((num_tokens, embedding_dim))\n",
    "words_not_found = 0\n",
    "\n",
    "embedding_matrix = np.zeros((num_tokens, embedding_dim))\n",
    "\n",
    "for word, i in word_index.items():\n",
    "    if i >= num_tokens:\n",
    "        continue\n",
    "    embedding_matrix[i] = ft_model.get_word_vector(word)\n",
    "\n",
    "print(f\"Dimensi matriks embedding: {embedding_matrix.shape}\")"
   ]
  },
  {
   "cell_type": "markdown",
   "id": "01314e93",
   "metadata": {},
   "source": [
    "***DEFINISIKAN ARSITEKTUR MODEL BiLSTM***"
   ]
  },
  {
   "cell_type": "code",
   "execution_count": null,
   "id": "b78ff2f7",
   "metadata": {},
   "outputs": [],
   "source": [
    "# Definisikan hyperparameter untuk model LSTM\n",
    "lstm_units = 128                                    # Jumlah unit LSTM\n",
    "dense_units = 64                                    # Jumlah unit pada lapisan dense\n",
    "dropout_rate = 0.5                                  # Tingkat dropout untuk regularisasi\n",
    "learning_rate = 0.001                               # Tingkat pembelajaran awal untuk optimizer Adam\n",
    "epochs = 10                                         # Jumlah epoch pelatihan\n",
    "batch_size = 64                                     # Ukuran batch untuk pelatihan"
   ]
  },
  {
   "cell_type": "code",
   "execution_count": 26,
   "id": "4d233650",
   "metadata": {},
   "outputs": [
    {
     "name": "stderr",
     "output_type": "stream",
     "text": [
      "c:\\Users\\Arciel\\anaconda3\\Lib\\site-packages\\keras\\src\\layers\\core\\embedding.py:90: UserWarning: Argument `input_length` is deprecated. Just remove it.\n",
      "  warnings.warn(\n"
     ]
    },
    {
     "data": {
      "text/html": [
       "<pre style=\"white-space:pre;overflow-x:auto;line-height:normal;font-family:Menlo,'DejaVu Sans Mono',consolas,'Courier New',monospace\"><span style=\"font-weight: bold\">Model: \"sequential_1\"</span>\n",
       "</pre>\n"
      ],
      "text/plain": [
       "\u001b[1mModel: \"sequential_1\"\u001b[0m\n"
      ]
     },
     "metadata": {},
     "output_type": "display_data"
    },
    {
     "data": {
      "text/html": [
       "<pre style=\"white-space:pre;overflow-x:auto;line-height:normal;font-family:Menlo,'DejaVu Sans Mono',consolas,'Courier New',monospace\">┏━━━━━━━━━━━━━━━━━━━━━━━━━━━━━━━━━┳━━━━━━━━━━━━━━━━━━━━━━━━┳━━━━━━━━━━━━━━━┓\n",
       "┃<span style=\"font-weight: bold\"> Layer (type)                    </span>┃<span style=\"font-weight: bold\"> Output Shape           </span>┃<span style=\"font-weight: bold\">       Param # </span>┃\n",
       "┡━━━━━━━━━━━━━━━━━━━━━━━━━━━━━━━━━╇━━━━━━━━━━━━━━━━━━━━━━━━╇━━━━━━━━━━━━━━━┩\n",
       "│ embedding_1 (<span style=\"color: #0087ff; text-decoration-color: #0087ff\">Embedding</span>)         │ (<span style=\"color: #00d7ff; text-decoration-color: #00d7ff\">None</span>, <span style=\"color: #00af00; text-decoration-color: #00af00\">52</span>, <span style=\"color: #00af00; text-decoration-color: #00af00\">300</span>)        │     <span style=\"color: #00af00; text-decoration-color: #00af00\">4,087,200</span> │\n",
       "├─────────────────────────────────┼────────────────────────┼───────────────┤\n",
       "│ bidirectional_1 (<span style=\"color: #0087ff; text-decoration-color: #0087ff\">Bidirectional</span>) │ (<span style=\"color: #00d7ff; text-decoration-color: #00d7ff\">None</span>, <span style=\"color: #00af00; text-decoration-color: #00af00\">256</span>)            │       <span style=\"color: #00af00; text-decoration-color: #00af00\">439,296</span> │\n",
       "├─────────────────────────────────┼────────────────────────┼───────────────┤\n",
       "│ dropout_2 (<span style=\"color: #0087ff; text-decoration-color: #0087ff\">Dropout</span>)             │ (<span style=\"color: #00d7ff; text-decoration-color: #00d7ff\">None</span>, <span style=\"color: #00af00; text-decoration-color: #00af00\">256</span>)            │             <span style=\"color: #00af00; text-decoration-color: #00af00\">0</span> │\n",
       "├─────────────────────────────────┼────────────────────────┼───────────────┤\n",
       "│ dense_2 (<span style=\"color: #0087ff; text-decoration-color: #0087ff\">Dense</span>)                 │ (<span style=\"color: #00d7ff; text-decoration-color: #00d7ff\">None</span>, <span style=\"color: #00af00; text-decoration-color: #00af00\">64</span>)             │        <span style=\"color: #00af00; text-decoration-color: #00af00\">16,448</span> │\n",
       "├─────────────────────────────────┼────────────────────────┼───────────────┤\n",
       "│ dropout_3 (<span style=\"color: #0087ff; text-decoration-color: #0087ff\">Dropout</span>)             │ (<span style=\"color: #00d7ff; text-decoration-color: #00d7ff\">None</span>, <span style=\"color: #00af00; text-decoration-color: #00af00\">64</span>)             │             <span style=\"color: #00af00; text-decoration-color: #00af00\">0</span> │\n",
       "├─────────────────────────────────┼────────────────────────┼───────────────┤\n",
       "│ dense_3 (<span style=\"color: #0087ff; text-decoration-color: #0087ff\">Dense</span>)                 │ (<span style=\"color: #00d7ff; text-decoration-color: #00d7ff\">None</span>, <span style=\"color: #00af00; text-decoration-color: #00af00\">1</span>)              │            <span style=\"color: #00af00; text-decoration-color: #00af00\">65</span> │\n",
       "└─────────────────────────────────┴────────────────────────┴───────────────┘\n",
       "</pre>\n"
      ],
      "text/plain": [
       "┏━━━━━━━━━━━━━━━━━━━━━━━━━━━━━━━━━┳━━━━━━━━━━━━━━━━━━━━━━━━┳━━━━━━━━━━━━━━━┓\n",
       "┃\u001b[1m \u001b[0m\u001b[1mLayer (type)                   \u001b[0m\u001b[1m \u001b[0m┃\u001b[1m \u001b[0m\u001b[1mOutput Shape          \u001b[0m\u001b[1m \u001b[0m┃\u001b[1m \u001b[0m\u001b[1m      Param #\u001b[0m\u001b[1m \u001b[0m┃\n",
       "┡━━━━━━━━━━━━━━━━━━━━━━━━━━━━━━━━━╇━━━━━━━━━━━━━━━━━━━━━━━━╇━━━━━━━━━━━━━━━┩\n",
       "│ embedding_1 (\u001b[38;5;33mEmbedding\u001b[0m)         │ (\u001b[38;5;45mNone\u001b[0m, \u001b[38;5;34m52\u001b[0m, \u001b[38;5;34m300\u001b[0m)        │     \u001b[38;5;34m4,087,200\u001b[0m │\n",
       "├─────────────────────────────────┼────────────────────────┼───────────────┤\n",
       "│ bidirectional_1 (\u001b[38;5;33mBidirectional\u001b[0m) │ (\u001b[38;5;45mNone\u001b[0m, \u001b[38;5;34m256\u001b[0m)            │       \u001b[38;5;34m439,296\u001b[0m │\n",
       "├─────────────────────────────────┼────────────────────────┼───────────────┤\n",
       "│ dropout_2 (\u001b[38;5;33mDropout\u001b[0m)             │ (\u001b[38;5;45mNone\u001b[0m, \u001b[38;5;34m256\u001b[0m)            │             \u001b[38;5;34m0\u001b[0m │\n",
       "├─────────────────────────────────┼────────────────────────┼───────────────┤\n",
       "│ dense_2 (\u001b[38;5;33mDense\u001b[0m)                 │ (\u001b[38;5;45mNone\u001b[0m, \u001b[38;5;34m64\u001b[0m)             │        \u001b[38;5;34m16,448\u001b[0m │\n",
       "├─────────────────────────────────┼────────────────────────┼───────────────┤\n",
       "│ dropout_3 (\u001b[38;5;33mDropout\u001b[0m)             │ (\u001b[38;5;45mNone\u001b[0m, \u001b[38;5;34m64\u001b[0m)             │             \u001b[38;5;34m0\u001b[0m │\n",
       "├─────────────────────────────────┼────────────────────────┼───────────────┤\n",
       "│ dense_3 (\u001b[38;5;33mDense\u001b[0m)                 │ (\u001b[38;5;45mNone\u001b[0m, \u001b[38;5;34m1\u001b[0m)              │            \u001b[38;5;34m65\u001b[0m │\n",
       "└─────────────────────────────────┴────────────────────────┴───────────────┘\n"
      ]
     },
     "metadata": {},
     "output_type": "display_data"
    },
    {
     "data": {
      "text/html": [
       "<pre style=\"white-space:pre;overflow-x:auto;line-height:normal;font-family:Menlo,'DejaVu Sans Mono',consolas,'Courier New',monospace\"><span style=\"font-weight: bold\"> Total params: </span><span style=\"color: #00af00; text-decoration-color: #00af00\">4,543,009</span> (17.33 MB)\n",
       "</pre>\n"
      ],
      "text/plain": [
       "\u001b[1m Total params: \u001b[0m\u001b[38;5;34m4,543,009\u001b[0m (17.33 MB)\n"
      ]
     },
     "metadata": {},
     "output_type": "display_data"
    },
    {
     "data": {
      "text/html": [
       "<pre style=\"white-space:pre;overflow-x:auto;line-height:normal;font-family:Menlo,'DejaVu Sans Mono',consolas,'Courier New',monospace\"><span style=\"font-weight: bold\"> Trainable params: </span><span style=\"color: #00af00; text-decoration-color: #00af00\">455,809</span> (1.74 MB)\n",
       "</pre>\n"
      ],
      "text/plain": [
       "\u001b[1m Trainable params: \u001b[0m\u001b[38;5;34m455,809\u001b[0m (1.74 MB)\n"
      ]
     },
     "metadata": {},
     "output_type": "display_data"
    },
    {
     "data": {
      "text/html": [
       "<pre style=\"white-space:pre;overflow-x:auto;line-height:normal;font-family:Menlo,'DejaVu Sans Mono',consolas,'Courier New',monospace\"><span style=\"font-weight: bold\"> Non-trainable params: </span><span style=\"color: #00af00; text-decoration-color: #00af00\">4,087,200</span> (15.59 MB)\n",
       "</pre>\n"
      ],
      "text/plain": [
       "\u001b[1m Non-trainable params: \u001b[0m\u001b[38;5;34m4,087,200\u001b[0m (15.59 MB)\n"
      ]
     },
     "metadata": {},
     "output_type": "display_data"
    }
   ],
   "source": [
    "# Bangun model LSTM\n",
    "def build_lstm_model(num_tokens, embedding_dim, maxlen, embedding_matrix, lstm_units, dense_units, dropout_rate):\n",
    "    model = Sequential()\n",
    "    \n",
    "    model.add(Embedding(input_dim=num_tokens,\n",
    "                        output_dim=embedding_dim, \n",
    "                        weights=[embedding_matrix], \n",
    "                        input_length=maxlen,\n",
    "                        trainable=False))\n",
    "    \n",
    "    #Lapisan BiLSTM untuk menangkap konteks dari kedua arah\n",
    "    model.add(Bidirectional(LSTM(lstm_units, return_sequences=False)))\n",
    "    model.add(Dropout(dropout_rate))  # Dropout untuk regularisasi\n",
    "\n",
    "    #Lapisan Dense dengan aktivasi ReLU\n",
    "    model.add(Dense(dense_units, activation='relu'))\n",
    "    model.add(Dropout(dropout_rate))  # Dropout untuk regularisasi\n",
    "\n",
    "    #Lapisan output dengan aktivasi sigmoid untuk klasifikasi biner\n",
    "    model.add(Dense(1, activation='sigmoid'))\n",
    "\n",
    "    return model\n",
    "\n",
    "# Inisialisasi model\n",
    "model = build_lstm_model(num_tokens, embedding_dim, maxlen, embedding_matrix, lstm_units, dense_units, dropout_rate)\n",
    "# Bangun model secara eksplisit dengan menentukan input_shape\n",
    "model.build(input_shape=(None, maxlen))\n",
    "model.summary()"
   ]
  },
  {
   "cell_type": "code",
   "execution_count": 27,
   "id": "2e99645d",
   "metadata": {},
   "outputs": [
    {
     "name": "stdout",
     "output_type": "stream",
     "text": [
      "Model telah dicompile.\n"
     ]
    }
   ],
   "source": [
    "# Compile model\n",
    "METRICS = ['accuracy',\n",
    "           tf.keras.metrics.Precision(name='precision'),\n",
    "           tf.keras.metrics.Recall(name='recall'),]\n",
    "\n",
    "optimizer = tf.keras.optimizers.Adam(learning_rate=learning_rate)\n",
    "model.compile(optimizer=optimizer,\n",
    "              loss='binary_crossentropy',\n",
    "              metrics=METRICS)\n",
    "print(\"Model telah dicompile.\")"
   ]
  },
  {
   "cell_type": "markdown",
   "id": "7c673582",
   "metadata": {},
   "source": [
    "***PELATIHAN DAN EVALUASI MODEL***"
   ]
  },
  {
   "cell_type": "code",
   "execution_count": 28,
   "id": "5fadaccc",
   "metadata": {},
   "outputs": [
    {
     "name": "stdout",
     "output_type": "stream",
     "text": [
      "Total data instances for Cross-Validation: 14171\n",
      "Overall data distribution for Cross-Validation: Counter({0: 8237, 1: 5934})\n"
     ]
    }
   ],
   "source": [
    "#Definisikan X dan y untuk model pelatihan dan evaluasi\n",
    "X_cv = X_padded\n",
    "y_cv = y\n",
    "\n",
    "print(f\"Total data instances for Cross-Validation: {len(X_cv)}\")\n",
    "print(f\"Overall data distribution for Cross-Validation: {Counter(y_cv)}\")"
   ]
  },
  {
   "cell_type": "code",
   "execution_count": null,
   "id": "6e700fc7",
   "metadata": {},
   "outputs": [],
   "source": [
    "#Definisikan Fungsi untuk Melatih dan Mengevaluasi Model pada Satu Fold\n",
    "def train_and_evaluate_single_fold(X_train_fold, y_train_fold, X_val_fold, y_val_fold, fold_idx, technique_name):\n",
    "    print(f\"\\n===== Training and Evaluating {technique_name} - Fold {fold_idx+1} =====\")\n",
    "    \n",
    "    # Rebuild model to ensure fresh weights for each fold\n",
    "    model = build_lstm_model(num_tokens, embedding_dim, maxlen, embedding_matrix, lstm_units, dense_units, dropout_rate)\n",
    "    model.build(input_shape=(None, maxlen)) # Pastikan model dibangun\n",
    "    \n",
    "    optimizer = tf.keras.optimizers.Adam(learning_rate=learning_rate)\n",
    "    # Metrik untuk kompilasi model di dalam fungsi ini\n",
    "    METRICS_FOLD = [\n",
    "        'accuracy',\n",
    "        tf.keras.metrics.Precision(name='precision'), # [8, 19]\n",
    "        tf.keras.metrics.Recall(name='recall'),       # [8, 19]\n",
    "    ]\n",
    "    model.compile(optimizer=optimizer, loss='binary_crossentropy', metrics=METRICS_FOLD)\n",
    "    \n",
    "    # Definisikan EarlyStopping callback\n",
    "    # Monitor 'val_F1ScoreCustom' dan mode='max' karena F1-Score harus dimaksimalkan [2, 5]\n",
    "    early_stopping = EarlyStopping(monitor='val_loss', patience=3, mode='min', restore_best_weights=True, verbose=1) # [2, 5]\n",
    "    \n",
    "    # Pastikan tipe data numerik yang benar untuk TensorFlow\n",
    "    X_train_fold = X_train_fold.astype(np.float32)\n",
    "    y_train_fold = y_train_fold.astype(np.int32)\n",
    "    X_val_fold = X_val_fold.astype(np.float32)\n",
    "    y_val_fold = y_val_fold.astype(np.int32)\n",
    "\n",
    "    # Train the model\n",
    "    history = model.fit(X_train_fold, y_train_fold,\n",
    "                        epochs=epochs,\n",
    "                        batch_size=batch_size,\n",
    "                        validation_data=(X_val_fold, y_val_fold), # Gunakan validation_data langsung [5]\n",
    "                        callbacks=[early_stopping], # Tambahkan callback EarlyStopping di sini\n",
    "                        verbose=1)\n",
    "    \n",
    "    # Make predictions on the validation fold\n",
    "    y_pred_prob = model.predict(X_val_fold)\n",
    "    y_pred = (y_pred_prob > 0.5).astype(int)\n",
    "\n",
    "    # Compute metrics for this fold\n",
    "    accuracy = accuracy_score(y_val_fold, y_pred)\n",
    "    precision = precision_score(y_val_fold, y_pred, zero_division=0)\n",
    "    recall = recall_score(y_val_fold, y_pred, zero_division=0)\n",
    "    f1 = f1_score(y_val_fold, y_pred, zero_division=0)\n",
    "    \n",
    "    print(f\"Fold {fold_idx+1} Metrics: Accuracy={accuracy:.4f}, Precision={precision:.4f}, Recall={recall:.4f}, F1-Score={f1:.4f}\")\n",
    "    \n",
    "    return {'accuracy': accuracy, 'precision': precision, 'recall': recall, 'f1_score': f1, 'y_true': y_val_fold, 'y_pred': y_pred}"
   ]
  },
  {
   "cell_type": "code",
   "execution_count": 30,
   "id": "50dd32f8",
   "metadata": {},
   "outputs": [
    {
     "name": "stdout",
     "output_type": "stream",
     "text": [
      "\n",
      "--- Starting 5-Fold Cross-Validation for Random Oversampling ---\n"
     ]
    },
    {
     "name": "stderr",
     "output_type": "stream",
     "text": [
      "  0%|          | 0/5 [00:00<?, ?it/s]"
     ]
    },
    {
     "name": "stdout",
     "output_type": "stream",
     "text": [
      "Fold 1 - Resampled training set distribution (Random Oversampling): Counter({1: 6589, 0: 6589})\n",
      "\n",
      "===== Training and Evaluating Random Oversampling - Fold 1 =====\n"
     ]
    },
    {
     "name": "stderr",
     "output_type": "stream",
     "text": [
      "c:\\Users\\Arciel\\anaconda3\\Lib\\site-packages\\keras\\src\\layers\\core\\embedding.py:90: UserWarning: Argument `input_length` is deprecated. Just remove it.\n",
      "  warnings.warn(\n"
     ]
    },
    {
     "name": "stdout",
     "output_type": "stream",
     "text": [
      "Epoch 1/10\n",
      "\u001b[1m206/206\u001b[0m \u001b[32m━━━━━━━━━━━━━━━━━━━━\u001b[0m\u001b[37m\u001b[0m \u001b[1m35s\u001b[0m 143ms/step - accuracy: 0.6528 - loss: 0.6171 - precision: 0.6590 - recall: 0.6287 - val_accuracy: 0.7379 - val_loss: 0.5125 - val_precision: 0.6832 - val_recall: 0.6976\n",
      "Epoch 2/10\n",
      "\u001b[1m206/206\u001b[0m \u001b[32m━━━━━━━━━━━━━━━━━━━━\u001b[0m\u001b[37m\u001b[0m \u001b[1m34s\u001b[0m 163ms/step - accuracy: 0.7734 - loss: 0.4841 - precision: 0.7639 - recall: 0.7907 - val_accuracy: 0.7587 - val_loss: 0.4919 - val_precision: 0.6762 - val_recall: 0.8130\n",
      "Epoch 3/10\n",
      "\u001b[1m206/206\u001b[0m \u001b[32m━━━━━━━━━━━━━━━━━━━━\u001b[0m\u001b[37m\u001b[0m \u001b[1m40s\u001b[0m 193ms/step - accuracy: 0.7864 - loss: 0.4580 - precision: 0.7713 - recall: 0.8099 - val_accuracy: 0.7661 - val_loss: 0.4775 - val_precision: 0.6853 - val_recall: 0.8163\n",
      "Epoch 4/10\n",
      "\u001b[1m206/206\u001b[0m \u001b[32m━━━━━━━━━━━━━━━━━━━━\u001b[0m\u001b[37m\u001b[0m \u001b[1m35s\u001b[0m 172ms/step - accuracy: 0.7999 - loss: 0.4356 - precision: 0.7870 - recall: 0.8271 - val_accuracy: 0.7665 - val_loss: 0.4834 - val_precision: 0.6761 - val_recall: 0.8492\n",
      "Epoch 5/10\n",
      "\u001b[1m206/206\u001b[0m \u001b[32m━━━━━━━━━━━━━━━━━━━━\u001b[0m\u001b[37m\u001b[0m \u001b[1m36s\u001b[0m 174ms/step - accuracy: 0.8060 - loss: 0.4190 - precision: 0.7877 - recall: 0.8407 - val_accuracy: 0.7852 - val_loss: 0.4744 - val_precision: 0.7400 - val_recall: 0.7506\n",
      "Epoch 6/10\n",
      "\u001b[1m206/206\u001b[0m \u001b[32m━━━━━━━━━━━━━━━━━━━━\u001b[0m\u001b[37m\u001b[0m \u001b[1m36s\u001b[0m 174ms/step - accuracy: 0.8208 - loss: 0.3981 - precision: 0.8063 - recall: 0.8402 - val_accuracy: 0.7781 - val_loss: 0.5581 - val_precision: 0.7430 - val_recall: 0.7186\n",
      "Epoch 7/10\n",
      "\u001b[1m206/206\u001b[0m \u001b[32m━━━━━━━━━━━━━━━━━━━━\u001b[0m\u001b[37m\u001b[0m \u001b[1m39s\u001b[0m 191ms/step - accuracy: 0.8270 - loss: 0.3856 - precision: 0.8090 - recall: 0.8623 - val_accuracy: 0.7721 - val_loss: 0.4740 - val_precision: 0.6872 - val_recall: 0.8366\n",
      "Epoch 8/10\n",
      "\u001b[1m206/206\u001b[0m \u001b[32m━━━━━━━━━━━━━━━━━━━━\u001b[0m\u001b[37m\u001b[0m \u001b[1m35s\u001b[0m 171ms/step - accuracy: 0.8275 - loss: 0.3833 - precision: 0.8053 - recall: 0.8642 - val_accuracy: 0.7820 - val_loss: 0.4768 - val_precision: 0.7016 - val_recall: 0.8340\n",
      "Epoch 9/10\n",
      "\u001b[1m206/206\u001b[0m \u001b[32m━━━━━━━━━━━━━━━━━━━━\u001b[0m\u001b[37m\u001b[0m \u001b[1m37s\u001b[0m 180ms/step - accuracy: 0.8395 - loss: 0.3542 - precision: 0.8216 - recall: 0.8709 - val_accuracy: 0.7686 - val_loss: 0.4807 - val_precision: 0.6755 - val_recall: 0.8610\n",
      "Epoch 10/10\n",
      "\u001b[1m206/206\u001b[0m \u001b[32m━━━━━━━━━━━━━━━━━━━━\u001b[0m\u001b[37m\u001b[0m \u001b[1m37s\u001b[0m 178ms/step - accuracy: 0.8442 - loss: 0.3505 - precision: 0.8227 - recall: 0.8782 - val_accuracy: 0.7711 - val_loss: 0.5270 - val_precision: 0.6754 - val_recall: 0.8728\n",
      "Epoch 10: early stopping\n",
      "Restoring model weights from the end of the best epoch: 7.\n",
      "\u001b[1m89/89\u001b[0m \u001b[32m━━━━━━━━━━━━━━━━━━━━\u001b[0m\u001b[37m\u001b[0m \u001b[1m4s\u001b[0m 36ms/step\n"
     ]
    },
    {
     "name": "stderr",
     "output_type": "stream",
     "text": [
      " 20%|██        | 1/5 [06:07<24:30, 367.54s/it]"
     ]
    },
    {
     "name": "stdout",
     "output_type": "stream",
     "text": [
      "Fold 1 Metrics: Accuracy=0.7721, Precision=0.6872, Recall=0.8366, F1-Score=0.7546\n",
      "Waktu untuk Random Oversampling: 367.54 detik\n",
      "Fold 2 - Resampled training set distribution (Random Oversampling): Counter({1: 6590, 0: 6590})\n",
      "\n",
      "===== Training and Evaluating Random Oversampling - Fold 2 =====\n"
     ]
    },
    {
     "name": "stderr",
     "output_type": "stream",
     "text": [
      "c:\\Users\\Arciel\\anaconda3\\Lib\\site-packages\\keras\\src\\layers\\core\\embedding.py:90: UserWarning: Argument `input_length` is deprecated. Just remove it.\n",
      "  warnings.warn(\n"
     ]
    },
    {
     "name": "stdout",
     "output_type": "stream",
     "text": [
      "Epoch 1/10\n",
      "\u001b[1m206/206\u001b[0m \u001b[32m━━━━━━━━━━━━━━━━━━━━\u001b[0m\u001b[37m\u001b[0m \u001b[1m40s\u001b[0m 173ms/step - accuracy: 0.6364 - loss: 0.6256 - precision: 0.6467 - recall: 0.5736 - val_accuracy: 0.7699 - val_loss: 0.4909 - val_precision: 0.7565 - val_recall: 0.6647\n",
      "Epoch 2/10\n",
      "\u001b[1m206/206\u001b[0m \u001b[32m━━━━━━━━━━━━━━━━━━━━\u001b[0m\u001b[37m\u001b[0m \u001b[1m35s\u001b[0m 170ms/step - accuracy: 0.7656 - loss: 0.4848 - precision: 0.7618 - recall: 0.7857 - val_accuracy: 0.7682 - val_loss: 0.4876 - val_precision: 0.6882 - val_recall: 0.8163\n",
      "Epoch 3/10\n",
      "\u001b[1m206/206\u001b[0m \u001b[32m━━━━━━━━━━━━━━━━━━━━\u001b[0m\u001b[37m\u001b[0m \u001b[1m36s\u001b[0m 175ms/step - accuracy: 0.7774 - loss: 0.4627 - precision: 0.7660 - recall: 0.8095 - val_accuracy: 0.7752 - val_loss: 0.4702 - val_precision: 0.7068 - val_recall: 0.7919\n",
      "Epoch 4/10\n",
      "\u001b[1m206/206\u001b[0m \u001b[32m━━━━━━━━━━━━━━━━━━━━\u001b[0m\u001b[37m\u001b[0m \u001b[1m35s\u001b[0m 169ms/step - accuracy: 0.7964 - loss: 0.4391 - precision: 0.7868 - recall: 0.8188 - val_accuracy: 0.7830 - val_loss: 0.4688 - val_precision: 0.7115 - val_recall: 0.8104\n",
      "Epoch 5/10\n",
      "\u001b[1m206/206\u001b[0m \u001b[32m━━━━━━━━━━━━━━━━━━━━\u001b[0m\u001b[37m\u001b[0m \u001b[1m35s\u001b[0m 170ms/step - accuracy: 0.8051 - loss: 0.4241 - precision: 0.7884 - recall: 0.8319 - val_accuracy: 0.7865 - val_loss: 0.4710 - val_precision: 0.7221 - val_recall: 0.7970\n",
      "Epoch 6/10\n",
      "\u001b[1m206/206\u001b[0m \u001b[32m━━━━━━━━━━━━━━━━━━━━\u001b[0m\u001b[37m\u001b[0m \u001b[1m34s\u001b[0m 166ms/step - accuracy: 0.8180 - loss: 0.3992 - precision: 0.8033 - recall: 0.8388 - val_accuracy: 0.7657 - val_loss: 0.4874 - val_precision: 0.6726 - val_recall: 0.8585\n",
      "Epoch 7/10\n",
      "\u001b[1m206/206\u001b[0m \u001b[32m━━━━━━━━━━━━━━━━━━━━\u001b[0m\u001b[37m\u001b[0m \u001b[1m36s\u001b[0m 175ms/step - accuracy: 0.8275 - loss: 0.3855 - precision: 0.8153 - recall: 0.8468 - val_accuracy: 0.7964 - val_loss: 0.4967 - val_precision: 0.7448 - val_recall: 0.7818\n",
      "Epoch 7: early stopping\n",
      "Restoring model weights from the end of the best epoch: 4.\n",
      "\u001b[1m89/89\u001b[0m \u001b[32m━━━━━━━━━━━━━━━━━━━━\u001b[0m\u001b[37m\u001b[0m \u001b[1m4s\u001b[0m 39ms/step\n"
     ]
    },
    {
     "name": "stderr",
     "output_type": "stream",
     "text": [
      " 40%|████      | 2/5 [10:23<15:05, 301.72s/it]"
     ]
    },
    {
     "name": "stdout",
     "output_type": "stream",
     "text": [
      "Fold 2 Metrics: Accuracy=0.7830, Precision=0.7115, Recall=0.8104, F1-Score=0.7578\n",
      "Waktu untuk Random Oversampling: 623.19 detik\n",
      "Fold 3 - Resampled training set distribution (Random Oversampling): Counter({1: 6590, 0: 6590})\n",
      "\n",
      "===== Training and Evaluating Random Oversampling - Fold 3 =====\n",
      "Epoch 1/10\n"
     ]
    },
    {
     "name": "stderr",
     "output_type": "stream",
     "text": [
      "c:\\Users\\Arciel\\anaconda3\\Lib\\site-packages\\keras\\src\\layers\\core\\embedding.py:90: UserWarning: Argument `input_length` is deprecated. Just remove it.\n",
      "  warnings.warn(\n"
     ]
    },
    {
     "name": "stdout",
     "output_type": "stream",
     "text": [
      "\u001b[1m206/206\u001b[0m \u001b[32m━━━━━━━━━━━━━━━━━━━━\u001b[0m\u001b[37m\u001b[0m \u001b[1m40s\u001b[0m 173ms/step - accuracy: 0.6391 - loss: 0.6226 - precision: 0.6306 - recall: 0.6607 - val_accuracy: 0.7519 - val_loss: 0.4961 - val_precision: 0.6930 - val_recall: 0.7321\n",
      "Epoch 2/10\n",
      "\u001b[1m206/206\u001b[0m \u001b[32m━━━━━━━━━━━━━━━━━━━━\u001b[0m\u001b[37m\u001b[0m \u001b[1m35s\u001b[0m 171ms/step - accuracy: 0.7643 - loss: 0.4904 - precision: 0.7564 - recall: 0.7805 - val_accuracy: 0.7646 - val_loss: 0.4901 - val_precision: 0.6920 - val_recall: 0.7894\n",
      "Epoch 3/10\n",
      "\u001b[1m206/206\u001b[0m \u001b[32m━━━━━━━━━━━━━━━━━━━━\u001b[0m\u001b[37m\u001b[0m \u001b[1m33s\u001b[0m 163ms/step - accuracy: 0.7890 - loss: 0.4562 - precision: 0.7832 - recall: 0.7998 - val_accuracy: 0.7650 - val_loss: 0.4878 - val_precision: 0.6945 - val_recall: 0.7835\n",
      "Epoch 4/10\n",
      "\u001b[1m206/206\u001b[0m \u001b[32m━━━━━━━━━━━━━━━━━━━━\u001b[0m\u001b[37m\u001b[0m \u001b[1m35s\u001b[0m 171ms/step - accuracy: 0.8003 - loss: 0.4315 - precision: 0.7970 - recall: 0.8122 - val_accuracy: 0.7668 - val_loss: 0.4772 - val_precision: 0.7426 - val_recall: 0.6782\n",
      "Epoch 5/10\n",
      "\u001b[1m206/206\u001b[0m \u001b[32m━━━━━━━━━━━━━━━━━━━━\u001b[0m\u001b[37m\u001b[0m \u001b[1m35s\u001b[0m 169ms/step - accuracy: 0.8103 - loss: 0.4055 - precision: 0.8053 - recall: 0.8208 - val_accuracy: 0.7784 - val_loss: 0.4625 - val_precision: 0.7135 - val_recall: 0.7869\n",
      "Epoch 6/10\n",
      "\u001b[1m206/206\u001b[0m \u001b[32m━━━━━━━━━━━━━━━━━━━━\u001b[0m\u001b[37m\u001b[0m \u001b[1m35s\u001b[0m 170ms/step - accuracy: 0.8188 - loss: 0.3950 - precision: 0.8074 - recall: 0.8359 - val_accuracy: 0.7830 - val_loss: 0.4712 - val_precision: 0.7180 - val_recall: 0.7936\n",
      "Epoch 7/10\n",
      "\u001b[1m206/206\u001b[0m \u001b[32m━━━━━━━━━━━━━━━━━━━━\u001b[0m\u001b[37m\u001b[0m \u001b[1m35s\u001b[0m 171ms/step - accuracy: 0.8256 - loss: 0.3812 - precision: 0.8126 - recall: 0.8471 - val_accuracy: 0.7812 - val_loss: 0.4725 - val_precision: 0.7210 - val_recall: 0.7793\n",
      "Epoch 8/10\n",
      "\u001b[1m206/206\u001b[0m \u001b[32m━━━━━━━━━━━━━━━━━━━━\u001b[0m\u001b[37m\u001b[0m \u001b[1m35s\u001b[0m 168ms/step - accuracy: 0.8398 - loss: 0.3620 - precision: 0.8269 - recall: 0.8621 - val_accuracy: 0.7763 - val_loss: 0.5146 - val_precision: 0.6932 - val_recall: 0.8357\n",
      "Epoch 8: early stopping\n",
      "Restoring model weights from the end of the best epoch: 5.\n",
      "\u001b[1m89/89\u001b[0m \u001b[32m━━━━━━━━━━━━━━━━━━━━\u001b[0m\u001b[37m\u001b[0m \u001b[1m4s\u001b[0m 41ms/step\n"
     ]
    },
    {
     "name": "stderr",
     "output_type": "stream",
     "text": [
      " 60%|██████    | 3/5 [15:11<09:51, 295.55s/it]"
     ]
    },
    {
     "name": "stdout",
     "output_type": "stream",
     "text": [
      "Fold 3 Metrics: Accuracy=0.7784, Precision=0.7135, Recall=0.7869, F1-Score=0.7484\n",
      "Waktu untuk Random Oversampling: 911.40 detik\n",
      "Fold 4 - Resampled training set distribution (Random Oversampling): Counter({1: 6590, 0: 6590})\n",
      "\n",
      "===== Training and Evaluating Random Oversampling - Fold 4 =====\n"
     ]
    },
    {
     "name": "stderr",
     "output_type": "stream",
     "text": [
      "c:\\Users\\Arciel\\anaconda3\\Lib\\site-packages\\keras\\src\\layers\\core\\embedding.py:90: UserWarning: Argument `input_length` is deprecated. Just remove it.\n",
      "  warnings.warn(\n"
     ]
    },
    {
     "name": "stdout",
     "output_type": "stream",
     "text": [
      "Epoch 1/10\n",
      "\u001b[1m206/206\u001b[0m \u001b[32m━━━━━━━━━━━━━━━━━━━━\u001b[0m\u001b[37m\u001b[0m \u001b[1m42s\u001b[0m 180ms/step - accuracy: 0.6420 - loss: 0.6272 - precision: 0.6579 - recall: 0.5343 - val_accuracy: 0.7657 - val_loss: 0.4883 - val_precision: 0.7149 - val_recall: 0.7329\n",
      "Epoch 2/10\n",
      "\u001b[1m206/206\u001b[0m \u001b[32m━━━━━━━━━━━━━━━━━━━━\u001b[0m\u001b[37m\u001b[0m \u001b[1m35s\u001b[0m 172ms/step - accuracy: 0.7640 - loss: 0.4954 - precision: 0.7529 - recall: 0.7761 - val_accuracy: 0.7805 - val_loss: 0.4678 - val_precision: 0.7287 - val_recall: 0.7582\n",
      "Epoch 3/10\n",
      "\u001b[1m206/206\u001b[0m \u001b[32m━━━━━━━━━━━━━━━━━━━━\u001b[0m\u001b[37m\u001b[0m \u001b[1m35s\u001b[0m 171ms/step - accuracy: 0.7830 - loss: 0.4632 - precision: 0.7799 - recall: 0.7902 - val_accuracy: 0.7872 - val_loss: 0.4512 - val_precision: 0.7500 - val_recall: 0.7380\n",
      "Epoch 4/10\n",
      "\u001b[1m206/206\u001b[0m \u001b[32m━━━━━━━━━━━━━━━━━━━━\u001b[0m\u001b[37m\u001b[0m \u001b[1m37s\u001b[0m 177ms/step - accuracy: 0.7957 - loss: 0.4349 - precision: 0.7874 - recall: 0.8097 - val_accuracy: 0.7900 - val_loss: 0.4513 - val_precision: 0.7539 - val_recall: 0.7405\n",
      "Epoch 5/10\n",
      "\u001b[1m206/206\u001b[0m \u001b[32m━━━━━━━━━━━━━━━━━━━━\u001b[0m\u001b[37m\u001b[0m \u001b[1m35s\u001b[0m 171ms/step - accuracy: 0.7943 - loss: 0.4332 - precision: 0.7904 - recall: 0.8035 - val_accuracy: 0.7858 - val_loss: 0.4520 - val_precision: 0.7778 - val_recall: 0.6841\n",
      "Epoch 6/10\n",
      "\u001b[1m206/206\u001b[0m \u001b[32m━━━━━━━━━━━━━━━━━━━━\u001b[0m\u001b[37m\u001b[0m \u001b[1m35s\u001b[0m 172ms/step - accuracy: 0.8189 - loss: 0.3950 - precision: 0.8137 - recall: 0.8183 - val_accuracy: 0.7936 - val_loss: 0.4426 - val_precision: 0.7963 - val_recall: 0.6816\n",
      "Epoch 7/10\n",
      "\u001b[1m206/206\u001b[0m \u001b[32m━━━━━━━━━━━━━━━━━━━━\u001b[0m\u001b[37m\u001b[0m \u001b[1m36s\u001b[0m 174ms/step - accuracy: 0.8275 - loss: 0.3839 - precision: 0.8249 - recall: 0.8353 - val_accuracy: 0.7978 - val_loss: 0.4554 - val_precision: 0.7358 - val_recall: 0.8071\n",
      "Epoch 8/10\n",
      "\u001b[1m206/206\u001b[0m \u001b[32m━━━━━━━━━━━━━━━━━━━━\u001b[0m\u001b[37m\u001b[0m \u001b[1m35s\u001b[0m 169ms/step - accuracy: 0.8341 - loss: 0.3735 - precision: 0.8256 - recall: 0.8527 - val_accuracy: 0.8003 - val_loss: 0.4539 - val_precision: 0.7851 - val_recall: 0.7203\n",
      "Epoch 9/10\n",
      "\u001b[1m206/206\u001b[0m \u001b[32m━━━━━━━━━━━━━━━━━━━━\u001b[0m\u001b[37m\u001b[0m \u001b[1m35s\u001b[0m 172ms/step - accuracy: 0.8415 - loss: 0.3559 - precision: 0.8313 - recall: 0.8562 - val_accuracy: 0.8010 - val_loss: 0.4508 - val_precision: 0.7398 - val_recall: 0.8096\n",
      "Epoch 9: early stopping\n",
      "Restoring model weights from the end of the best epoch: 6.\n",
      "\u001b[1m89/89\u001b[0m \u001b[32m━━━━━━━━━━━━━━━━━━━━\u001b[0m\u001b[37m\u001b[0m \u001b[1m5s\u001b[0m 47ms/step\n"
     ]
    },
    {
     "name": "stderr",
     "output_type": "stream",
     "text": [
      " 80%|████████  | 4/5 [20:42<05:09, 309.61s/it]"
     ]
    },
    {
     "name": "stdout",
     "output_type": "stream",
     "text": [
      "Fold 4 Metrics: Accuracy=0.7936, Precision=0.7963, Recall=0.6816, F1-Score=0.7345\n",
      "Waktu untuk Random Oversampling: 1242.55 detik\n",
      "Fold 5 - Resampled training set distribution (Random Oversampling): Counter({1: 6589, 0: 6589})\n",
      "\n",
      "===== Training and Evaluating Random Oversampling - Fold 5 =====\n",
      "Epoch 1/10\n"
     ]
    },
    {
     "name": "stderr",
     "output_type": "stream",
     "text": [
      "c:\\Users\\Arciel\\anaconda3\\Lib\\site-packages\\keras\\src\\layers\\core\\embedding.py:90: UserWarning: Argument `input_length` is deprecated. Just remove it.\n",
      "  warnings.warn(\n"
     ]
    },
    {
     "name": "stdout",
     "output_type": "stream",
     "text": [
      "\u001b[1m206/206\u001b[0m \u001b[32m━━━━━━━━━━━━━━━━━━━━\u001b[0m\u001b[37m\u001b[0m \u001b[1m39s\u001b[0m 167ms/step - accuracy: 0.6447 - loss: 0.6199 - precision: 0.6582 - recall: 0.5567 - val_accuracy: 0.7534 - val_loss: 0.4948 - val_precision: 0.6603 - val_recall: 0.8457\n",
      "Epoch 2/10\n",
      "\u001b[1m206/206\u001b[0m \u001b[32m━━━━━━━━━━━━━━━━━━━━\u001b[0m\u001b[37m\u001b[0m \u001b[1m36s\u001b[0m 177ms/step - accuracy: 0.7630 - loss: 0.5009 - precision: 0.7553 - recall: 0.7760 - val_accuracy: 0.7664 - val_loss: 0.4711 - val_precision: 0.6817 - val_recall: 0.8288\n",
      "Epoch 3/10\n",
      "\u001b[1m206/206\u001b[0m \u001b[32m━━━━━━━━━━━━━━━━━━━━\u001b[0m\u001b[37m\u001b[0m \u001b[1m36s\u001b[0m 176ms/step - accuracy: 0.7846 - loss: 0.4596 - precision: 0.7758 - recall: 0.7943 - val_accuracy: 0.7618 - val_loss: 0.4811 - val_precision: 0.6716 - val_recall: 0.8432\n",
      "Epoch 4/10\n",
      "\u001b[1m206/206\u001b[0m \u001b[32m━━━━━━━━━━━━━━━━━━━━\u001b[0m\u001b[37m\u001b[0m \u001b[1m36s\u001b[0m 174ms/step - accuracy: 0.8019 - loss: 0.4394 - precision: 0.7953 - recall: 0.8068 - val_accuracy: 0.7855 - val_loss: 0.4406 - val_precision: 0.7474 - val_recall: 0.7361\n",
      "Epoch 5/10\n",
      "\u001b[1m206/206\u001b[0m \u001b[32m━━━━━━━━━━━━━━━━━━━━\u001b[0m\u001b[37m\u001b[0m \u001b[1m36s\u001b[0m 175ms/step - accuracy: 0.7993 - loss: 0.4333 - precision: 0.7945 - recall: 0.8100 - val_accuracy: 0.7791 - val_loss: 0.4786 - val_precision: 0.6877 - val_recall: 0.8651\n",
      "Epoch 6/10\n",
      "\u001b[1m206/206\u001b[0m \u001b[32m━━━━━━━━━━━━━━━━━━━━\u001b[0m\u001b[37m\u001b[0m \u001b[1m34s\u001b[0m 163ms/step - accuracy: 0.8126 - loss: 0.4131 - precision: 0.7947 - recall: 0.8368 - val_accuracy: 0.7975 - val_loss: 0.4290 - val_precision: 0.7402 - val_recall: 0.7951\n",
      "Epoch 7/10\n",
      "\u001b[1m206/206\u001b[0m \u001b[32m━━━━━━━━━━━━━━━━━━━━\u001b[0m\u001b[37m\u001b[0m \u001b[1m37s\u001b[0m 177ms/step - accuracy: 0.8291 - loss: 0.3805 - precision: 0.8167 - recall: 0.8419 - val_accuracy: 0.7908 - val_loss: 0.4350 - val_precision: 0.7211 - val_recall: 0.8153\n",
      "Epoch 8/10\n",
      "\u001b[1m206/206\u001b[0m \u001b[32m━━━━━━━━━━━━━━━━━━━━\u001b[0m\u001b[37m\u001b[0m \u001b[1m37s\u001b[0m 179ms/step - accuracy: 0.8327 - loss: 0.3744 - precision: 0.8191 - recall: 0.8549 - val_accuracy: 0.7932 - val_loss: 0.4397 - val_precision: 0.7209 - val_recall: 0.8255\n",
      "Epoch 9/10\n",
      "\u001b[1m206/206\u001b[0m \u001b[32m━━━━━━━━━━━━━━━━━━━━\u001b[0m\u001b[37m\u001b[0m \u001b[1m36s\u001b[0m 175ms/step - accuracy: 0.8463 - loss: 0.3603 - precision: 0.8301 - recall: 0.8693 - val_accuracy: 0.7960 - val_loss: 0.4400 - val_precision: 0.7357 - val_recall: 0.8002\n",
      "Epoch 9: early stopping\n",
      "Restoring model weights from the end of the best epoch: 6.\n",
      "\u001b[1m89/89\u001b[0m \u001b[32m━━━━━━━━━━━━━━━━━━━━\u001b[0m\u001b[37m\u001b[0m \u001b[1m4s\u001b[0m 42ms/step\n"
     ]
    },
    {
     "name": "stderr",
     "output_type": "stream",
     "text": [
      "100%|██████████| 5/5 [26:13<00:00, 314.68s/it]\n"
     ]
    },
    {
     "name": "stdout",
     "output_type": "stream",
     "text": [
      "Fold 5 Metrics: Accuracy=0.7975, Precision=0.7402, Recall=0.7951, F1-Score=0.7667\n",
      "Waktu untuk Random Oversampling: 1573.40 detik\n",
      "\n",
      "Average Metrics for Random Oversampling across 5 folds:\n",
      "{'accuracy': 0.7849137520085532, 'precision': 0.7297411382565768, 'recall': 0.7821053259666624, 'f1_score': 0.7523710089409604, 'technique': 'Random Oversampling'}\n",
      "\n",
      "--- Starting 5-Fold Cross-Validation for SMOTE ---\n"
     ]
    },
    {
     "name": "stderr",
     "output_type": "stream",
     "text": [
      "  0%|          | 0/5 [00:00<?, ?it/s]"
     ]
    },
    {
     "name": "stdout",
     "output_type": "stream",
     "text": [
      "Fold 1 - Resampled training set distribution (SMOTE): Counter({1: 6589, 0: 6589})\n",
      "\n",
      "===== Training and Evaluating SMOTE - Fold 1 =====\n"
     ]
    },
    {
     "name": "stderr",
     "output_type": "stream",
     "text": [
      "c:\\Users\\Arciel\\anaconda3\\Lib\\site-packages\\keras\\src\\layers\\core\\embedding.py:90: UserWarning: Argument `input_length` is deprecated. Just remove it.\n",
      "  warnings.warn(\n"
     ]
    },
    {
     "name": "stdout",
     "output_type": "stream",
     "text": [
      "Epoch 1/10\n",
      "\u001b[1m206/206\u001b[0m \u001b[32m━━━━━━━━━━━━━━━━━━━━\u001b[0m\u001b[37m\u001b[0m \u001b[1m41s\u001b[0m 178ms/step - accuracy: 0.6033 - loss: 0.6472 - precision: 0.5908 - recall: 0.7152 - val_accuracy: 0.7460 - val_loss: 0.5219 - val_precision: 0.6919 - val_recall: 0.7094\n",
      "Epoch 2/10\n",
      "\u001b[1m206/206\u001b[0m \u001b[32m━━━━━━━━━━━━━━━━━━━━\u001b[0m\u001b[37m\u001b[0m \u001b[1m36s\u001b[0m 177ms/step - accuracy: 0.7290 - loss: 0.5420 - precision: 0.7228 - recall: 0.7280 - val_accuracy: 0.7422 - val_loss: 0.5098 - val_precision: 0.6492 - val_recall: 0.8357\n",
      "Epoch 3/10\n",
      "\u001b[1m206/206\u001b[0m \u001b[32m━━━━━━━━━━━━━━━━━━━━\u001b[0m\u001b[37m\u001b[0m \u001b[1m36s\u001b[0m 173ms/step - accuracy: 0.7475 - loss: 0.5133 - precision: 0.7386 - recall: 0.7751 - val_accuracy: 0.7711 - val_loss: 0.4755 - val_precision: 0.6961 - val_recall: 0.8045\n",
      "Epoch 4/10\n",
      "\u001b[1m206/206\u001b[0m \u001b[32m━━━━━━━━━━━━━━━━━━━━\u001b[0m\u001b[37m\u001b[0m \u001b[1m35s\u001b[0m 169ms/step - accuracy: 0.7737 - loss: 0.4785 - precision: 0.7685 - recall: 0.7833 - val_accuracy: 0.7616 - val_loss: 0.5020 - val_precision: 0.6754 - val_recall: 0.8290\n",
      "Epoch 5/10\n",
      "\u001b[1m206/206\u001b[0m \u001b[32m━━━━━━━━━━━━━━━━━━━━\u001b[0m\u001b[37m\u001b[0m \u001b[1m36s\u001b[0m 173ms/step - accuracy: 0.7838 - loss: 0.4577 - precision: 0.7776 - recall: 0.7940 - val_accuracy: 0.7192 - val_loss: 0.5367 - val_precision: 0.6109 - val_recall: 0.9073\n",
      "Epoch 6/10\n",
      "\u001b[1m206/206\u001b[0m \u001b[32m━━━━━━━━━━━━━━━━━━━━\u001b[0m\u001b[37m\u001b[0m \u001b[1m36s\u001b[0m 175ms/step - accuracy: 0.7902 - loss: 0.4518 - precision: 0.7830 - recall: 0.8009 - val_accuracy: 0.7633 - val_loss: 0.4849 - val_precision: 0.6715 - val_recall: 0.8509\n",
      "Epoch 6: early stopping\n",
      "Restoring model weights from the end of the best epoch: 3.\n",
      "\u001b[1m89/89\u001b[0m \u001b[32m━━━━━━━━━━━━━━━━━━━━\u001b[0m\u001b[37m\u001b[0m \u001b[1m3s\u001b[0m 32ms/step\n"
     ]
    },
    {
     "name": "stderr",
     "output_type": "stream",
     "text": [
      " 20%|██        | 1/5 [03:44<14:58, 224.62s/it]"
     ]
    },
    {
     "name": "stdout",
     "output_type": "stream",
     "text": [
      "Fold 1 Metrics: Accuracy=0.7711, Precision=0.6961, Recall=0.8045, F1-Score=0.7464\n",
      "Waktu untuk SMOTE: 224.62 detik\n",
      "Fold 2 - Resampled training set distribution (SMOTE): Counter({1: 6590, 0: 6590})\n",
      "\n",
      "===== Training and Evaluating SMOTE - Fold 2 =====\n",
      "Epoch 1/10\n"
     ]
    },
    {
     "name": "stderr",
     "output_type": "stream",
     "text": [
      "c:\\Users\\Arciel\\anaconda3\\Lib\\site-packages\\keras\\src\\layers\\core\\embedding.py:90: UserWarning: Argument `input_length` is deprecated. Just remove it.\n",
      "  warnings.warn(\n"
     ]
    },
    {
     "name": "stdout",
     "output_type": "stream",
     "text": [
      "\u001b[1m206/206\u001b[0m \u001b[32m━━━━━━━━━━━━━━━━━━━━\u001b[0m\u001b[37m\u001b[0m \u001b[1m42s\u001b[0m 181ms/step - accuracy: 0.6019 - loss: 0.6483 - precision: 0.6034 - recall: 0.5827 - val_accuracy: 0.7459 - val_loss: 0.5235 - val_precision: 0.6713 - val_recall: 0.7709\n",
      "Epoch 2/10\n",
      "\u001b[1m206/206\u001b[0m \u001b[32m━━━━━━━━━━━━━━━━━━━━\u001b[0m\u001b[37m\u001b[0m \u001b[1m36s\u001b[0m 177ms/step - accuracy: 0.7333 - loss: 0.5395 - precision: 0.7276 - recall: 0.7474 - val_accuracy: 0.7795 - val_loss: 0.4895 - val_precision: 0.7461 - val_recall: 0.7178\n",
      "Epoch 3/10\n",
      "\u001b[1m206/206\u001b[0m \u001b[32m━━━━━━━━━━━━━━━━━━━━\u001b[0m\u001b[37m\u001b[0m \u001b[1m35s\u001b[0m 168ms/step - accuracy: 0.7534 - loss: 0.5098 - precision: 0.7507 - recall: 0.7480 - val_accuracy: 0.7728 - val_loss: 0.4836 - val_precision: 0.7216 - val_recall: 0.7447\n",
      "Epoch 4/10\n",
      "\u001b[1m206/206\u001b[0m \u001b[32m━━━━━━━━━━━━━━━━━━━━\u001b[0m\u001b[37m\u001b[0m \u001b[1m36s\u001b[0m 174ms/step - accuracy: 0.7682 - loss: 0.4823 - precision: 0.7623 - recall: 0.7702 - val_accuracy: 0.7534 - val_loss: 0.4996 - val_precision: 0.6644 - val_recall: 0.8307\n",
      "Epoch 5/10\n",
      "\u001b[1m206/206\u001b[0m \u001b[32m━━━━━━━━━━━━━━━━━━━━\u001b[0m\u001b[37m\u001b[0m \u001b[1m35s\u001b[0m 169ms/step - accuracy: 0.7804 - loss: 0.4651 - precision: 0.7740 - recall: 0.7940 - val_accuracy: 0.7632 - val_loss: 0.4939 - val_precision: 0.6856 - val_recall: 0.8029\n",
      "Epoch 6/10\n",
      "\u001b[1m206/206\u001b[0m \u001b[32m━━━━━━━━━━━━━━━━━━━━\u001b[0m\u001b[37m\u001b[0m \u001b[1m33s\u001b[0m 160ms/step - accuracy: 0.7892 - loss: 0.4499 - precision: 0.7854 - recall: 0.7975 - val_accuracy: 0.7650 - val_loss: 0.5077 - val_precision: 0.6764 - val_recall: 0.8416\n",
      "Epoch 6: early stopping\n",
      "Restoring model weights from the end of the best epoch: 3.\n",
      "\u001b[1m89/89\u001b[0m \u001b[32m━━━━━━━━━━━━━━━━━━━━\u001b[0m\u001b[37m\u001b[0m \u001b[1m4s\u001b[0m 41ms/step\n"
     ]
    },
    {
     "name": "stderr",
     "output_type": "stream",
     "text": [
      " 40%|████      | 2/5 [07:25<11:08, 222.67s/it]"
     ]
    },
    {
     "name": "stdout",
     "output_type": "stream",
     "text": [
      "Fold 2 Metrics: Accuracy=0.7728, Precision=0.7216, Recall=0.7447, F1-Score=0.7330\n",
      "Waktu untuk SMOTE: 445.93 detik\n",
      "Fold 3 - Resampled training set distribution (SMOTE): Counter({1: 6590, 0: 6590})\n",
      "\n",
      "===== Training and Evaluating SMOTE - Fold 3 =====\n",
      "Epoch 1/10\n"
     ]
    },
    {
     "name": "stderr",
     "output_type": "stream",
     "text": [
      "c:\\Users\\Arciel\\anaconda3\\Lib\\site-packages\\keras\\src\\layers\\core\\embedding.py:90: UserWarning: Argument `input_length` is deprecated. Just remove it.\n",
      "  warnings.warn(\n"
     ]
    },
    {
     "name": "stdout",
     "output_type": "stream",
     "text": [
      "\u001b[1m206/206\u001b[0m \u001b[32m━━━━━━━━━━━━━━━━━━━━\u001b[0m\u001b[37m\u001b[0m \u001b[1m40s\u001b[0m 174ms/step - accuracy: 0.6109 - loss: 0.6400 - precision: 0.6000 - recall: 0.7076 - val_accuracy: 0.7378 - val_loss: 0.5258 - val_precision: 0.6462 - val_recall: 0.8265\n",
      "Epoch 2/10\n",
      "\u001b[1m206/206\u001b[0m \u001b[32m━━━━━━━━━━━━━━━━━━━━\u001b[0m\u001b[37m\u001b[0m \u001b[1m34s\u001b[0m 167ms/step - accuracy: 0.7301 - loss: 0.5379 - precision: 0.7315 - recall: 0.7312 - val_accuracy: 0.7565 - val_loss: 0.4933 - val_precision: 0.6861 - val_recall: 0.7717\n",
      "Epoch 3/10\n",
      "\u001b[1m206/206\u001b[0m \u001b[32m━━━━━━━━━━━━━━━━━━━━\u001b[0m\u001b[37m\u001b[0m \u001b[1m34s\u001b[0m 167ms/step - accuracy: 0.7524 - loss: 0.5004 - precision: 0.7519 - recall: 0.7466 - val_accuracy: 0.7703 - val_loss: 0.4770 - val_precision: 0.6923 - val_recall: 0.8130\n",
      "Epoch 4/10\n",
      "\u001b[1m206/206\u001b[0m \u001b[32m━━━━━━━━━━━━━━━━━━━━\u001b[0m\u001b[37m\u001b[0m \u001b[1m34s\u001b[0m 167ms/step - accuracy: 0.7773 - loss: 0.4697 - precision: 0.7704 - recall: 0.7852 - val_accuracy: 0.7491 - val_loss: 0.5226 - val_precision: 0.6467 - val_recall: 0.8837\n",
      "Epoch 5/10\n",
      "\u001b[1m206/206\u001b[0m \u001b[32m━━━━━━━━━━━━━━━━━━━━\u001b[0m\u001b[37m\u001b[0m \u001b[1m35s\u001b[0m 171ms/step - accuracy: 0.7829 - loss: 0.4613 - precision: 0.7808 - recall: 0.7927 - val_accuracy: 0.7664 - val_loss: 0.4770 - val_precision: 0.6912 - val_recall: 0.7995\n",
      "Epoch 6/10\n",
      "\u001b[1m206/206\u001b[0m \u001b[32m━━━━━━━━━━━━━━━━━━━━\u001b[0m\u001b[37m\u001b[0m \u001b[1m36s\u001b[0m 175ms/step - accuracy: 0.7929 - loss: 0.4418 - precision: 0.7925 - recall: 0.8022 - val_accuracy: 0.7802 - val_loss: 0.4619 - val_precision: 0.7133 - val_recall: 0.7944\n",
      "Epoch 7/10\n",
      "\u001b[1m206/206\u001b[0m \u001b[32m━━━━━━━━━━━━━━━━━━━━\u001b[0m\u001b[37m\u001b[0m \u001b[1m36s\u001b[0m 174ms/step - accuracy: 0.8065 - loss: 0.4203 - precision: 0.8011 - recall: 0.8216 - val_accuracy: 0.7858 - val_loss: 0.4588 - val_precision: 0.7224 - val_recall: 0.7936\n",
      "Epoch 8/10\n",
      "\u001b[1m206/206\u001b[0m \u001b[32m━━━━━━━━━━━━━━━━━━━━\u001b[0m\u001b[37m\u001b[0m \u001b[1m34s\u001b[0m 165ms/step - accuracy: 0.8163 - loss: 0.4047 - precision: 0.8114 - recall: 0.8258 - val_accuracy: 0.7671 - val_loss: 0.4912 - val_precision: 0.6690 - val_recall: 0.8787\n",
      "Epoch 9/10\n",
      "\u001b[1m206/206\u001b[0m \u001b[32m━━━━━━━━━━━━━━━━━━━━\u001b[0m\u001b[37m\u001b[0m \u001b[1m34s\u001b[0m 167ms/step - accuracy: 0.8213 - loss: 0.3921 - precision: 0.8073 - recall: 0.8434 - val_accuracy: 0.7858 - val_loss: 0.4649 - val_precision: 0.7126 - val_recall: 0.8189\n",
      "Epoch 10/10\n",
      "\u001b[1m206/206\u001b[0m \u001b[32m━━━━━━━━━━━━━━━━━━━━\u001b[0m\u001b[37m\u001b[0m \u001b[1m34s\u001b[0m 166ms/step - accuracy: 0.8242 - loss: 0.3845 - precision: 0.8143 - recall: 0.8336 - val_accuracy: 0.7943 - val_loss: 0.4666 - val_precision: 0.7352 - val_recall: 0.7953\n",
      "Epoch 10: early stopping\n",
      "Restoring model weights from the end of the best epoch: 7.\n",
      "\u001b[1m89/89\u001b[0m \u001b[32m━━━━━━━━━━━━━━━━━━━━\u001b[0m\u001b[37m\u001b[0m \u001b[1m4s\u001b[0m 40ms/step\n"
     ]
    },
    {
     "name": "stderr",
     "output_type": "stream",
     "text": [
      " 60%|██████    | 3/5 [13:24<09:29, 284.85s/it]"
     ]
    },
    {
     "name": "stdout",
     "output_type": "stream",
     "text": [
      "Fold 3 Metrics: Accuracy=0.7858, Precision=0.7224, Recall=0.7936, F1-Score=0.7563\n",
      "Waktu untuk SMOTE: 804.76 detik\n",
      "Fold 4 - Resampled training set distribution (SMOTE): Counter({1: 6590, 0: 6590})\n",
      "\n",
      "===== Training and Evaluating SMOTE - Fold 4 =====\n"
     ]
    },
    {
     "name": "stderr",
     "output_type": "stream",
     "text": [
      "c:\\Users\\Arciel\\anaconda3\\Lib\\site-packages\\keras\\src\\layers\\core\\embedding.py:90: UserWarning: Argument `input_length` is deprecated. Just remove it.\n",
      "  warnings.warn(\n"
     ]
    },
    {
     "name": "stdout",
     "output_type": "stream",
     "text": [
      "Epoch 1/10\n",
      "\u001b[1m206/206\u001b[0m \u001b[32m━━━━━━━━━━━━━━━━━━━━\u001b[0m\u001b[37m\u001b[0m \u001b[1m46s\u001b[0m 195ms/step - accuracy: 0.6060 - loss: 0.6482 - precision: 0.6040 - recall: 0.5809 - val_accuracy: 0.7301 - val_loss: 0.5728 - val_precision: 0.6643 - val_recall: 0.7186\n",
      "Epoch 2/10\n",
      "\u001b[1m206/206\u001b[0m \u001b[32m━━━━━━━━━━━━━━━━━━━━\u001b[0m\u001b[37m\u001b[0m \u001b[1m39s\u001b[0m 190ms/step - accuracy: 0.7182 - loss: 0.5597 - precision: 0.7205 - recall: 0.7129 - val_accuracy: 0.7668 - val_loss: 0.4794 - val_precision: 0.6868 - val_recall: 0.8147\n",
      "Epoch 3/10\n",
      "\u001b[1m206/206\u001b[0m \u001b[32m━━━━━━━━━━━━━━━━━━━━\u001b[0m\u001b[37m\u001b[0m \u001b[1m39s\u001b[0m 188ms/step - accuracy: 0.7494 - loss: 0.5104 - precision: 0.7433 - recall: 0.7625 - val_accuracy: 0.7615 - val_loss: 0.4919 - val_precision: 0.6704 - val_recall: 0.8467\n",
      "Epoch 4/10\n",
      "\u001b[1m206/206\u001b[0m \u001b[32m━━━━━━━━━━━━━━━━━━━━\u001b[0m\u001b[37m\u001b[0m \u001b[1m38s\u001b[0m 186ms/step - accuracy: 0.7605 - loss: 0.4882 - precision: 0.7505 - recall: 0.7720 - val_accuracy: 0.7576 - val_loss: 0.4845 - val_precision: 0.6621 - val_recall: 0.8602\n",
      "Epoch 5/10\n",
      "\u001b[1m206/206\u001b[0m \u001b[32m━━━━━━━━━━━━━━━━━━━━\u001b[0m\u001b[37m\u001b[0m \u001b[1m41s\u001b[0m 201ms/step - accuracy: 0.7812 - loss: 0.4594 - precision: 0.7765 - recall: 0.7907 - val_accuracy: 0.7724 - val_loss: 0.4648 - val_precision: 0.6854 - val_recall: 0.8441\n",
      "Epoch 6/10\n",
      "\u001b[1m206/206\u001b[0m \u001b[32m━━━━━━━━━━━━━━━━━━━━\u001b[0m\u001b[37m\u001b[0m \u001b[1m39s\u001b[0m 187ms/step - accuracy: 0.7869 - loss: 0.4442 - precision: 0.7795 - recall: 0.8016 - val_accuracy: 0.7519 - val_loss: 0.5004 - val_precision: 0.6576 - val_recall: 0.8509\n",
      "Epoch 7/10\n",
      "\u001b[1m206/206\u001b[0m \u001b[32m━━━━━━━━━━━━━━━━━━━━\u001b[0m\u001b[37m\u001b[0m \u001b[1m40s\u001b[0m 195ms/step - accuracy: 0.7917 - loss: 0.4334 - precision: 0.7849 - recall: 0.8023 - val_accuracy: 0.7752 - val_loss: 0.4673 - val_precision: 0.6945 - val_recall: 0.8273\n",
      "Epoch 8/10\n",
      "\u001b[1m206/206\u001b[0m \u001b[32m━━━━━━━━━━━━━━━━━━━━\u001b[0m\u001b[37m\u001b[0m \u001b[1m41s\u001b[0m 199ms/step - accuracy: 0.8136 - loss: 0.4074 - precision: 0.8061 - recall: 0.8265 - val_accuracy: 0.7890 - val_loss: 0.4434 - val_precision: 0.7335 - val_recall: 0.7793\n",
      "Epoch 9/10\n",
      "\u001b[1m206/206\u001b[0m \u001b[32m━━━━━━━━━━━━━━━━━━━━\u001b[0m\u001b[37m\u001b[0m \u001b[1m39s\u001b[0m 190ms/step - accuracy: 0.8159 - loss: 0.4038 - precision: 0.8075 - recall: 0.8297 - val_accuracy: 0.7908 - val_loss: 0.4746 - val_precision: 0.7384 - val_recall: 0.7751\n",
      "Epoch 10/10\n",
      "\u001b[1m206/206\u001b[0m \u001b[32m━━━━━━━━━━━━━━━━━━━━\u001b[0m\u001b[37m\u001b[0m \u001b[1m45s\u001b[0m 220ms/step - accuracy: 0.8247 - loss: 0.3845 - precision: 0.8182 - recall: 0.8324 - val_accuracy: 0.7837 - val_loss: 0.4730 - val_precision: 0.6993 - val_recall: 0.8484\n",
      "Restoring model weights from the end of the best epoch: 8.\n",
      "\u001b[1m89/89\u001b[0m \u001b[32m━━━━━━━━━━━━━━━━━━━━\u001b[0m\u001b[37m\u001b[0m \u001b[1m4s\u001b[0m 43ms/step\n"
     ]
    },
    {
     "name": "stderr",
     "output_type": "stream",
     "text": [
      " 80%|████████  | 4/5 [20:18<05:35, 335.66s/it]"
     ]
    },
    {
     "name": "stdout",
     "output_type": "stream",
     "text": [
      "Fold 4 Metrics: Accuracy=0.7890, Precision=0.7335, Recall=0.7793, F1-Score=0.7557\n",
      "Waktu untuk SMOTE: 1218.32 detik\n",
      "Fold 5 - Resampled training set distribution (SMOTE): Counter({1: 6589, 0: 6589})\n",
      "\n",
      "===== Training and Evaluating SMOTE - Fold 5 =====\n"
     ]
    },
    {
     "name": "stderr",
     "output_type": "stream",
     "text": [
      "c:\\Users\\Arciel\\anaconda3\\Lib\\site-packages\\keras\\src\\layers\\core\\embedding.py:90: UserWarning: Argument `input_length` is deprecated. Just remove it.\n",
      "  warnings.warn(\n"
     ]
    },
    {
     "name": "stdout",
     "output_type": "stream",
     "text": [
      "Epoch 1/10\n",
      "\u001b[1m206/206\u001b[0m \u001b[32m━━━━━━━━━━━━━━━━━━━━\u001b[0m\u001b[37m\u001b[0m \u001b[1m47s\u001b[0m 204ms/step - accuracy: 0.6088 - loss: 0.6456 - precision: 0.6128 - recall: 0.6212 - val_accuracy: 0.7590 - val_loss: 0.5130 - val_precision: 0.7228 - val_recall: 0.6880\n",
      "Epoch 2/10\n",
      "\u001b[1m206/206\u001b[0m \u001b[32m━━━━━━━━━━━━━━━━━━━━\u001b[0m\u001b[37m\u001b[0m \u001b[1m40s\u001b[0m 194ms/step - accuracy: 0.7272 - loss: 0.5450 - precision: 0.7300 - recall: 0.7269 - val_accuracy: 0.7710 - val_loss: 0.4917 - val_precision: 0.7461 - val_recall: 0.6863\n",
      "Epoch 3/10\n",
      "\u001b[1m206/206\u001b[0m \u001b[32m━━━━━━━━━━━━━━━━━━━━\u001b[0m\u001b[37m\u001b[0m \u001b[1m39s\u001b[0m 189ms/step - accuracy: 0.7369 - loss: 0.5272 - precision: 0.7411 - recall: 0.7290 - val_accuracy: 0.7802 - val_loss: 0.4775 - val_precision: 0.6945 - val_recall: 0.8474\n",
      "Epoch 4/10\n",
      "\u001b[1m206/206\u001b[0m \u001b[32m━━━━━━━━━━━━━━━━━━━━\u001b[0m\u001b[37m\u001b[0m \u001b[1m41s\u001b[0m 200ms/step - accuracy: 0.7578 - loss: 0.5011 - precision: 0.7638 - recall: 0.7508 - val_accuracy: 0.7897 - val_loss: 0.4436 - val_precision: 0.7364 - val_recall: 0.7749\n",
      "Epoch 5/10\n",
      "\u001b[1m206/206\u001b[0m \u001b[32m━━━━━━━━━━━━━━━━━━━━\u001b[0m\u001b[37m\u001b[0m \u001b[1m38s\u001b[0m 185ms/step - accuracy: 0.7686 - loss: 0.4727 - precision: 0.7641 - recall: 0.7695 - val_accuracy: 0.7925 - val_loss: 0.4409 - val_precision: 0.7245 - val_recall: 0.8137\n",
      "Epoch 6/10\n",
      "\u001b[1m206/206\u001b[0m \u001b[32m━━━━━━━━━━━━━━━━━━━━\u001b[0m\u001b[37m\u001b[0m \u001b[1m40s\u001b[0m 197ms/step - accuracy: 0.7856 - loss: 0.4555 - precision: 0.7814 - recall: 0.7982 - val_accuracy: 0.7872 - val_loss: 0.4507 - val_precision: 0.6998 - val_recall: 0.8609\n",
      "Epoch 7/10\n",
      "\u001b[1m206/206\u001b[0m \u001b[32m━━━━━━━━━━━━━━━━━━━━\u001b[0m\u001b[37m\u001b[0m \u001b[1m39s\u001b[0m 189ms/step - accuracy: 0.7986 - loss: 0.4279 - precision: 0.7918 - recall: 0.8038 - val_accuracy: 0.7936 - val_loss: 0.4391 - val_precision: 0.8026 - val_recall: 0.6720\n",
      "Epoch 8/10\n",
      "\u001b[1m206/206\u001b[0m \u001b[32m━━━━━━━━━━━━━━━━━━━━\u001b[0m\u001b[37m\u001b[0m \u001b[1m39s\u001b[0m 188ms/step - accuracy: 0.8009 - loss: 0.4264 - precision: 0.8017 - recall: 0.7983 - val_accuracy: 0.7982 - val_loss: 0.4260 - val_precision: 0.7277 - val_recall: 0.8272\n",
      "Epoch 9/10\n",
      "\u001b[1m206/206\u001b[0m \u001b[32m━━━━━━━━━━━━━━━━━━━━\u001b[0m\u001b[37m\u001b[0m \u001b[1m40s\u001b[0m 196ms/step - accuracy: 0.8165 - loss: 0.3982 - precision: 0.8064 - recall: 0.8349 - val_accuracy: 0.7922 - val_loss: 0.4460 - val_precision: 0.7066 - val_recall: 0.8609\n",
      "Epoch 10/10\n",
      "\u001b[1m206/206\u001b[0m \u001b[32m━━━━━━━━━━━━━━━━━━━━\u001b[0m\u001b[37m\u001b[0m \u001b[1m39s\u001b[0m 191ms/step - accuracy: 0.8237 - loss: 0.3856 - precision: 0.8140 - recall: 0.8318 - val_accuracy: 0.7918 - val_loss: 0.4519 - val_precision: 0.7129 - val_recall: 0.8415\n",
      "Restoring model weights from the end of the best epoch: 8.\n",
      "\u001b[1m89/89\u001b[0m \u001b[32m━━━━━━━━━━━━━━━━━━━━\u001b[0m\u001b[37m\u001b[0m \u001b[1m5s\u001b[0m 53ms/step\n"
     ]
    },
    {
     "name": "stderr",
     "output_type": "stream",
     "text": [
      "100%|██████████| 5/5 [27:08<00:00, 325.61s/it]\n"
     ]
    },
    {
     "name": "stdout",
     "output_type": "stream",
     "text": [
      "Fold 5 Metrics: Accuracy=0.7982, Precision=0.7277, Recall=0.8272, F1-Score=0.7743\n",
      "Waktu untuk SMOTE: 1628.06 detik\n",
      "\n",
      "Average Metrics for SMOTE across 5 folds:\n",
      "{'accuracy': 0.7833612508230245, 'precision': 0.7202758087742283, 'recall': 0.7898613563747797, 'f1_score': 0.7531397220585336, 'technique': 'SMOTE'}\n",
      "\n",
      "--- Starting 5-Fold Cross-Validation for ADASYN ---\n"
     ]
    },
    {
     "name": "stderr",
     "output_type": "stream",
     "text": [
      "  0%|          | 0/5 [00:00<?, ?it/s]"
     ]
    },
    {
     "name": "stdout",
     "output_type": "stream",
     "text": [
      "Fold 1 - Resampled training set distribution (ADASYN): Counter({0: 6589, 1: 5852})\n",
      "\n",
      "===== Training and Evaluating ADASYN - Fold 1 =====\n",
      "Epoch 1/10\n"
     ]
    },
    {
     "name": "stderr",
     "output_type": "stream",
     "text": [
      "c:\\Users\\Arciel\\anaconda3\\Lib\\site-packages\\keras\\src\\layers\\core\\embedding.py:90: UserWarning: Argument `input_length` is deprecated. Just remove it.\n",
      "  warnings.warn(\n"
     ]
    },
    {
     "name": "stdout",
     "output_type": "stream",
     "text": [
      "\u001b[1m195/195\u001b[0m \u001b[32m━━━━━━━━━━━━━━━━━━━━\u001b[0m\u001b[37m\u001b[0m \u001b[1m42s\u001b[0m 191ms/step - accuracy: 0.6197 - loss: 0.6412 - precision: 0.6338 - recall: 0.3836 - val_accuracy: 0.7439 - val_loss: 0.5197 - val_precision: 0.6929 - val_recall: 0.6976\n",
      "Epoch 2/10\n",
      "\u001b[1m195/195\u001b[0m \u001b[32m━━━━━━━━━━━━━━━━━━━━\u001b[0m\u001b[37m\u001b[0m \u001b[1m36s\u001b[0m 184ms/step - accuracy: 0.7344 - loss: 0.5364 - precision: 0.7143 - recall: 0.7356 - val_accuracy: 0.7573 - val_loss: 0.4952 - val_precision: 0.6817 - val_recall: 0.7885\n",
      "Epoch 3/10\n",
      "\u001b[1m195/195\u001b[0m \u001b[32m━━━━━━━━━━━━━━━━━━━━\u001b[0m\u001b[37m\u001b[0m \u001b[1m37s\u001b[0m 190ms/step - accuracy: 0.7451 - loss: 0.5150 - precision: 0.7391 - recall: 0.7141 - val_accuracy: 0.7534 - val_loss: 0.4976 - val_precision: 0.6642 - val_recall: 0.8315\n",
      "Epoch 4/10\n",
      "\u001b[1m195/195\u001b[0m \u001b[32m━━━━━━━━━━━━━━━━━━━━\u001b[0m\u001b[37m\u001b[0m \u001b[1m37s\u001b[0m 190ms/step - accuracy: 0.7721 - loss: 0.4798 - precision: 0.7589 - recall: 0.7709 - val_accuracy: 0.7566 - val_loss: 0.4885 - val_precision: 0.6632 - val_recall: 0.8509\n",
      "Epoch 5/10\n",
      "\u001b[1m195/195\u001b[0m \u001b[32m━━━━━━━━━━━━━━━━━━━━\u001b[0m\u001b[37m\u001b[0m \u001b[1m37s\u001b[0m 189ms/step - accuracy: 0.7867 - loss: 0.4585 - precision: 0.7708 - recall: 0.7754 - val_accuracy: 0.7810 - val_loss: 0.4653 - val_precision: 0.7084 - val_recall: 0.8104\n",
      "Epoch 6/10\n",
      "\u001b[1m195/195\u001b[0m \u001b[32m━━━━━━━━━━━━━━━━━━━━\u001b[0m\u001b[37m\u001b[0m \u001b[1m37s\u001b[0m 188ms/step - accuracy: 0.7913 - loss: 0.4499 - precision: 0.7856 - recall: 0.7622 - val_accuracy: 0.7284 - val_loss: 0.5793 - val_precision: 0.6195 - val_recall: 0.9107\n",
      "Epoch 7/10\n",
      "\u001b[1m195/195\u001b[0m \u001b[32m━━━━━━━━━━━━━━━━━━━━\u001b[0m\u001b[37m\u001b[0m \u001b[1m37s\u001b[0m 188ms/step - accuracy: 0.7990 - loss: 0.4323 - precision: 0.7790 - recall: 0.7942 - val_accuracy: 0.7510 - val_loss: 0.5055 - val_precision: 0.6469 - val_recall: 0.8922\n",
      "Epoch 8/10\n",
      "\u001b[1m195/195\u001b[0m \u001b[32m━━━━━━━━━━━━━━━━━━━━\u001b[0m\u001b[37m\u001b[0m \u001b[1m38s\u001b[0m 193ms/step - accuracy: 0.8024 - loss: 0.4248 - precision: 0.7811 - recall: 0.8181 - val_accuracy: 0.7905 - val_loss: 0.4793 - val_precision: 0.7241 - val_recall: 0.8071\n",
      "Epoch 8: early stopping\n",
      "Restoring model weights from the end of the best epoch: 5.\n",
      "\u001b[1m89/89\u001b[0m \u001b[32m━━━━━━━━━━━━━━━━━━━━\u001b[0m\u001b[37m\u001b[0m \u001b[1m4s\u001b[0m 43ms/step\n"
     ]
    },
    {
     "name": "stderr",
     "output_type": "stream",
     "text": [
      " 20%|██        | 1/5 [05:06<20:26, 306.65s/it]"
     ]
    },
    {
     "name": "stdout",
     "output_type": "stream",
     "text": [
      "Fold 1 Metrics: Accuracy=0.7810, Precision=0.7084, Recall=0.8104, F1-Score=0.7560\n",
      "Waktu untuk ADASYN: 306.65 detik\n",
      "Fold 2 - Resampled training set distribution (ADASYN): Counter({0: 6590, 1: 5839})\n",
      "\n",
      "===== Training and Evaluating ADASYN - Fold 2 =====\n",
      "Epoch 1/10\n"
     ]
    },
    {
     "name": "stderr",
     "output_type": "stream",
     "text": [
      "c:\\Users\\Arciel\\anaconda3\\Lib\\site-packages\\keras\\src\\layers\\core\\embedding.py:90: UserWarning: Argument `input_length` is deprecated. Just remove it.\n",
      "  warnings.warn(\n"
     ]
    },
    {
     "name": "stdout",
     "output_type": "stream",
     "text": [
      "\u001b[1m195/195\u001b[0m \u001b[32m━━━━━━━━━━━━━━━━━━━━\u001b[0m\u001b[37m\u001b[0m \u001b[1m43s\u001b[0m 195ms/step - accuracy: 0.6266 - loss: 0.6395 - precision: 0.6319 - recall: 0.4915 - val_accuracy: 0.7721 - val_loss: 0.5112 - val_precision: 0.7099 - val_recall: 0.7709\n",
      "Epoch 2/10\n",
      "\u001b[1m195/195\u001b[0m \u001b[32m━━━━━━━━━━━━━━━━━━━━\u001b[0m\u001b[37m\u001b[0m \u001b[1m36s\u001b[0m 186ms/step - accuracy: 0.7398 - loss: 0.5289 - precision: 0.7231 - recall: 0.7298 - val_accuracy: 0.7819 - val_loss: 0.4779 - val_precision: 0.7285 - val_recall: 0.7641\n",
      "Epoch 3/10\n",
      "\u001b[1m195/195\u001b[0m \u001b[32m━━━━━━━━━━━━━━━━━━━━\u001b[0m\u001b[37m\u001b[0m \u001b[1m37s\u001b[0m 191ms/step - accuracy: 0.7542 - loss: 0.5073 - precision: 0.7428 - recall: 0.7296 - val_accuracy: 0.7459 - val_loss: 0.5342 - val_precision: 0.6486 - val_recall: 0.8585\n",
      "Epoch 4/10\n",
      "\u001b[1m195/195\u001b[0m \u001b[32m━━━━━━━━━━━━━━━━━━━━\u001b[0m\u001b[37m\u001b[0m \u001b[1m36s\u001b[0m 185ms/step - accuracy: 0.7781 - loss: 0.4664 - precision: 0.7618 - recall: 0.7642 - val_accuracy: 0.7841 - val_loss: 0.4671 - val_precision: 0.7255 - val_recall: 0.7793\n",
      "Epoch 5/10\n",
      "\u001b[1m195/195\u001b[0m \u001b[32m━━━━━━━━━━━━━━━━━━━━\u001b[0m\u001b[37m\u001b[0m \u001b[1m37s\u001b[0m 188ms/step - accuracy: 0.7922 - loss: 0.4440 - precision: 0.7831 - recall: 0.7748 - val_accuracy: 0.7883 - val_loss: 0.4570 - val_precision: 0.7448 - val_recall: 0.7523\n",
      "Epoch 6/10\n",
      "\u001b[1m195/195\u001b[0m \u001b[32m━━━━━━━━━━━━━━━━━━━━\u001b[0m\u001b[37m\u001b[0m \u001b[1m37s\u001b[0m 189ms/step - accuracy: 0.8033 - loss: 0.4344 - precision: 0.7887 - recall: 0.7872 - val_accuracy: 0.7883 - val_loss: 0.4724 - val_precision: 0.7218 - val_recall: 0.8045\n",
      "Epoch 7/10\n",
      "\u001b[1m195/195\u001b[0m \u001b[32m━━━━━━━━━━━━━━━━━━━━\u001b[0m\u001b[37m\u001b[0m \u001b[1m45s\u001b[0m 234ms/step - accuracy: 0.7925 - loss: 0.4349 - precision: 0.7792 - recall: 0.7810 - val_accuracy: 0.7890 - val_loss: 0.4682 - val_precision: 0.7385 - val_recall: 0.7683\n",
      "Epoch 8/10\n",
      "\u001b[1m195/195\u001b[0m \u001b[32m━━━━━━━━━━━━━━━━━━━━\u001b[0m\u001b[37m\u001b[0m \u001b[1m41s\u001b[0m 211ms/step - accuracy: 0.8157 - loss: 0.4013 - precision: 0.8039 - recall: 0.7998 - val_accuracy: 0.7851 - val_loss: 0.4772 - val_precision: 0.7125 - val_recall: 0.8163\n",
      "Epoch 8: early stopping\n",
      "Restoring model weights from the end of the best epoch: 5.\n",
      "\u001b[1m89/89\u001b[0m \u001b[32m━━━━━━━━━━━━━━━━━━━━\u001b[0m\u001b[37m\u001b[0m \u001b[1m5s\u001b[0m 54ms/step\n"
     ]
    },
    {
     "name": "stderr",
     "output_type": "stream",
     "text": [
      " 40%|████      | 2/5 [10:26<15:43, 314.64s/it]"
     ]
    },
    {
     "name": "stdout",
     "output_type": "stream",
     "text": [
      "Fold 2 Metrics: Accuracy=0.7883, Precision=0.7448, Recall=0.7523, F1-Score=0.7485\n",
      "Waktu untuk ADASYN: 626.88 detik\n",
      "Fold 3 - Resampled training set distribution (ADASYN): Counter({0: 6590, 1: 5895})\n",
      "\n",
      "===== Training and Evaluating ADASYN - Fold 3 =====\n"
     ]
    },
    {
     "name": "stderr",
     "output_type": "stream",
     "text": [
      "c:\\Users\\Arciel\\anaconda3\\Lib\\site-packages\\keras\\src\\layers\\core\\embedding.py:90: UserWarning: Argument `input_length` is deprecated. Just remove it.\n",
      "  warnings.warn(\n"
     ]
    },
    {
     "name": "stdout",
     "output_type": "stream",
     "text": [
      "Epoch 1/10\n",
      "\u001b[1m196/196\u001b[0m \u001b[32m━━━━━━━━━━━━━━━━━━━━\u001b[0m\u001b[37m\u001b[0m \u001b[1m50s\u001b[0m 224ms/step - accuracy: 0.6032 - loss: 0.6432 - precision: 0.6071 - recall: 0.4279 - val_accuracy: 0.7290 - val_loss: 0.5428 - val_precision: 0.6280 - val_recall: 0.8660\n",
      "Epoch 2/10\n",
      "\u001b[1m196/196\u001b[0m \u001b[32m━━━━━━━━━━━━━━━━━━━━\u001b[0m\u001b[37m\u001b[0m \u001b[1m37s\u001b[0m 187ms/step - accuracy: 0.7443 - loss: 0.5270 - precision: 0.7257 - recall: 0.7292 - val_accuracy: 0.7565 - val_loss: 0.5115 - val_precision: 0.6764 - val_recall: 0.8029\n",
      "Epoch 3/10\n",
      "\u001b[1m196/196\u001b[0m \u001b[32m━━━━━━━━━━━━━━━━━━━━\u001b[0m\u001b[37m\u001b[0m \u001b[1m38s\u001b[0m 193ms/step - accuracy: 0.7604 - loss: 0.4969 - precision: 0.7510 - recall: 0.7290 - val_accuracy: 0.7685 - val_loss: 0.4879 - val_precision: 0.6825 - val_recall: 0.8366\n",
      "Epoch 4/10\n",
      "\u001b[1m196/196\u001b[0m \u001b[32m━━━━━━━━━━━━━━━━━━━━\u001b[0m\u001b[37m\u001b[0m \u001b[1m37s\u001b[0m 188ms/step - accuracy: 0.7841 - loss: 0.4656 - precision: 0.7720 - recall: 0.7693 - val_accuracy: 0.7781 - val_loss: 0.4716 - val_precision: 0.7036 - val_recall: 0.8121\n",
      "Epoch 5/10\n",
      "\u001b[1m196/196\u001b[0m \u001b[32m━━━━━━━━━━━━━━━━━━━━\u001b[0m\u001b[37m\u001b[0m \u001b[1m39s\u001b[0m 197ms/step - accuracy: 0.7825 - loss: 0.4585 - precision: 0.7636 - recall: 0.7823 - val_accuracy: 0.7932 - val_loss: 0.4515 - val_precision: 0.7317 - val_recall: 0.7995\n",
      "Epoch 6/10\n",
      "\u001b[1m196/196\u001b[0m \u001b[32m━━━━━━━━━━━━━━━━━━━━\u001b[0m\u001b[37m\u001b[0m \u001b[1m39s\u001b[0m 197ms/step - accuracy: 0.8170 - loss: 0.4210 - precision: 0.8101 - recall: 0.8032 - val_accuracy: 0.7950 - val_loss: 0.4414 - val_precision: 0.7612 - val_recall: 0.7439\n",
      "Epoch 7/10\n",
      "\u001b[1m196/196\u001b[0m \u001b[32m━━━━━━━━━━━━━━━━━━━━\u001b[0m\u001b[37m\u001b[0m \u001b[1m38s\u001b[0m 192ms/step - accuracy: 0.8126 - loss: 0.4194 - precision: 0.8008 - recall: 0.8031 - val_accuracy: 0.7890 - val_loss: 0.4506 - val_precision: 0.7502 - val_recall: 0.7439\n",
      "Epoch 8/10\n",
      "\u001b[1m196/196\u001b[0m \u001b[32m━━━━━━━━━━━━━━━━━━━━\u001b[0m\u001b[37m\u001b[0m \u001b[1m37s\u001b[0m 190ms/step - accuracy: 0.8182 - loss: 0.4051 - precision: 0.8051 - recall: 0.8049 - val_accuracy: 0.7982 - val_loss: 0.4543 - val_precision: 0.7719 - val_recall: 0.7355\n",
      "Epoch 9/10\n",
      "\u001b[1m196/196\u001b[0m \u001b[32m━━━━━━━━━━━━━━━━━━━━\u001b[0m\u001b[37m\u001b[0m \u001b[1m38s\u001b[0m 193ms/step - accuracy: 0.8290 - loss: 0.3798 - precision: 0.8205 - recall: 0.8199 - val_accuracy: 0.7865 - val_loss: 0.4488 - val_precision: 0.7146 - val_recall: 0.8163\n",
      "Epoch 9: early stopping\n",
      "Restoring model weights from the end of the best epoch: 6.\n",
      "\u001b[1m89/89\u001b[0m \u001b[32m━━━━━━━━━━━━━━━━━━━━\u001b[0m\u001b[37m\u001b[0m \u001b[1m4s\u001b[0m 44ms/step\n"
     ]
    },
    {
     "name": "stderr",
     "output_type": "stream",
     "text": [
      " 60%|██████    | 3/5 [16:26<11:10, 335.33s/it]"
     ]
    },
    {
     "name": "stdout",
     "output_type": "stream",
     "text": [
      "Fold 3 Metrics: Accuracy=0.7950, Precision=0.7612, Recall=0.7439, F1-Score=0.7524\n",
      "Waktu untuk ADASYN: 986.84 detik\n",
      "Fold 4 - Resampled training set distribution (ADASYN): Counter({0: 6590, 1: 5883})\n",
      "\n",
      "===== Training and Evaluating ADASYN - Fold 4 =====\n",
      "Epoch 1/10\n"
     ]
    },
    {
     "name": "stderr",
     "output_type": "stream",
     "text": [
      "c:\\Users\\Arciel\\anaconda3\\Lib\\site-packages\\keras\\src\\layers\\core\\embedding.py:90: UserWarning: Argument `input_length` is deprecated. Just remove it.\n",
      "  warnings.warn(\n"
     ]
    },
    {
     "name": "stdout",
     "output_type": "stream",
     "text": [
      "\u001b[1m195/195\u001b[0m \u001b[32m━━━━━━━━━━━━━━━━━━━━\u001b[0m\u001b[37m\u001b[0m \u001b[1m43s\u001b[0m 197ms/step - accuracy: 0.6168 - loss: 0.6466 - precision: 0.6053 - recall: 0.5762 - val_accuracy: 0.7678 - val_loss: 0.4890 - val_precision: 0.7149 - val_recall: 0.7414\n",
      "Epoch 2/10\n",
      "\u001b[1m195/195\u001b[0m \u001b[32m━━━━━━━━━━━━━━━━━━━━\u001b[0m\u001b[37m\u001b[0m \u001b[1m37s\u001b[0m 190ms/step - accuracy: 0.7404 - loss: 0.5241 - precision: 0.7273 - recall: 0.7121 - val_accuracy: 0.7752 - val_loss: 0.4887 - val_precision: 0.7142 - val_recall: 0.7725\n",
      "Epoch 3/10\n",
      "\u001b[1m195/195\u001b[0m \u001b[32m━━━━━━━━━━━━━━━━━━━━\u001b[0m\u001b[37m\u001b[0m \u001b[1m38s\u001b[0m 198ms/step - accuracy: 0.7635 - loss: 0.5018 - precision: 0.7515 - recall: 0.7479 - val_accuracy: 0.7738 - val_loss: 0.4797 - val_precision: 0.6904 - val_recall: 0.8340\n",
      "Epoch 4/10\n",
      "\u001b[1m195/195\u001b[0m \u001b[32m━━━━━━━━━━━━━━━━━━━━\u001b[0m\u001b[37m\u001b[0m \u001b[1m37s\u001b[0m 192ms/step - accuracy: 0.7720 - loss: 0.4773 - precision: 0.7598 - recall: 0.7560 - val_accuracy: 0.7929 - val_loss: 0.4463 - val_precision: 0.8112 - val_recall: 0.6588\n",
      "Epoch 5/10\n",
      "\u001b[1m195/195\u001b[0m \u001b[32m━━━━━━━━━━━━━━━━━━━━\u001b[0m\u001b[37m\u001b[0m \u001b[1m37s\u001b[0m 191ms/step - accuracy: 0.7852 - loss: 0.4547 - precision: 0.7719 - recall: 0.7736 - val_accuracy: 0.7879 - val_loss: 0.4625 - val_precision: 0.7220 - val_recall: 0.8029\n",
      "Epoch 6/10\n",
      "\u001b[1m195/195\u001b[0m \u001b[32m━━━━━━━━━━━━━━━━━━━━\u001b[0m\u001b[37m\u001b[0m \u001b[1m37s\u001b[0m 191ms/step - accuracy: 0.7986 - loss: 0.4433 - precision: 0.7856 - recall: 0.7842 - val_accuracy: 0.7922 - val_loss: 0.4512 - val_precision: 0.7179 - val_recall: 0.8298\n",
      "Epoch 7/10\n",
      "\u001b[1m195/195\u001b[0m \u001b[32m━━━━━━━━━━━━━━━━━━━━\u001b[0m\u001b[37m\u001b[0m \u001b[1m37s\u001b[0m 189ms/step - accuracy: 0.7954 - loss: 0.4307 - precision: 0.7791 - recall: 0.7914 - val_accuracy: 0.7893 - val_loss: 0.4587 - val_precision: 0.7245 - val_recall: 0.8020\n",
      "Epoch 7: early stopping\n",
      "Restoring model weights from the end of the best epoch: 4.\n",
      "\u001b[1m89/89\u001b[0m \u001b[32m━━━━━━━━━━━━━━━━━━━━\u001b[0m\u001b[37m\u001b[0m \u001b[1m4s\u001b[0m 41ms/step\n"
     ]
    },
    {
     "name": "stderr",
     "output_type": "stream",
     "text": [
      " 80%|████████  | 4/5 [21:00<05:11, 311.07s/it]"
     ]
    },
    {
     "name": "stdout",
     "output_type": "stream",
     "text": [
      "Fold 4 Metrics: Accuracy=0.7929, Precision=0.8112, Recall=0.6588, F1-Score=0.7271\n",
      "Waktu untuk ADASYN: 1260.73 detik\n",
      "Fold 5 - Resampled training set distribution (ADASYN): Counter({0: 6589, 1: 5875})\n",
      "\n",
      "===== Training and Evaluating ADASYN - Fold 5 =====\n",
      "Epoch 1/10\n"
     ]
    },
    {
     "name": "stderr",
     "output_type": "stream",
     "text": [
      "c:\\Users\\Arciel\\anaconda3\\Lib\\site-packages\\keras\\src\\layers\\core\\embedding.py:90: UserWarning: Argument `input_length` is deprecated. Just remove it.\n",
      "  warnings.warn(\n"
     ]
    },
    {
     "name": "stdout",
     "output_type": "stream",
     "text": [
      "\u001b[1m195/195\u001b[0m \u001b[32m━━━━━━━━━━━━━━━━━━━━\u001b[0m\u001b[37m\u001b[0m \u001b[1m47s\u001b[0m 214ms/step - accuracy: 0.6129 - loss: 0.6484 - precision: 0.6117 - recall: 0.4667 - val_accuracy: 0.7445 - val_loss: 0.5198 - val_precision: 0.6502 - val_recall: 0.8432\n",
      "Epoch 2/10\n",
      "\u001b[1m195/195\u001b[0m \u001b[32m━━━━━━━━━━━━━━━━━━━━\u001b[0m\u001b[37m\u001b[0m \u001b[1m40s\u001b[0m 205ms/step - accuracy: 0.7330 - loss: 0.5443 - precision: 0.7211 - recall: 0.6949 - val_accuracy: 0.7749 - val_loss: 0.5026 - val_precision: 0.6874 - val_recall: 0.8474\n",
      "Epoch 3/10\n",
      "\u001b[1m195/195\u001b[0m \u001b[32m━━━━━━━━━━━━━━━━━━━━\u001b[0m\u001b[37m\u001b[0m \u001b[1m40s\u001b[0m 203ms/step - accuracy: 0.7517 - loss: 0.5085 - precision: 0.7458 - recall: 0.7279 - val_accuracy: 0.7664 - val_loss: 0.4780 - val_precision: 0.6799 - val_recall: 0.8347\n",
      "Epoch 4/10\n",
      "\u001b[1m195/195\u001b[0m \u001b[32m━━━━━━━━━━━━━━━━━━━━\u001b[0m\u001b[37m\u001b[0m \u001b[1m40s\u001b[0m 204ms/step - accuracy: 0.7689 - loss: 0.4845 - precision: 0.7665 - recall: 0.7428 - val_accuracy: 0.7837 - val_loss: 0.4516 - val_precision: 0.7090 - val_recall: 0.8196\n",
      "Epoch 5/10\n",
      "\u001b[1m195/195\u001b[0m \u001b[32m━━━━━━━━━━━━━━━━━━━━\u001b[0m\u001b[37m\u001b[0m \u001b[1m41s\u001b[0m 212ms/step - accuracy: 0.7755 - loss: 0.4703 - precision: 0.7638 - recall: 0.7424 - val_accuracy: 0.7932 - val_loss: 0.4345 - val_precision: 0.7483 - val_recall: 0.7622\n",
      "Epoch 6/10\n",
      "\u001b[1m195/195\u001b[0m \u001b[32m━━━━━━━━━━━━━━━━━━━━\u001b[0m\u001b[37m\u001b[0m \u001b[1m40s\u001b[0m 205ms/step - accuracy: 0.7877 - loss: 0.4492 - precision: 0.7768 - recall: 0.7776 - val_accuracy: 0.7879 - val_loss: 0.4528 - val_precision: 0.7064 - val_recall: 0.8440\n",
      "Epoch 7/10\n",
      "\u001b[1m195/195\u001b[0m \u001b[32m━━━━━━━━━━━━━━━━━━━━\u001b[0m\u001b[37m\u001b[0m \u001b[1m41s\u001b[0m 209ms/step - accuracy: 0.8059 - loss: 0.4226 - precision: 0.7926 - recall: 0.7871 - val_accuracy: 0.7957 - val_loss: 0.4258 - val_precision: 0.7679 - val_recall: 0.7336\n",
      "Epoch 8/10\n",
      "\u001b[1m195/195\u001b[0m \u001b[32m━━━━━━━━━━━━━━━━━━━━\u001b[0m\u001b[37m\u001b[0m \u001b[1m40s\u001b[0m 207ms/step - accuracy: 0.8220 - loss: 0.3982 - precision: 0.8052 - recall: 0.8165 - val_accuracy: 0.8063 - val_loss: 0.4259 - val_precision: 0.7583 - val_recall: 0.7884\n",
      "Epoch 9/10\n",
      "\u001b[1m195/195\u001b[0m \u001b[32m━━━━━━━━━━━━━━━━━━━━\u001b[0m\u001b[37m\u001b[0m \u001b[1m41s\u001b[0m 208ms/step - accuracy: 0.8192 - loss: 0.3924 - precision: 0.8105 - recall: 0.8179 - val_accuracy: 0.8006 - val_loss: 0.4408 - val_precision: 0.7358 - val_recall: 0.8170\n",
      "Epoch 10/10\n",
      "\u001b[1m195/195\u001b[0m \u001b[32m━━━━━━━━━━━━━━━━━━━━\u001b[0m\u001b[37m\u001b[0m \u001b[1m40s\u001b[0m 207ms/step - accuracy: 0.8244 - loss: 0.3797 - precision: 0.8142 - recall: 0.8157 - val_accuracy: 0.7982 - val_loss: 0.4396 - val_precision: 0.7244 - val_recall: 0.8356\n",
      "Epoch 10: early stopping\n",
      "Restoring model weights from the end of the best epoch: 7.\n",
      "\u001b[1m89/89\u001b[0m \u001b[32m━━━━━━━━━━━━━━━━━━━━\u001b[0m\u001b[37m\u001b[0m \u001b[1m5s\u001b[0m 51ms/step\n"
     ]
    },
    {
     "name": "stderr",
     "output_type": "stream",
     "text": [
      "100%|██████████| 5/5 [27:58<00:00, 335.61s/it]"
     ]
    },
    {
     "name": "stdout",
     "output_type": "stream",
     "text": [
      "Fold 5 Metrics: Accuracy=0.7957, Precision=0.7679, Recall=0.7336, F1-Score=0.7503\n",
      "Waktu untuk ADASYN: 1678.06 detik\n",
      "\n",
      "Average Metrics for ADASYN across 5 folds:\n",
      "{'accuracy': 0.7905588601001445, 'precision': 0.7586930281406854, 'recall': 0.739803463888585, 'f1_score': 0.7468804550650463, 'technique': 'ADASYN'}\n",
      "\n",
      "Visualisasi Confusion Matrix Gabungan untuk Setiap Teknik Oversampling:\n"
     ]
    },
    {
     "name": "stderr",
     "output_type": "stream",
     "text": [
      "\n"
     ]
    },
    {
     "data": {
      "image/png": "[encoded data removed]",
      "text/plain": [
       "<Figure size 640x480 with 2 Axes>"
      ]
     },
     "metadata": {},
     "output_type": "display_data"
    },
    {
     "data": {
      "text/plain": [
       "<Figure size 640x480 with 0 Axes>"
      ]
     },
     "metadata": {},
     "output_type": "display_data"
    },
    {
     "data": {
      "image/png": "[encoded data removed]",
      "text/plain": [
       "<Figure size 640x480 with 2 Axes>"
      ]
     },
     "metadata": {},
     "output_type": "display_data"
    },
    {
     "data": {
      "text/plain": [
       "<Figure size 640x480 with 0 Axes>"
      ]
     },
     "metadata": {},
     "output_type": "display_data"
    },
    {
     "data": {
      "image/png": "[encoded data removed]",
      "text/plain": [
       "<Figure size 640x480 with 2 Axes>"
      ]
     },
     "metadata": {},
     "output_type": "display_data"
    },
    {
     "name": "stdout",
     "output_type": "stream",
     "text": [
      "\n",
      "Perbandingan Metrik Kinerja Model (Rata-rata Cross-Validation):\n",
      "   accuracy  precision    recall  f1_score            technique\n",
      "0  0.784914   0.729741  0.782105  0.752371  Random Oversampling\n",
      "1  0.783361   0.720276  0.789861  0.753140                SMOTE\n",
      "2  0.790559   0.758693  0.739803  0.746880               ADASYN\n"
     ]
    },
    {
     "data": {
      "text/plain": [
       "<Figure size 640x480 with 0 Axes>"
      ]
     },
     "metadata": {},
     "output_type": "display_data"
    },
    {
     "data": {
      "image/png": "[encoded data removed]",
      "text/plain": [
       "<Figure size 2000x500 with 4 Axes>"
      ]
     },
     "metadata": {},
     "output_type": "display_data"
    }
   ],
   "source": [
    "#Implementasi K-Fold Cross-Validation untuk Setiap Teknik Oversampling\n",
    "n_splits = 5 # Jumlah folds untuk cross-validation [1, 2]\n",
    "skf = StratifiedKFold(n_splits=n_splits, shuffle=True, random_state=42) # [2]\n",
    "\n",
    "from tqdm import tqdm\n",
    "import time\n",
    "\n",
    "all_results = {}\n",
    "confusion_matrices = {}\n",
    "\n",
    "# List teknik penanganan imbalance dan inisialisasi objeknya\n",
    "oversampling_methods = {\n",
    "    \"Random Oversampling\": RandomOverSampler(random_state=42), # [23, 6]\n",
    "    \"SMOTE\": SMOTE(random_state=42), # [6, 24]\n",
    "    \"ADASYN\": ADASYN(random_state=42), # [22, 23]\n",
    "}\n",
    "\n",
    "for tech_name, oversampler in oversampling_methods.items():\n",
    "    fold_metrics = []\n",
    "    all_y_true = []\n",
    "    all_y_pred = []\n",
    "\n",
    "    print(f\"\\n--- Starting {n_splits}-Fold Cross-Validation for {tech_name} ---\")\n",
    "    start_time = time.time()\n",
    "    \n",
    "    # Loop melalui setiap fold Stratified K-Fold\n",
    "    # skf.split akan membagi X_data_for_cv dan y_data_for_cv (seluruh dataset)\n",
    "    for fold_idx, (train_idx, val_idx) in tqdm(enumerate(skf.split(X_cv, y_cv)), total=n_splits):\n",
    "        # Ambil data pelatihan dan validasi untuk fold saat ini (data asli)\n",
    "        X_train_fold_orig, X_val_fold_orig = X_cv[train_idx], X_cv[val_idx]\n",
    "        y_train_fold_orig, y_val_fold_orig = y_cv[train_idx], y_cv[val_idx]\n",
    "        \n",
    "        X_train_fold_resampled, y_train_fold_resampled = oversampler.fit_resample(X_train_fold_orig, y_train_fold_orig)\n",
    "        print(f\"Fold {fold_idx+1} - Resampled training set distribution ({tech_name}): {Counter(y_train_fold_resampled)}\")\n",
    "\n",
    "        # Latih dan evaluasi model pada fold ini\n",
    "        metrics = train_and_evaluate_single_fold(\n",
    "            X_train_fold_resampled, y_train_fold_resampled,\n",
    "            X_val_fold_orig, y_val_fold_orig, # Evaluasi pada data validasi asli (tidak di-oversample)\n",
    "            fold_idx,\n",
    "            tech_name, # Teruskan nama teknik ke fungsi evaluasi\n",
    "        )\n",
    "\n",
    "        fold_metrics.append(metrics)\n",
    "        all_y_true.extend(metrics['y_true'])\n",
    "        all_y_pred.extend(metrics['y_pred'])\n",
    "\n",
    "        print(f\"Waktu untuk {tech_name}: {time.time() - start_time:.2f} detik\")\n",
    "    \n",
    "    # Confusion matrix gabungan untuk teknik ini\n",
    "    cm = confusion_matrix(all_y_true, all_y_pred)\n",
    "    confusion_matrices[tech_name] = cm\n",
    "\n",
    "    # Rata-rata metrik\n",
    "    metric_df = pd.DataFrame([{k: v for k, v in d.items() if k in ['accuracy', 'precision', 'recall', 'f1_score']} for d in fold_metrics])\n",
    "    avg_metrics = metric_df.mean().to_dict()\n",
    "    avg_metrics['technique'] = tech_name\n",
    "    all_results[tech_name] = avg_metrics\n",
    "\n",
    "    print(f\"\\nAverage Metrics for {tech_name} across {n_splits} folds:\")\n",
    "    print(avg_metrics)\n",
    "\n",
    "# Visualisasi confusion matrix per teknik\n",
    "print(\"\\nVisualisasi Confusion Matrix Gabungan untuk Setiap Teknik Oversampling:\")\n",
    "for tech_name, cm in confusion_matrices.items():\n",
    "    disp = ConfusionMatrixDisplay(confusion_matrix=cm, display_labels=['Non-HS', 'HS'])\n",
    "    disp.plot(cmap=plt.cm.Blues, values_format='d')\n",
    "    plt.title(f'Confusion Matrix Gabungan - {tech_name}')\n",
    "    plt.show()\n",
    "    plt.savefig(f\"confusion_matrix_{tech_name}.png\", dpi=300, bbox_inches='tight')\n",
    "\n",
    "# Konversi hasil evaluasi ke DataFrame\n",
    "results_df = pd.DataFrame(list(all_results.values()))\n",
    "print(\"\\nPerbandingan Metrik Kinerja Model (Rata-rata Cross-Validation):\")\n",
    "print(results_df)\n",
    "\n",
    "# Plot perbandingan metrik\n",
    "metrics_to_plot = ['accuracy', 'precision', 'recall', 'f1_score']\n",
    "fig, axes = plt.subplots(nrows=1, ncols=len(metrics_to_plot), figsize=(20, 5), sharey=True)\n",
    "fig.suptitle('Perbandingan Kinerja Model LSTM dengan Berbagai Teknik Penanganan Imbalance (Cross-Validation)', fontsize=16)\n",
    "\n",
    "for i, metric in enumerate(metrics_to_plot):\n",
    "    axes[i].bar(results_df['technique'], results_df[metric], color=['skyblue', 'lightcoral', 'lightgreen', 'gold'])\n",
    "    axes[i].set_title(metric.replace('_', ' ').title())\n",
    "    axes[i].set_ylim(0, 1)\n",
    "    axes[i].tick_params(axis='x', rotation=45)\n",
    "    for index, row in results_df.iterrows():\n",
    "        axes[i].text(index, row[metric] + 0.02, f\"{row[metric]:.2f}\", ha='center', va='bottom')\n",
    "\n",
    "plt.tight_layout(rect=[0, 0.03, 1, 0.95])\n",
    "plt.show()"
   ]
  }
 ],
 "metadata": {
  "kernelspec": {
   "display_name": "base",
   "language": "python",
   "name": "python3"
  },
  "language_info": {
   "codemirror_mode": {
    "name": "ipython",
    "version": 3
   },
   "file_extension": ".py",
   "mimetype": "text/x-python",
   "name": "python",
   "nbconvert_exporter": "python",
   "pygments_lexer": "ipython3",
   "version": "3.12.7"
  }
 },
 "nbformat": 4,
 "nbformat_minor": 5
}
