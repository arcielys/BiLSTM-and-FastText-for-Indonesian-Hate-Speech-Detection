{
 "cells": [
  {
   "cell_type": "code",
   "execution_count": 2,
   "id": "12c7b7f2",
   "metadata": {},
   "outputs": [],
   "source": [
    "#load library yang dibutuhkan\n",
    "import pandas as pd\n",
    "import numpy as np\n",
    "import matplotlib.pyplot as plt\n",
    "import seaborn as sns\n",
    "import fasttext\n",
    "import tensorflow as tf\n",
    "\n",
    "from sklearn.model_selection import train_test_split, StratifiedKFold\n",
    "from sklearn.metrics import classification_report, confusion_matrix, accuracy_score, precision_score, recall_score, f1_score, ConfusionMatrixDisplay\n",
    "from tensorflow.keras.preprocessing.text import Tokenizer\n",
    "from tensorflow.keras.preprocessing.sequence import pad_sequences\n",
    "from tensorflow.keras.models import Sequential\n",
    "from tensorflow.keras.layers import Embedding, LSTM, Dense, Dropout, Bidirectional\n",
    "from tensorflow.keras.callbacks import EarlyStopping\n",
    "from imblearn.over_sampling import SMOTE, ADASYN, RandomOverSampler\n",
    "from collections import Counter\n",
    "from tqdm.auto import tqdm\n",
    "from nltk.corpus import stopwords\n",
    "tqdm.pandas()"
   ]
  },
  {
   "cell_type": "code",
   "execution_count": 4,
   "id": "6f0d4166",
   "metadata": {},
   "outputs": [
    {
     "data": {
      "text/html": [
       "<div>\n",
       "<style scoped>\n",
       "    .dataframe tbody tr th:only-of-type {\n",
       "        vertical-align: middle;\n",
       "    }\n",
       "\n",
       "    .dataframe tbody tr th {\n",
       "        vertical-align: top;\n",
       "    }\n",
       "\n",
       "    .dataframe thead th {\n",
       "        text-align: right;\n",
       "    }\n",
       "</style>\n",
       "<table border=\"1\" class=\"dataframe\">\n",
       "  <thead>\n",
       "    <tr style=\"text-align: right;\">\n",
       "      <th></th>\n",
       "      <th>text</th>\n",
       "      <th>labels</th>\n",
       "    </tr>\n",
       "  </thead>\n",
       "  <tbody>\n",
       "    <tr>\n",
       "      <th>0</th>\n",
       "      <td>akom gerilya serta musyawarah luar biasa leseh...</td>\n",
       "      <td>0</td>\n",
       "    </tr>\n",
       "    <tr>\n",
       "      <th>1</th>\n",
       "      <td>bukan kisah dik kisah yang kutip bukan band ya...</td>\n",
       "      <td>0</td>\n",
       "    </tr>\n",
       "    <tr>\n",
       "      <th>2</th>\n",
       "      <td>tidak kak orang jawa maaf ya orang palembang k...</td>\n",
       "      <td>0</td>\n",
       "    </tr>\n",
       "    <tr>\n",
       "      <th>3</th>\n",
       "      <td>titit jemaah dum camping</td>\n",
       "      <td>0</td>\n",
       "    </tr>\n",
       "    <tr>\n",
       "      <th>4</th>\n",
       "      <td>cinta buta cinta murni luhur buta cinta kuasa ...</td>\n",
       "      <td>0</td>\n",
       "    </tr>\n",
       "  </tbody>\n",
       "</table>\n",
       "</div>"
      ],
      "text/plain": [
       "                                                text  labels\n",
       "0  akom gerilya serta musyawarah luar biasa leseh...       0\n",
       "1  bukan kisah dik kisah yang kutip bukan band ya...       0\n",
       "2  tidak kak orang jawa maaf ya orang palembang k...       0\n",
       "3                           titit jemaah dum camping       0\n",
       "4  cinta buta cinta murni luhur buta cinta kuasa ...       0"
      ]
     },
     "execution_count": 4,
     "metadata": {},
     "output_type": "execute_result"
    }
   ],
   "source": [
    "#load dataset\n",
    "df = pd.read_csv('dataset_reduced_30.csv', encoding = 'utf-8',)\n",
    "df.head()"
   ]
  },
  {
   "cell_type": "code",
   "execution_count": 5,
   "id": "26b65dba",
   "metadata": {},
   "outputs": [],
   "source": [
    "#pastikan tipe data pada kolom text dan labels\n",
    "df['text'] = df['text'].astype(str)\n",
    "df['labels'] = df['labels'].astype(int)"
   ]
  },
  {
   "cell_type": "code",
   "execution_count": 6,
   "id": "880b44f3",
   "metadata": {},
   "outputs": [
    {
     "data": {
      "image/png": "[encoded data removed]",
      "text/plain": [
       "<Figure size 640x480 with 1 Axes>"
      ]
     },
     "metadata": {},
     "output_type": "display_data"
    },
    {
     "data": {
      "text/plain": [
       "labels\n",
       "0    8237\n",
       "1    2471\n",
       "Name: count, dtype: int64"
      ]
     },
     "execution_count": 6,
     "metadata": {},
     "output_type": "execute_result"
    }
   ],
   "source": [
    "#lihat sebaran label pada dataset\n",
    "sns.countplot(x='labels', data=df)\n",
    "plt.title('Sebaran Label pada Dataset')\n",
    "plt.xlabel('Label')\n",
    "plt.ylabel('Jumlah')\n",
    "plt.show()\n",
    "#Cek jumlah data pada setiap label\n",
    "df['labels'].value_counts()"
   ]
  },
  {
   "cell_type": "code",
   "execution_count": 7,
   "id": "64ed507f",
   "metadata": {},
   "outputs": [],
   "source": [
    "# untuk test hasil model terhadap dataset super imbalanced, dosbim meminta untuk mengurangi jumlah label data 1 menjadi 10% dari label 0\n",
    "# Mengurangi jumlah label 1 menjadi 10% dari label 0\n",
    "def reduce_label_1(df, target_ratio=0.1):\n",
    "    count_0 = df[df['labels'] == 0].shape[0]\n",
    "    count_1 = df[df['labels'] == 1].shape[0]\n",
    "    \n",
    "    # Hitung jumlah label 1 yang diinginkan\n",
    "    target_count_1 = int(count_0 * target_ratio)\n",
    "    \n",
    "    # Ambil subset dari label 1\n",
    "    df_label_1 = df[df['labels'] == 1].sample(n=target_count_1, random_state=42)\n",
    "    \n",
    "    # Gabungkan dengan label 0\n",
    "    df_reduced = pd.concat([df[df['labels'] == 0], df_label_1])\n",
    "    \n",
    "    return df_reduced"
   ]
  },
  {
   "cell_type": "markdown",
   "id": "ddee4414",
   "metadata": {},
   "source": [
    "***PERSIAPKAN WORD-EMBEDDING FASTTEXT***"
   ]
  },
  {
   "cell_type": "code",
   "execution_count": 8,
   "id": "e12530cc",
   "metadata": {},
   "outputs": [
    {
     "name": "stdout",
     "output_type": "stream",
     "text": [
      "300\n",
      "[-0.01407608  0.06523435  0.04372576  0.18425423  0.02241408 -0.11397391\n",
      " -0.04704365  0.02331188 -0.02006736 -0.05753721]\n"
     ]
    }
   ],
   "source": [
    "#load model pre-trained FastText\n",
    "model_path = 'cc.id.300.bin'\n",
    "\n",
    "import fasttext\n",
    "ft_model = fasttext.load_model(model_path)\n",
    "\n",
    "print(ft_model.get_dimension())\n",
    "print(ft_model.get_word_vector(\"saya\")[:10])  # Cek vektor kata"
   ]
  },
  {
   "cell_type": "code",
   "execution_count": 9,
   "id": "7e093d05",
   "metadata": {},
   "outputs": [],
   "source": [
    "df = df.dropna(subset=['text'])"
   ]
  },
  {
   "cell_type": "code",
   "execution_count": 10,
   "id": "c0897e66",
   "metadata": {},
   "outputs": [
    {
     "name": "stdout",
     "output_type": "stream",
     "text": [
      "Jumlah kata unik dalam kamus: 12354\n",
      "Panjang maksimum urutan: 52\n"
     ]
    }
   ],
   "source": [
    "#definisikan X dan y\n",
    "X = df['text'].tolist()\n",
    "y = df['labels'].values\n",
    "\n",
    "#tokenisasi teks\n",
    "max_words = 20000\n",
    "tokenizer = Tokenizer(num_words=max_words, oov_token='<OOV>')\n",
    "tokenizer.fit_on_texts(X)\n",
    "\n",
    "word_index = tokenizer.word_index\n",
    "print(f\"Jumlah kata unik dalam kamus: {len(word_index)}\")\n",
    "\n",
    "# Mengonversi teks menjadi urutan indeks\n",
    "sequences = tokenizer.texts_to_sequences(X)\n",
    "\n",
    "# Padding urutan untuk memastikan panjang yang konsisten\n",
    "maxlen = max(len(seq) for seq in sequences)\n",
    "print(f\"Panjang maksimum urutan: {maxlen}\")\n",
    "\n",
    "# Padding urutan\n",
    "X_padded = pad_sequences(sequences, maxlen=maxlen, padding='post')"
   ]
  },
  {
   "cell_type": "code",
   "execution_count": 11,
   "id": "38d40225",
   "metadata": {},
   "outputs": [
    {
     "data": {
      "text/plain": [
       "Text(0.5, 1.0, 'Distribusi Panjang Teks')"
      ]
     },
     "execution_count": 11,
     "metadata": {},
     "output_type": "execute_result"
    },
    {
     "data": {
      "image/png": "[encoded data removed]",
      "text/plain": [
       "<Figure size 640x480 with 1 Axes>"
      ]
     },
     "metadata": {},
     "output_type": "display_data"
    }
   ],
   "source": [
    "#analisis distribusi panjang kata untuk maxlen\n",
    "plt.hist([len(seq) for seq in sequences], bins=50)\n",
    "plt.xlabel('Panjang Teks'); plt.ylabel('Jumlah'); plt.title('Distribusi Panjang Teks')"
   ]
  },
  {
   "cell_type": "code",
   "execution_count": 12,
   "id": "4dc18a35",
   "metadata": {},
   "outputs": [
    {
     "name": "stdout",
     "output_type": "stream",
     "text": [
      "Dimensi matriks embedding: (12355, 300)\n"
     ]
    }
   ],
   "source": [
    "# Membuat matriks embedding\n",
    "embedding_dim = ft_model.get_dimension()\n",
    "num_tokens = min(max_words, len(word_index) + 1)\n",
    "\n",
    "embedding_matrix = np.zeros((num_tokens, embedding_dim))\n",
    "words_not_found = 0\n",
    "\n",
    "embedding_matrix = np.zeros((num_tokens, embedding_dim))\n",
    "\n",
    "for word, i in word_index.items():\n",
    "    if i >= num_tokens:\n",
    "        continue\n",
    "    embedding_matrix[i] = ft_model.get_word_vector(word)\n",
    "\n",
    "print(f\"Dimensi matriks embedding: {embedding_matrix.shape}\")"
   ]
  },
  {
   "cell_type": "markdown",
   "id": "01314e93",
   "metadata": {},
   "source": [
    "***DEFINISIKAN ARSITEKTUR MODEL BiLSTM***"
   ]
  },
  {
   "cell_type": "code",
   "execution_count": 13,
   "id": "b78ff2f7",
   "metadata": {},
   "outputs": [],
   "source": [
    "# Definisikan hyperparameter untuk model LSTM\n",
    "lstm_units = 128                                    # Jumlah unit LSTM\n",
    "dense_units = 64                                    # Jumlah unit pada lapisan dense\n",
    "dropout_rate = 0.5                                  # Tingkat dropout untuk regularisasi\n",
    "learning_rate = 0.001                               # Tingkat pembelajaran awal untuk optimizer Adam\n",
    "epochs = 10                                         # Jumlah epoch pelatihan\n",
    "batch_size = 64                                     # Ukuran batch untuk pelatihan"
   ]
  },
  {
   "cell_type": "code",
   "execution_count": 14,
   "id": "4d233650",
   "metadata": {},
   "outputs": [
    {
     "name": "stderr",
     "output_type": "stream",
     "text": [
      "c:\\Users\\Arciel\\anaconda3\\Lib\\site-packages\\keras\\src\\layers\\core\\embedding.py:90: UserWarning: Argument `input_length` is deprecated. Just remove it.\n",
      "  warnings.warn(\n"
     ]
    },
    {
     "data": {
      "text/html": [
       "<pre style=\"white-space:pre;overflow-x:auto;line-height:normal;font-family:Menlo,'DejaVu Sans Mono',consolas,'Courier New',monospace\"><span style=\"font-weight: bold\">Model: \"sequential\"</span>\n",
       "</pre>\n"
      ],
      "text/plain": [
       "\u001b[1mModel: \"sequential\"\u001b[0m\n"
      ]
     },
     "metadata": {},
     "output_type": "display_data"
    },
    {
     "data": {
      "text/html": [
       "<pre style=\"white-space:pre;overflow-x:auto;line-height:normal;font-family:Menlo,'DejaVu Sans Mono',consolas,'Courier New',monospace\">┏━━━━━━━━━━━━━━━━━━━━━━━━━━━━━━━━━┳━━━━━━━━━━━━━━━━━━━━━━━━┳━━━━━━━━━━━━━━━┓\n",
       "┃<span style=\"font-weight: bold\"> Layer (type)                    </span>┃<span style=\"font-weight: bold\"> Output Shape           </span>┃<span style=\"font-weight: bold\">       Param # </span>┃\n",
       "┡━━━━━━━━━━━━━━━━━━━━━━━━━━━━━━━━━╇━━━━━━━━━━━━━━━━━━━━━━━━╇━━━━━━━━━━━━━━━┩\n",
       "│ embedding (<span style=\"color: #0087ff; text-decoration-color: #0087ff\">Embedding</span>)           │ (<span style=\"color: #00d7ff; text-decoration-color: #00d7ff\">None</span>, <span style=\"color: #00af00; text-decoration-color: #00af00\">52</span>, <span style=\"color: #00af00; text-decoration-color: #00af00\">300</span>)        │     <span style=\"color: #00af00; text-decoration-color: #00af00\">3,706,500</span> │\n",
       "├─────────────────────────────────┼────────────────────────┼───────────────┤\n",
       "│ bidirectional (<span style=\"color: #0087ff; text-decoration-color: #0087ff\">Bidirectional</span>)   │ (<span style=\"color: #00d7ff; text-decoration-color: #00d7ff\">None</span>, <span style=\"color: #00af00; text-decoration-color: #00af00\">256</span>)            │       <span style=\"color: #00af00; text-decoration-color: #00af00\">439,296</span> │\n",
       "├─────────────────────────────────┼────────────────────────┼───────────────┤\n",
       "│ dropout (<span style=\"color: #0087ff; text-decoration-color: #0087ff\">Dropout</span>)               │ (<span style=\"color: #00d7ff; text-decoration-color: #00d7ff\">None</span>, <span style=\"color: #00af00; text-decoration-color: #00af00\">256</span>)            │             <span style=\"color: #00af00; text-decoration-color: #00af00\">0</span> │\n",
       "├─────────────────────────────────┼────────────────────────┼───────────────┤\n",
       "│ dense (<span style=\"color: #0087ff; text-decoration-color: #0087ff\">Dense</span>)                   │ (<span style=\"color: #00d7ff; text-decoration-color: #00d7ff\">None</span>, <span style=\"color: #00af00; text-decoration-color: #00af00\">64</span>)             │        <span style=\"color: #00af00; text-decoration-color: #00af00\">16,448</span> │\n",
       "├─────────────────────────────────┼────────────────────────┼───────────────┤\n",
       "│ dropout_1 (<span style=\"color: #0087ff; text-decoration-color: #0087ff\">Dropout</span>)             │ (<span style=\"color: #00d7ff; text-decoration-color: #00d7ff\">None</span>, <span style=\"color: #00af00; text-decoration-color: #00af00\">64</span>)             │             <span style=\"color: #00af00; text-decoration-color: #00af00\">0</span> │\n",
       "├─────────────────────────────────┼────────────────────────┼───────────────┤\n",
       "│ dense_1 (<span style=\"color: #0087ff; text-decoration-color: #0087ff\">Dense</span>)                 │ (<span style=\"color: #00d7ff; text-decoration-color: #00d7ff\">None</span>, <span style=\"color: #00af00; text-decoration-color: #00af00\">1</span>)              │            <span style=\"color: #00af00; text-decoration-color: #00af00\">65</span> │\n",
       "└─────────────────────────────────┴────────────────────────┴───────────────┘\n",
       "</pre>\n"
      ],
      "text/plain": [
       "┏━━━━━━━━━━━━━━━━━━━━━━━━━━━━━━━━━┳━━━━━━━━━━━━━━━━━━━━━━━━┳━━━━━━━━━━━━━━━┓\n",
       "┃\u001b[1m \u001b[0m\u001b[1mLayer (type)                   \u001b[0m\u001b[1m \u001b[0m┃\u001b[1m \u001b[0m\u001b[1mOutput Shape          \u001b[0m\u001b[1m \u001b[0m┃\u001b[1m \u001b[0m\u001b[1m      Param #\u001b[0m\u001b[1m \u001b[0m┃\n",
       "┡━━━━━━━━━━━━━━━━━━━━━━━━━━━━━━━━━╇━━━━━━━━━━━━━━━━━━━━━━━━╇━━━━━━━━━━━━━━━┩\n",
       "│ embedding (\u001b[38;5;33mEmbedding\u001b[0m)           │ (\u001b[38;5;45mNone\u001b[0m, \u001b[38;5;34m52\u001b[0m, \u001b[38;5;34m300\u001b[0m)        │     \u001b[38;5;34m3,706,500\u001b[0m │\n",
       "├─────────────────────────────────┼────────────────────────┼───────────────┤\n",
       "│ bidirectional (\u001b[38;5;33mBidirectional\u001b[0m)   │ (\u001b[38;5;45mNone\u001b[0m, \u001b[38;5;34m256\u001b[0m)            │       \u001b[38;5;34m439,296\u001b[0m │\n",
       "├─────────────────────────────────┼────────────────────────┼───────────────┤\n",
       "│ dropout (\u001b[38;5;33mDropout\u001b[0m)               │ (\u001b[38;5;45mNone\u001b[0m, \u001b[38;5;34m256\u001b[0m)            │             \u001b[38;5;34m0\u001b[0m │\n",
       "├─────────────────────────────────┼────────────────────────┼───────────────┤\n",
       "│ dense (\u001b[38;5;33mDense\u001b[0m)                   │ (\u001b[38;5;45mNone\u001b[0m, \u001b[38;5;34m64\u001b[0m)             │        \u001b[38;5;34m16,448\u001b[0m │\n",
       "├─────────────────────────────────┼────────────────────────┼───────────────┤\n",
       "│ dropout_1 (\u001b[38;5;33mDropout\u001b[0m)             │ (\u001b[38;5;45mNone\u001b[0m, \u001b[38;5;34m64\u001b[0m)             │             \u001b[38;5;34m0\u001b[0m │\n",
       "├─────────────────────────────────┼────────────────────────┼───────────────┤\n",
       "│ dense_1 (\u001b[38;5;33mDense\u001b[0m)                 │ (\u001b[38;5;45mNone\u001b[0m, \u001b[38;5;34m1\u001b[0m)              │            \u001b[38;5;34m65\u001b[0m │\n",
       "└─────────────────────────────────┴────────────────────────┴───────────────┘\n"
      ]
     },
     "metadata": {},
     "output_type": "display_data"
    },
    {
     "data": {
      "text/html": [
       "<pre style=\"white-space:pre;overflow-x:auto;line-height:normal;font-family:Menlo,'DejaVu Sans Mono',consolas,'Courier New',monospace\"><span style=\"font-weight: bold\"> Total params: </span><span style=\"color: #00af00; text-decoration-color: #00af00\">4,162,309</span> (15.88 MB)\n",
       "</pre>\n"
      ],
      "text/plain": [
       "\u001b[1m Total params: \u001b[0m\u001b[38;5;34m4,162,309\u001b[0m (15.88 MB)\n"
      ]
     },
     "metadata": {},
     "output_type": "display_data"
    },
    {
     "data": {
      "text/html": [
       "<pre style=\"white-space:pre;overflow-x:auto;line-height:normal;font-family:Menlo,'DejaVu Sans Mono',consolas,'Courier New',monospace\"><span style=\"font-weight: bold\"> Trainable params: </span><span style=\"color: #00af00; text-decoration-color: #00af00\">455,809</span> (1.74 MB)\n",
       "</pre>\n"
      ],
      "text/plain": [
       "\u001b[1m Trainable params: \u001b[0m\u001b[38;5;34m455,809\u001b[0m (1.74 MB)\n"
      ]
     },
     "metadata": {},
     "output_type": "display_data"
    },
    {
     "data": {
      "text/html": [
       "<pre style=\"white-space:pre;overflow-x:auto;line-height:normal;font-family:Menlo,'DejaVu Sans Mono',consolas,'Courier New',monospace\"><span style=\"font-weight: bold\"> Non-trainable params: </span><span style=\"color: #00af00; text-decoration-color: #00af00\">3,706,500</span> (14.14 MB)\n",
       "</pre>\n"
      ],
      "text/plain": [
       "\u001b[1m Non-trainable params: \u001b[0m\u001b[38;5;34m3,706,500\u001b[0m (14.14 MB)\n"
      ]
     },
     "metadata": {},
     "output_type": "display_data"
    }
   ],
   "source": [
    "# Bangun model LSTM\n",
    "def build_lstm_model(num_tokens, embedding_dim, maxlen, embedding_matrix, lstm_units, dense_units, dropout_rate):\n",
    "    model = Sequential()\n",
    "    \n",
    "    model.add(Embedding(input_dim=num_tokens,\n",
    "                        output_dim=embedding_dim, \n",
    "                        weights=[embedding_matrix], \n",
    "                        input_length=maxlen,\n",
    "                        trainable=False))\n",
    "    \n",
    "    #Lapisan BiLSTM untuk menangkap konteks dari kedua arah\n",
    "    model.add(Bidirectional(LSTM(lstm_units, return_sequences=False)))\n",
    "    model.add(Dropout(dropout_rate))  # Dropout untuk regularisasi\n",
    "\n",
    "    #Lapisan Dense dengan aktivasi ReLU\n",
    "    model.add(Dense(dense_units, activation='relu'))\n",
    "    model.add(Dropout(dropout_rate))  # Dropout untuk regularisasi\n",
    "\n",
    "    #Lapisan output dengan aktivasi sigmoid untuk klasifikasi biner\n",
    "    model.add(Dense(1, activation='sigmoid'))\n",
    "\n",
    "    return model\n",
    "\n",
    "# Inisialisasi model\n",
    "model = build_lstm_model(num_tokens, embedding_dim, maxlen, embedding_matrix, lstm_units, dense_units, dropout_rate)\n",
    "# Bangun model secara eksplisit dengan menentukan input_shape\n",
    "model.build(input_shape=(None, maxlen))\n",
    "model.summary()"
   ]
  },
  {
   "cell_type": "code",
   "execution_count": 15,
   "id": "2e99645d",
   "metadata": {},
   "outputs": [
    {
     "name": "stdout",
     "output_type": "stream",
     "text": [
      "Model telah dicompile.\n"
     ]
    }
   ],
   "source": [
    "# Compile model\n",
    "METRICS = ['accuracy',\n",
    "           tf.keras.metrics.Precision(name='precision'),\n",
    "           tf.keras.metrics.Recall(name='recall'),]\n",
    "\n",
    "optimizer = tf.keras.optimizers.Adam(learning_rate=learning_rate)\n",
    "model.compile(optimizer=optimizer,\n",
    "              loss='binary_crossentropy',\n",
    "              metrics=METRICS)\n",
    "print(\"Model telah dicompile.\")"
   ]
  },
  {
   "cell_type": "markdown",
   "id": "7c673582",
   "metadata": {},
   "source": [
    "***PELATIHAN DAN EVALUASI MODEL***"
   ]
  },
  {
   "cell_type": "code",
   "execution_count": 16,
   "id": "5fadaccc",
   "metadata": {},
   "outputs": [
    {
     "name": "stdout",
     "output_type": "stream",
     "text": [
      "Total data instances for Cross-Validation: 10708\n",
      "Overall data distribution for Cross-Validation: Counter({0: 8237, 1: 2471})\n"
     ]
    }
   ],
   "source": [
    "#Definisikan X dan y untuk model pelatihan dan evaluasi\n",
    "X_cv = X_padded\n",
    "y_cv = y\n",
    "\n",
    "print(f\"Total data instances for Cross-Validation: {len(X_cv)}\")\n",
    "print(f\"Overall data distribution for Cross-Validation: {Counter(y_cv)}\")"
   ]
  },
  {
   "cell_type": "code",
   "execution_count": 17,
   "id": "6e700fc7",
   "metadata": {},
   "outputs": [],
   "source": [
    "#Definisikan Fungsi untuk Melatih dan Mengevaluasi Model pada Satu Fold\n",
    "def train_and_evaluate_single_fold(X_train_fold, y_train_fold, X_val_fold, y_val_fold, fold_idx, technique_name):\n",
    "    print(f\"\\n===== Training and Evaluating {technique_name} - Fold {fold_idx+1} =====\")\n",
    "    \n",
    "    # Rebuild model to ensure fresh weights for each fold\n",
    "    model = build_lstm_model(num_tokens, embedding_dim, maxlen, embedding_matrix, lstm_units, dense_units, dropout_rate)\n",
    "    model.build(input_shape=(None, maxlen))\n",
    "    \n",
    "    optimizer = tf.keras.optimizers.Adam(learning_rate=learning_rate)\n",
    "    # Metrik untuk kompilasi model di dalam fungsi ini\n",
    "    METRICS_FOLD = [\n",
    "        'accuracy',\n",
    "        tf.keras.metrics.Precision(name='precision'), \n",
    "        tf.keras.metrics.Recall(name='recall'),\n",
    "    ]\n",
    "    model.compile(optimizer=optimizer, loss='binary_crossentropy', metrics=METRICS_FOLD)\n",
    "    \n",
    "    early_stopping = EarlyStopping(monitor='val_loss', patience=3, mode='min', restore_best_weights=True, verbose=1) \n",
    "    \n",
    "    # Pastikan tipe data numerik yang benar untuk TensorFlow\n",
    "    X_train_fold = X_train_fold.astype(np.float32)\n",
    "    y_train_fold = y_train_fold.astype(np.int32)\n",
    "    X_val_fold = X_val_fold.astype(np.float32)\n",
    "    y_val_fold = y_val_fold.astype(np.int32)\n",
    "\n",
    "    # Train the model\n",
    "    history = model.fit(X_train_fold, y_train_fold,\n",
    "                        epochs=epochs,\n",
    "                        batch_size=batch_size,\n",
    "                        validation_data=(X_val_fold, y_val_fold), # Gunakan validation_data langsung \n",
    "                        callbacks=[early_stopping], # Tambahkan callback EarlyStopping di sini\n",
    "                        verbose=1)\n",
    "    \n",
    "    # Make predictions on the validation fold\n",
    "    y_pred_prob = model.predict(X_val_fold)\n",
    "    y_pred = (y_pred_prob > 0.5).astype(int)\n",
    "\n",
    "    # Compute metrics for this fold\n",
    "    accuracy = accuracy_score(y_val_fold, y_pred)\n",
    "    precision = precision_score(y_val_fold, y_pred, zero_division=0)\n",
    "    recall = recall_score(y_val_fold, y_pred, zero_division=0)\n",
    "    f1 = f1_score(y_val_fold, y_pred, zero_division=0)\n",
    "    \n",
    "    print(f\"Fold {fold_idx+1} Metrics: Accuracy={accuracy:.4f}, Precision={precision:.4f}, Recall={recall:.4f}, F1-Score={f1:.4f}\")\n",
    "    \n",
    "    return {'accuracy': accuracy, 'precision': precision, 'recall': recall, 'f1_score': f1, 'y_true': y_val_fold, 'y_pred': y_pred}"
   ]
  },
  {
   "cell_type": "code",
   "execution_count": 18,
   "id": "50dd32f8",
   "metadata": {},
   "outputs": [
    {
     "name": "stdout",
     "output_type": "stream",
     "text": [
      "\n",
      "--- Starting 5-Fold Cross-Validation for Random Oversampling ---\n"
     ]
    },
    {
     "name": "stderr",
     "output_type": "stream",
     "text": [
      "  0%|          | 0/5 [00:00<?, ?it/s]"
     ]
    },
    {
     "name": "stdout",
     "output_type": "stream",
     "text": [
      "Fold 1 - Resampled training set distribution (Random Oversampling): Counter({0: 6589, 1: 6589})\n",
      "\n",
      "===== Training and Evaluating Random Oversampling - Fold 1 =====\n"
     ]
    },
    {
     "name": "stderr",
     "output_type": "stream",
     "text": [
      "c:\\Users\\Arciel\\anaconda3\\Lib\\site-packages\\keras\\src\\layers\\core\\embedding.py:90: UserWarning: Argument `input_length` is deprecated. Just remove it.\n",
      "  warnings.warn(\n"
     ]
    },
    {
     "name": "stdout",
     "output_type": "stream",
     "text": [
      "Epoch 1/10\n",
      "\u001b[1m206/206\u001b[0m \u001b[32m━━━━━━━━━━━━━━━━━━━━\u001b[0m\u001b[37m\u001b[0m \u001b[1m51s\u001b[0m 222ms/step - accuracy: 0.6516 - loss: 0.6143 - precision: 0.6463 - recall: 0.6582 - val_accuracy: 0.7918 - val_loss: 0.4357 - val_precision: 0.5372 - val_recall: 0.7024\n",
      "Epoch 2/10\n",
      "\u001b[1m206/206\u001b[0m \u001b[32m━━━━━━━━━━━━━━━━━━━━\u001b[0m\u001b[37m\u001b[0m \u001b[1m51s\u001b[0m 245ms/step - accuracy: 0.7740 - loss: 0.4792 - precision: 0.7610 - recall: 0.7985 - val_accuracy: 0.7190 - val_loss: 0.5244 - val_precision: 0.4421 - val_recall: 0.8340\n",
      "Epoch 3/10\n",
      "\u001b[1m206/206\u001b[0m \u001b[32m━━━━━━━━━━━━━━━━━━━━\u001b[0m\u001b[37m\u001b[0m \u001b[1m52s\u001b[0m 251ms/step - accuracy: 0.8047 - loss: 0.4331 - precision: 0.7860 - recall: 0.8352 - val_accuracy: 0.8021 - val_loss: 0.4070 - val_precision: 0.5534 - val_recall: 0.7348\n",
      "Epoch 4/10\n",
      "\u001b[1m206/206\u001b[0m \u001b[32m━━━━━━━━━━━━━━━━━━━━\u001b[0m\u001b[37m\u001b[0m \u001b[1m48s\u001b[0m 231ms/step - accuracy: 0.8256 - loss: 0.3953 - precision: 0.8077 - recall: 0.8540 - val_accuracy: 0.8049 - val_loss: 0.4073 - val_precision: 0.5605 - val_recall: 0.7126\n",
      "Epoch 5/10\n",
      "\u001b[1m206/206\u001b[0m \u001b[32m━━━━━━━━━━━━━━━━━━━━\u001b[0m\u001b[37m\u001b[0m \u001b[1m49s\u001b[0m 236ms/step - accuracy: 0.8418 - loss: 0.3682 - precision: 0.8146 - recall: 0.8835 - val_accuracy: 0.7876 - val_loss: 0.4392 - val_precision: 0.5270 - val_recall: 0.7713\n",
      "Epoch 6/10\n",
      "\u001b[1m206/206\u001b[0m \u001b[32m━━━━━━━━━━━━━━━━━━━━\u001b[0m\u001b[37m\u001b[0m \u001b[1m46s\u001b[0m 225ms/step - accuracy: 0.8600 - loss: 0.3335 - precision: 0.8375 - recall: 0.8974 - val_accuracy: 0.7502 - val_loss: 0.5191 - val_precision: 0.4760 - val_recall: 0.8239\n",
      "Epoch 6: early stopping\n",
      "Restoring model weights from the end of the best epoch: 3.\n",
      "\u001b[1m67/67\u001b[0m \u001b[32m━━━━━━━━━━━━━━━━━━━━\u001b[0m\u001b[37m\u001b[0m \u001b[1m5s\u001b[0m 63ms/step\n"
     ]
    },
    {
     "name": "stderr",
     "output_type": "stream",
     "text": [
      " 20%|██        | 1/5 [05:01<20:07, 301.82s/it]"
     ]
    },
    {
     "name": "stdout",
     "output_type": "stream",
     "text": [
      "Fold 1 Metrics: Accuracy=0.8021, Precision=0.5534, Recall=0.7348, F1-Score=0.6313\n",
      "Waktu untuk Random Oversampling: 301.84 detik\n",
      "Fold 2 - Resampled training set distribution (Random Oversampling): Counter({0: 6589, 1: 6589})\n",
      "\n",
      "===== Training and Evaluating Random Oversampling - Fold 2 =====\n",
      "Epoch 1/10\n"
     ]
    },
    {
     "name": "stderr",
     "output_type": "stream",
     "text": [
      "c:\\Users\\Arciel\\anaconda3\\Lib\\site-packages\\keras\\src\\layers\\core\\embedding.py:90: UserWarning: Argument `input_length` is deprecated. Just remove it.\n",
      "  warnings.warn(\n"
     ]
    },
    {
     "name": "stdout",
     "output_type": "stream",
     "text": [
      "\u001b[1m206/206\u001b[0m \u001b[32m━━━━━━━━━━━━━━━━━━━━\u001b[0m\u001b[37m\u001b[0m \u001b[1m60s\u001b[0m 253ms/step - accuracy: 0.6386 - loss: 0.6183 - precision: 0.6324 - recall: 0.6422 - val_accuracy: 0.7633 - val_loss: 0.4747 - val_precision: 0.4903 - val_recall: 0.6660\n",
      "Epoch 2/10\n",
      "\u001b[1m206/206\u001b[0m \u001b[32m━━━━━━━━━━━━━━━━━━━━\u001b[0m\u001b[37m\u001b[0m \u001b[1m47s\u001b[0m 230ms/step - accuracy: 0.7791 - loss: 0.4740 - precision: 0.7725 - recall: 0.8001 - val_accuracy: 0.7656 - val_loss: 0.4714 - val_precision: 0.4946 - val_recall: 0.7389\n",
      "Epoch 3/10\n",
      "\u001b[1m206/206\u001b[0m \u001b[32m━━━━━━━━━━━━━━━━━━━━\u001b[0m\u001b[37m\u001b[0m \u001b[1m39s\u001b[0m 192ms/step - accuracy: 0.7999 - loss: 0.4227 - precision: 0.7881 - recall: 0.8186 - val_accuracy: 0.7096 - val_loss: 0.5429 - val_precision: 0.4342 - val_recall: 0.8543\n",
      "Epoch 4/10\n",
      "\u001b[1m206/206\u001b[0m \u001b[32m━━━━━━━━━━━━━━━━━━━━\u001b[0m\u001b[37m\u001b[0m \u001b[1m45s\u001b[0m 220ms/step - accuracy: 0.8225 - loss: 0.3889 - precision: 0.7992 - recall: 0.8587 - val_accuracy: 0.7264 - val_loss: 0.5585 - val_precision: 0.4515 - val_recall: 0.8664\n",
      "Epoch 5/10\n",
      "\u001b[1m206/206\u001b[0m \u001b[32m━━━━━━━━━━━━━━━━━━━━\u001b[0m\u001b[37m\u001b[0m \u001b[1m47s\u001b[0m 227ms/step - accuracy: 0.8403 - loss: 0.3676 - precision: 0.8190 - recall: 0.8694 - val_accuracy: 0.7736 - val_loss: 0.4883 - val_precision: 0.5059 - val_recall: 0.7814\n",
      "Epoch 5: early stopping\n",
      "Restoring model weights from the end of the best epoch: 2.\n",
      "\u001b[1m67/67\u001b[0m \u001b[32m━━━━━━━━━━━━━━━━━━━━\u001b[0m\u001b[37m\u001b[0m \u001b[1m5s\u001b[0m 61ms/step\n"
     ]
    },
    {
     "name": "stderr",
     "output_type": "stream",
     "text": [
      " 40%|████      | 2/5 [09:05<13:23, 267.86s/it]"
     ]
    },
    {
     "name": "stdout",
     "output_type": "stream",
     "text": [
      "Fold 2 Metrics: Accuracy=0.7656, Precision=0.4946, Recall=0.7389, F1-Score=0.5925\n",
      "Waktu untuk Random Oversampling: 545.94 detik\n",
      "Fold 3 - Resampled training set distribution (Random Oversampling): Counter({0: 6590, 1: 6590})\n",
      "\n",
      "===== Training and Evaluating Random Oversampling - Fold 3 =====\n"
     ]
    },
    {
     "name": "stderr",
     "output_type": "stream",
     "text": [
      "c:\\Users\\Arciel\\anaconda3\\Lib\\site-packages\\keras\\src\\layers\\core\\embedding.py:90: UserWarning: Argument `input_length` is deprecated. Just remove it.\n",
      "  warnings.warn(\n"
     ]
    },
    {
     "name": "stdout",
     "output_type": "stream",
     "text": [
      "Epoch 1/10\n",
      "\u001b[1m206/206\u001b[0m \u001b[32m━━━━━━━━━━━━━━━━━━━━\u001b[0m\u001b[37m\u001b[0m \u001b[1m63s\u001b[0m 268ms/step - accuracy: 0.6513 - loss: 0.6164 - precision: 0.6535 - recall: 0.5967 - val_accuracy: 0.7148 - val_loss: 0.5603 - val_precision: 0.4386 - val_recall: 0.8364\n",
      "Epoch 2/10\n",
      "\u001b[1m206/206\u001b[0m \u001b[32m━━━━━━━━━━━━━━━━━━━━\u001b[0m\u001b[37m\u001b[0m \u001b[1m58s\u001b[0m 280ms/step - accuracy: 0.7808 - loss: 0.4683 - precision: 0.7690 - recall: 0.7965 - val_accuracy: 0.7535 - val_loss: 0.4972 - val_precision: 0.4802 - val_recall: 0.8101\n",
      "Epoch 3/10\n",
      "\u001b[1m206/206\u001b[0m \u001b[32m━━━━━━━━━━━━━━━━━━━━\u001b[0m\u001b[37m\u001b[0m \u001b[1m54s\u001b[0m 262ms/step - accuracy: 0.7978 - loss: 0.4361 - precision: 0.7842 - recall: 0.8220 - val_accuracy: 0.7442 - val_loss: 0.4947 - val_precision: 0.4686 - val_recall: 0.8000\n",
      "Epoch 4/10\n",
      "\u001b[1m206/206\u001b[0m \u001b[32m━━━━━━━━━━━━━━━━━━━━\u001b[0m\u001b[37m\u001b[0m \u001b[1m46s\u001b[0m 225ms/step - accuracy: 0.8211 - loss: 0.3992 - precision: 0.7985 - recall: 0.8606 - val_accuracy: 0.7507 - val_loss: 0.5057 - val_precision: 0.4773 - val_recall: 0.8283\n",
      "Epoch 5/10\n",
      "\u001b[1m206/206\u001b[0m \u001b[32m━━━━━━━━━━━━━━━━━━━━\u001b[0m\u001b[37m\u001b[0m \u001b[1m52s\u001b[0m 254ms/step - accuracy: 0.8392 - loss: 0.3622 - precision: 0.8178 - recall: 0.8719 - val_accuracy: 0.7792 - val_loss: 0.4759 - val_precision: 0.5155 - val_recall: 0.7394\n",
      "Epoch 6/10\n",
      "\u001b[1m206/206\u001b[0m \u001b[32m━━━━━━━━━━━━━━━━━━━━\u001b[0m\u001b[37m\u001b[0m \u001b[1m46s\u001b[0m 225ms/step - accuracy: 0.8538 - loss: 0.3390 - precision: 0.8333 - recall: 0.8839 - val_accuracy: 0.7348 - val_loss: 0.5424 - val_precision: 0.4592 - val_recall: 0.8303\n",
      "Epoch 7/10\n",
      "\u001b[1m206/206\u001b[0m \u001b[32m━━━━━━━━━━━━━━━━━━━━\u001b[0m\u001b[37m\u001b[0m \u001b[1m43s\u001b[0m 207ms/step - accuracy: 0.8639 - loss: 0.3141 - precision: 0.8422 - recall: 0.8914 - val_accuracy: 0.7432 - val_loss: 0.5555 - val_precision: 0.4665 - val_recall: 0.7737\n",
      "Epoch 8/10\n",
      "\u001b[1m206/206\u001b[0m \u001b[32m━━━━━━━━━━━━━━━━━━━━\u001b[0m\u001b[37m\u001b[0m \u001b[1m48s\u001b[0m 231ms/step - accuracy: 0.8855 - loss: 0.2846 - precision: 0.8646 - recall: 0.9127 - val_accuracy: 0.7932 - val_loss: 0.5385 - val_precision: 0.5399 - val_recall: 0.7111\n",
      "Epoch 8: early stopping\n",
      "Restoring model weights from the end of the best epoch: 5.\n",
      "\u001b[1m67/67\u001b[0m \u001b[32m━━━━━━━━━━━━━━━━━━━━\u001b[0m\u001b[37m\u001b[0m \u001b[1m3s\u001b[0m 44ms/step\n"
     ]
    },
    {
     "name": "stderr",
     "output_type": "stream",
     "text": [
      " 60%|██████    | 3/5 [15:59<11:09, 334.59s/it]"
     ]
    },
    {
     "name": "stdout",
     "output_type": "stream",
     "text": [
      "Fold 3 Metrics: Accuracy=0.7792, Precision=0.5155, Recall=0.7394, F1-Score=0.6075\n",
      "Waktu untuk Random Oversampling: 959.94 detik\n",
      "Fold 4 - Resampled training set distribution (Random Oversampling): Counter({0: 6590, 1: 6590})\n",
      "\n",
      "===== Training and Evaluating Random Oversampling - Fold 4 =====\n",
      "Epoch 1/10\n"
     ]
    },
    {
     "name": "stderr",
     "output_type": "stream",
     "text": [
      "c:\\Users\\Arciel\\anaconda3\\Lib\\site-packages\\keras\\src\\layers\\core\\embedding.py:90: UserWarning: Argument `input_length` is deprecated. Just remove it.\n",
      "  warnings.warn(\n"
     ]
    },
    {
     "name": "stdout",
     "output_type": "stream",
     "text": [
      "\u001b[1m206/206\u001b[0m \u001b[32m━━━━━━━━━━━━━━━━━━━━\u001b[0m\u001b[37m\u001b[0m \u001b[1m46s\u001b[0m 200ms/step - accuracy: 0.6449 - loss: 0.6218 - precision: 0.6540 - recall: 0.5453 - val_accuracy: 0.6885 - val_loss: 0.5857 - val_precision: 0.4172 - val_recall: 0.8826\n",
      "Epoch 2/10\n",
      "\u001b[1m206/206\u001b[0m \u001b[32m━━━━━━━━━━━━━━━━━━━━\u001b[0m\u001b[37m\u001b[0m \u001b[1m43s\u001b[0m 209ms/step - accuracy: 0.7691 - loss: 0.4795 - precision: 0.7602 - recall: 0.7976 - val_accuracy: 0.7403 - val_loss: 0.5043 - val_precision: 0.4643 - val_recall: 0.8158\n",
      "Epoch 3/10\n",
      "\u001b[1m206/206\u001b[0m \u001b[32m━━━━━━━━━━━━━━━━━━━━\u001b[0m\u001b[37m\u001b[0m \u001b[1m41s\u001b[0m 198ms/step - accuracy: 0.8014 - loss: 0.4298 - precision: 0.7782 - recall: 0.8336 - val_accuracy: 0.8076 - val_loss: 0.4222 - val_precision: 0.5722 - val_recall: 0.6579\n",
      "Epoch 4/10\n",
      "\u001b[1m206/206\u001b[0m \u001b[32m━━━━━━━━━━━━━━━━━━━━\u001b[0m\u001b[37m\u001b[0m \u001b[1m44s\u001b[0m 212ms/step - accuracy: 0.8196 - loss: 0.3979 - precision: 0.8003 - recall: 0.8523 - val_accuracy: 0.7595 - val_loss: 0.4879 - val_precision: 0.4871 - val_recall: 0.8016\n",
      "Epoch 5/10\n",
      "\u001b[1m206/206\u001b[0m \u001b[32m━━━━━━━━━━━━━━━━━━━━\u001b[0m\u001b[37m\u001b[0m \u001b[1m40s\u001b[0m 195ms/step - accuracy: 0.8303 - loss: 0.3757 - precision: 0.8059 - recall: 0.8747 - val_accuracy: 0.7926 - val_loss: 0.4359 - val_precision: 0.5368 - val_recall: 0.7389\n",
      "Epoch 6/10\n",
      "\u001b[1m206/206\u001b[0m \u001b[32m━━━━━━━━━━━━━━━━━━━━\u001b[0m\u001b[37m\u001b[0m \u001b[1m49s\u001b[0m 240ms/step - accuracy: 0.8544 - loss: 0.3412 - precision: 0.8327 - recall: 0.8909 - val_accuracy: 0.8099 - val_loss: 0.4480 - val_precision: 0.5717 - val_recall: 0.7024\n",
      "Epoch 6: early stopping\n",
      "Restoring model weights from the end of the best epoch: 3.\n",
      "\u001b[1m67/67\u001b[0m \u001b[32m━━━━━━━━━━━━━━━━━━━━\u001b[0m\u001b[37m\u001b[0m \u001b[1m5s\u001b[0m 59ms/step\n"
     ]
    },
    {
     "name": "stderr",
     "output_type": "stream",
     "text": [
      " 80%|████████  | 4/5 [20:27<05:08, 308.34s/it]"
     ]
    },
    {
     "name": "stdout",
     "output_type": "stream",
     "text": [
      "Fold 4 Metrics: Accuracy=0.8076, Precision=0.5722, Recall=0.6579, F1-Score=0.6121\n",
      "Waktu untuk Random Oversampling: 1228.02 detik\n",
      "Fold 5 - Resampled training set distribution (Random Oversampling): Counter({0: 6590, 1: 6590})\n",
      "\n",
      "===== Training and Evaluating Random Oversampling - Fold 5 =====\n"
     ]
    },
    {
     "name": "stderr",
     "output_type": "stream",
     "text": [
      "c:\\Users\\Arciel\\anaconda3\\Lib\\site-packages\\keras\\src\\layers\\core\\embedding.py:90: UserWarning: Argument `input_length` is deprecated. Just remove it.\n",
      "  warnings.warn(\n"
     ]
    },
    {
     "name": "stdout",
     "output_type": "stream",
     "text": [
      "Epoch 1/10\n",
      "\u001b[1m206/206\u001b[0m \u001b[32m━━━━━━━━━━━━━━━━━━━━\u001b[0m\u001b[37m\u001b[0m \u001b[1m54s\u001b[0m 238ms/step - accuracy: 0.6363 - loss: 0.6187 - precision: 0.6319 - recall: 0.6656 - val_accuracy: 0.7520 - val_loss: 0.5077 - val_precision: 0.4752 - val_recall: 0.7166\n",
      "Epoch 2/10\n",
      "\u001b[1m206/206\u001b[0m \u001b[32m━━━━━━━━━━━━━━━━━━━━\u001b[0m\u001b[37m\u001b[0m \u001b[1m44s\u001b[0m 214ms/step - accuracy: 0.7747 - loss: 0.4833 - precision: 0.7669 - recall: 0.7864 - val_accuracy: 0.7632 - val_loss: 0.4918 - val_precision: 0.4911 - val_recall: 0.7227\n",
      "Epoch 3/10\n",
      "\u001b[1m206/206\u001b[0m \u001b[32m━━━━━━━━━━━━━━━━━━━━\u001b[0m\u001b[37m\u001b[0m \u001b[1m49s\u001b[0m 236ms/step - accuracy: 0.7987 - loss: 0.4337 - precision: 0.7791 - recall: 0.8298 - val_accuracy: 0.7370 - val_loss: 0.5136 - val_precision: 0.4592 - val_recall: 0.7854\n",
      "Epoch 4/10\n",
      "\u001b[1m206/206\u001b[0m \u001b[32m━━━━━━━━━━━━━━━━━━━━\u001b[0m\u001b[37m\u001b[0m \u001b[1m44s\u001b[0m 216ms/step - accuracy: 0.8201 - loss: 0.3930 - precision: 0.8030 - recall: 0.8538 - val_accuracy: 0.7637 - val_loss: 0.5457 - val_precision: 0.4915 - val_recall: 0.7004\n",
      "Epoch 5/10\n",
      "\u001b[1m206/206\u001b[0m \u001b[32m━━━━━━━━━━━━━━━━━━━━\u001b[0m\u001b[37m\u001b[0m \u001b[1m52s\u001b[0m 251ms/step - accuracy: 0.8381 - loss: 0.3694 - precision: 0.8191 - recall: 0.8719 - val_accuracy: 0.7515 - val_loss: 0.5058 - val_precision: 0.4765 - val_recall: 0.7794\n",
      "Epoch 5: early stopping\n",
      "Restoring model weights from the end of the best epoch: 2.\n",
      "\u001b[1m67/67\u001b[0m \u001b[32m━━━━━━━━━━━━━━━━━━━━\u001b[0m\u001b[37m\u001b[0m \u001b[1m4s\u001b[0m 53ms/step\n"
     ]
    },
    {
     "name": "stderr",
     "output_type": "stream",
     "text": [
      "100%|██████████| 5/5 [24:35<00:00, 295.12s/it]\n"
     ]
    },
    {
     "name": "stdout",
     "output_type": "stream",
     "text": [
      "Fold 5 Metrics: Accuracy=0.7632, Precision=0.4911, Recall=0.7227, F1-Score=0.5848\n",
      "Waktu untuk Random Oversampling: 1475.62 detik\n",
      "\n",
      "Average Metrics for Random Oversampling across 5 folds:\n",
      "{'accuracy': 0.7835266817298303, 'precision': 0.5253337615708528, 'recall': 0.7187289903079377, 'f1_score': 0.6056250020979974, 'technique': 'Random Oversampling'}\n",
      "\n",
      "--- Starting 5-Fold Cross-Validation for SMOTE ---\n"
     ]
    },
    {
     "name": "stderr",
     "output_type": "stream",
     "text": [
      "  0%|          | 0/5 [00:00<?, ?it/s]"
     ]
    },
    {
     "name": "stdout",
     "output_type": "stream",
     "text": [
      "Fold 1 - Resampled training set distribution (SMOTE): Counter({0: 6589, 1: 6589})\n",
      "\n",
      "===== Training and Evaluating SMOTE - Fold 1 =====\n"
     ]
    },
    {
     "name": "stderr",
     "output_type": "stream",
     "text": [
      "c:\\Users\\Arciel\\anaconda3\\Lib\\site-packages\\keras\\src\\layers\\core\\embedding.py:90: UserWarning: Argument `input_length` is deprecated. Just remove it.\n",
      "  warnings.warn(\n"
     ]
    },
    {
     "name": "stdout",
     "output_type": "stream",
     "text": [
      "Epoch 1/10\n",
      "\u001b[1m206/206\u001b[0m \u001b[32m━━━━━━━━━━━━━━━━━━━━\u001b[0m\u001b[37m\u001b[0m \u001b[1m49s\u001b[0m 211ms/step - accuracy: 0.5579 - loss: 0.6768 - precision: 0.5513 - recall: 0.7107 - val_accuracy: 0.6807 - val_loss: 0.5925 - val_precision: 0.3983 - val_recall: 0.7530\n",
      "Epoch 2/10\n",
      "\u001b[1m206/206\u001b[0m \u001b[32m━━━━━━━━━━━━━━━━━━━━\u001b[0m\u001b[37m\u001b[0m \u001b[1m45s\u001b[0m 221ms/step - accuracy: 0.6602 - loss: 0.6096 - precision: 0.6530 - recall: 0.6644 - val_accuracy: 0.7157 - val_loss: 0.5349 - val_precision: 0.4341 - val_recall: 0.7672\n",
      "Epoch 3/10\n",
      "\u001b[1m206/206\u001b[0m \u001b[32m━━━━━━━━━━━━━━━━━━━━\u001b[0m\u001b[37m\u001b[0m \u001b[1m34s\u001b[0m 167ms/step - accuracy: 0.7328 - loss: 0.5371 - precision: 0.7262 - recall: 0.7589 - val_accuracy: 0.7236 - val_loss: 0.5240 - val_precision: 0.4433 - val_recall: 0.7753\n",
      "Epoch 4/10\n",
      "\u001b[1m206/206\u001b[0m \u001b[32m━━━━━━━━━━━━━━━━━━━━\u001b[0m\u001b[37m\u001b[0m \u001b[1m40s\u001b[0m 193ms/step - accuracy: 0.7608 - loss: 0.4967 - precision: 0.7528 - recall: 0.7719 - val_accuracy: 0.7386 - val_loss: 0.5094 - val_precision: 0.4593 - val_recall: 0.7530\n",
      "Epoch 5/10\n",
      "\u001b[1m206/206\u001b[0m \u001b[32m━━━━━━━━━━━━━━━━━━━━\u001b[0m\u001b[37m\u001b[0m \u001b[1m42s\u001b[0m 203ms/step - accuracy: 0.7846 - loss: 0.4636 - precision: 0.7771 - recall: 0.7974 - val_accuracy: 0.7628 - val_loss: 0.5028 - val_precision: 0.4901 - val_recall: 0.6984\n",
      "Epoch 6/10\n",
      "\u001b[1m206/206\u001b[0m \u001b[32m━━━━━━━━━━━━━━━━━━━━\u001b[0m\u001b[37m\u001b[0m \u001b[1m35s\u001b[0m 169ms/step - accuracy: 0.7982 - loss: 0.4417 - precision: 0.7938 - recall: 0.7999 - val_accuracy: 0.7395 - val_loss: 0.5360 - val_precision: 0.4618 - val_recall: 0.7834\n",
      "Epoch 7/10\n",
      "\u001b[1m206/206\u001b[0m \u001b[32m━━━━━━━━━━━━━━━━━━━━\u001b[0m\u001b[37m\u001b[0m \u001b[1m39s\u001b[0m 188ms/step - accuracy: 0.8137 - loss: 0.4194 - precision: 0.8068 - recall: 0.8203 - val_accuracy: 0.7507 - val_loss: 0.5081 - val_precision: 0.4738 - val_recall: 0.7308\n",
      "Epoch 8/10\n",
      "\u001b[1m206/206\u001b[0m \u001b[32m━━━━━━━━━━━━━━━━━━━━\u001b[0m\u001b[37m\u001b[0m \u001b[1m39s\u001b[0m 188ms/step - accuracy: 0.8223 - loss: 0.4046 - precision: 0.8153 - recall: 0.8337 - val_accuracy: 0.7731 - val_loss: 0.4738 - val_precision: 0.5058 - val_recall: 0.7004\n",
      "Epoch 9/10\n",
      "\u001b[1m206/206\u001b[0m \u001b[32m━━━━━━━━━━━━━━━━━━━━\u001b[0m\u001b[37m\u001b[0m \u001b[1m39s\u001b[0m 190ms/step - accuracy: 0.8242 - loss: 0.3851 - precision: 0.8217 - recall: 0.8316 - val_accuracy: 0.7624 - val_loss: 0.5054 - val_precision: 0.4895 - val_recall: 0.7085\n",
      "Epoch 10/10\n",
      "\u001b[1m206/206\u001b[0m \u001b[32m━━━━━━━━━━━━━━━━━━━━\u001b[0m\u001b[37m\u001b[0m \u001b[1m36s\u001b[0m 174ms/step - accuracy: 0.8378 - loss: 0.3659 - precision: 0.8387 - recall: 0.8355 - val_accuracy: 0.7638 - val_loss: 0.4993 - val_precision: 0.4919 - val_recall: 0.7389\n",
      "Restoring model weights from the end of the best epoch: 8.\n",
      "\u001b[1m67/67\u001b[0m \u001b[32m━━━━━━━━━━━━━━━━━━━━\u001b[0m\u001b[37m\u001b[0m \u001b[1m4s\u001b[0m 47ms/step\n"
     ]
    },
    {
     "name": "stderr",
     "output_type": "stream",
     "text": [
      " 20%|██        | 1/5 [06:41<26:47, 401.97s/it]"
     ]
    },
    {
     "name": "stdout",
     "output_type": "stream",
     "text": [
      "Fold 1 Metrics: Accuracy=0.7731, Precision=0.5058, Recall=0.7004, F1-Score=0.5874\n",
      "Waktu untuk SMOTE: 401.97 detik\n"
     ]
    },
    {
     "name": "stderr",
     "output_type": "stream",
     "text": [
      "c:\\Users\\Arciel\\anaconda3\\Lib\\site-packages\\keras\\src\\layers\\core\\embedding.py:90: UserWarning: Argument `input_length` is deprecated. Just remove it.\n",
      "  warnings.warn(\n"
     ]
    },
    {
     "name": "stdout",
     "output_type": "stream",
     "text": [
      "Fold 2 - Resampled training set distribution (SMOTE): Counter({0: 6589, 1: 6589})\n",
      "\n",
      "===== Training and Evaluating SMOTE - Fold 2 =====\n",
      "Epoch 1/10\n",
      "\u001b[1m206/206\u001b[0m \u001b[32m━━━━━━━━━━━━━━━━━━━━\u001b[0m\u001b[37m\u001b[0m \u001b[1m50s\u001b[0m 215ms/step - accuracy: 0.5518 - loss: 0.6792 - precision: 0.5444 - recall: 0.5078 - val_accuracy: 0.6662 - val_loss: 0.6046 - val_precision: 0.3920 - val_recall: 0.8117\n",
      "Epoch 2/10\n",
      "\u001b[1m206/206\u001b[0m \u001b[32m━━━━━━━━━━━━━━━━━━━━\u001b[0m\u001b[37m\u001b[0m \u001b[1m41s\u001b[0m 198ms/step - accuracy: 0.6619 - loss: 0.6164 - precision: 0.6490 - recall: 0.7097 - val_accuracy: 0.6858 - val_loss: 0.5692 - val_precision: 0.4041 - val_recall: 0.7632\n",
      "Epoch 3/10\n",
      "\u001b[1m206/206\u001b[0m \u001b[32m━━━━━━━━━━━━━━━━━━━━\u001b[0m\u001b[37m\u001b[0m \u001b[1m43s\u001b[0m 210ms/step - accuracy: 0.7185 - loss: 0.5501 - precision: 0.7065 - recall: 0.7420 - val_accuracy: 0.7204 - val_loss: 0.5351 - val_precision: 0.4371 - val_recall: 0.7389\n",
      "Epoch 4/10\n",
      "\u001b[1m206/206\u001b[0m \u001b[32m━━━━━━━━━━━━━━━━━━━━\u001b[0m\u001b[37m\u001b[0m \u001b[1m38s\u001b[0m 185ms/step - accuracy: 0.7478 - loss: 0.5116 - precision: 0.7324 - recall: 0.7782 - val_accuracy: 0.7414 - val_loss: 0.5297 - val_precision: 0.4619 - val_recall: 0.7368\n",
      "Epoch 5/10\n",
      "\u001b[1m206/206\u001b[0m \u001b[32m━━━━━━━━━━━━━━━━━━━━\u001b[0m\u001b[37m\u001b[0m \u001b[1m50s\u001b[0m 242ms/step - accuracy: 0.7769 - loss: 0.4726 - precision: 0.7704 - recall: 0.7930 - val_accuracy: 0.7577 - val_loss: 0.4927 - val_precision: 0.4818 - val_recall: 0.6700\n",
      "Epoch 6/10\n",
      "\u001b[1m206/206\u001b[0m \u001b[32m━━━━━━━━━━━━━━━━━━━━\u001b[0m\u001b[37m\u001b[0m \u001b[1m42s\u001b[0m 202ms/step - accuracy: 0.7950 - loss: 0.4435 - precision: 0.7848 - recall: 0.8065 - val_accuracy: 0.7470 - val_loss: 0.4912 - val_precision: 0.4683 - val_recall: 0.7186\n",
      "Epoch 7/10\n",
      "\u001b[1m206/206\u001b[0m \u001b[32m━━━━━━━━━━━━━━━━━━━━\u001b[0m\u001b[37m\u001b[0m \u001b[1m39s\u001b[0m 188ms/step - accuracy: 0.8123 - loss: 0.4200 - precision: 0.8024 - recall: 0.8321 - val_accuracy: 0.7521 - val_loss: 0.5166 - val_precision: 0.4751 - val_recall: 0.7146\n",
      "Epoch 8/10\n",
      "\u001b[1m206/206\u001b[0m \u001b[32m━━━━━━━━━━━━━━━━━━━━\u001b[0m\u001b[37m\u001b[0m \u001b[1m40s\u001b[0m 194ms/step - accuracy: 0.8219 - loss: 0.4033 - precision: 0.8149 - recall: 0.8300 - val_accuracy: 0.7712 - val_loss: 0.4914 - val_precision: 0.5029 - val_recall: 0.7126\n",
      "Epoch 9/10\n",
      "\u001b[1m206/206\u001b[0m \u001b[32m━━━━━━━━━━━━━━━━━━━━\u001b[0m\u001b[37m\u001b[0m \u001b[1m38s\u001b[0m 184ms/step - accuracy: 0.8342 - loss: 0.3708 - precision: 0.8313 - recall: 0.8406 - val_accuracy: 0.7274 - val_loss: 0.5634 - val_precision: 0.4479 - val_recall: 0.7834\n",
      "Epoch 9: early stopping\n",
      "Restoring model weights from the end of the best epoch: 6.\n",
      "\u001b[1m67/67\u001b[0m \u001b[32m━━━━━━━━━━━━━━━━━━━━\u001b[0m\u001b[37m\u001b[0m \u001b[1m4s\u001b[0m 47ms/step\n"
     ]
    },
    {
     "name": "stderr",
     "output_type": "stream",
     "text": [
      " 40%|████      | 2/5 [13:05<19:34, 391.36s/it]"
     ]
    },
    {
     "name": "stdout",
     "output_type": "stream",
     "text": [
      "Fold 2 Metrics: Accuracy=0.7470, Precision=0.4683, Recall=0.7186, F1-Score=0.5671\n",
      "Waktu untuk SMOTE: 785.91 detik\n"
     ]
    },
    {
     "name": "stderr",
     "output_type": "stream",
     "text": [
      "c:\\Users\\Arciel\\anaconda3\\Lib\\site-packages\\keras\\src\\layers\\core\\embedding.py:90: UserWarning: Argument `input_length` is deprecated. Just remove it.\n",
      "  warnings.warn(\n"
     ]
    },
    {
     "name": "stdout",
     "output_type": "stream",
     "text": [
      "Fold 3 - Resampled training set distribution (SMOTE): Counter({0: 6590, 1: 6590})\n",
      "\n",
      "===== Training and Evaluating SMOTE - Fold 3 =====\n",
      "Epoch 1/10\n",
      "\u001b[1m206/206\u001b[0m \u001b[32m━━━━━━━━━━━━━━━━━━━━\u001b[0m\u001b[37m\u001b[0m \u001b[1m40s\u001b[0m 169ms/step - accuracy: 0.5616 - loss: 0.6759 - precision: 0.5714 - recall: 0.4860 - val_accuracy: 0.6410 - val_loss: 0.6144 - val_precision: 0.3729 - val_recall: 0.8121\n",
      "Epoch 2/10\n",
      "\u001b[1m206/206\u001b[0m \u001b[32m━━━━━━━━━━━━━━━━━━━━\u001b[0m\u001b[37m\u001b[0m \u001b[1m43s\u001b[0m 210ms/step - accuracy: 0.6773 - loss: 0.6013 - precision: 0.6679 - recall: 0.7126 - val_accuracy: 0.6471 - val_loss: 0.5926 - val_precision: 0.3832 - val_recall: 0.8646\n",
      "Epoch 3/10\n",
      "\u001b[1m206/206\u001b[0m \u001b[32m━━━━━━━━━━━━━━━━━━━━\u001b[0m\u001b[37m\u001b[0m \u001b[1m42s\u001b[0m 205ms/step - accuracy: 0.7306 - loss: 0.5344 - precision: 0.7134 - recall: 0.7628 - val_accuracy: 0.7199 - val_loss: 0.5572 - val_precision: 0.4377 - val_recall: 0.7455\n",
      "Epoch 4/10\n",
      "\u001b[1m206/206\u001b[0m \u001b[32m━━━━━━━━━━━━━━━━━━━━\u001b[0m\u001b[37m\u001b[0m \u001b[1m45s\u001b[0m 220ms/step - accuracy: 0.7619 - loss: 0.4915 - precision: 0.7537 - recall: 0.7769 - val_accuracy: 0.7288 - val_loss: 0.5306 - val_precision: 0.4501 - val_recall: 0.7838\n",
      "Epoch 5/10\n",
      "\u001b[1m206/206\u001b[0m \u001b[32m━━━━━━━━━━━━━━━━━━━━\u001b[0m\u001b[37m\u001b[0m \u001b[1m41s\u001b[0m 198ms/step - accuracy: 0.7809 - loss: 0.4601 - precision: 0.7711 - recall: 0.7959 - val_accuracy: 0.7302 - val_loss: 0.5260 - val_precision: 0.4511 - val_recall: 0.7737\n",
      "Epoch 6/10\n",
      "\u001b[1m206/206\u001b[0m \u001b[32m━━━━━━━━━━━━━━━━━━━━\u001b[0m\u001b[37m\u001b[0m \u001b[1m39s\u001b[0m 189ms/step - accuracy: 0.7915 - loss: 0.4391 - precision: 0.7779 - recall: 0.8089 - val_accuracy: 0.7857 - val_loss: 0.4853 - val_precision: 0.5285 - val_recall: 0.6747\n",
      "Epoch 7/10\n",
      "\u001b[1m206/206\u001b[0m \u001b[32m━━━━━━━━━━━━━━━━━━━━\u001b[0m\u001b[37m\u001b[0m \u001b[1m45s\u001b[0m 220ms/step - accuracy: 0.8076 - loss: 0.4136 - precision: 0.8080 - recall: 0.8139 - val_accuracy: 0.7227 - val_loss: 0.5596 - val_precision: 0.4437 - val_recall: 0.7879\n",
      "Epoch 8/10\n",
      "\u001b[1m206/206\u001b[0m \u001b[32m━━━━━━━━━━━━━━━━━━━━\u001b[0m\u001b[37m\u001b[0m \u001b[1m47s\u001b[0m 228ms/step - accuracy: 0.8221 - loss: 0.3895 - precision: 0.8149 - recall: 0.8325 - val_accuracy: 0.7656 - val_loss: 0.4933 - val_precision: 0.4949 - val_recall: 0.6808\n",
      "Epoch 9/10\n",
      "\u001b[1m206/206\u001b[0m \u001b[32m━━━━━━━━━━━━━━━━━━━━\u001b[0m\u001b[37m\u001b[0m \u001b[1m48s\u001b[0m 232ms/step - accuracy: 0.8335 - loss: 0.3750 - precision: 0.8350 - recall: 0.8314 - val_accuracy: 0.7689 - val_loss: 0.5035 - val_precision: 0.5000 - val_recall: 0.6970\n",
      "Epoch 9: early stopping\n",
      "Restoring model weights from the end of the best epoch: 6.\n",
      "\u001b[1m67/67\u001b[0m \u001b[32m━━━━━━━━━━━━━━━━━━━━\u001b[0m\u001b[37m\u001b[0m \u001b[1m4s\u001b[0m 51ms/step\n"
     ]
    },
    {
     "name": "stderr",
     "output_type": "stream",
     "text": [
      " 60%|██████    | 3/5 [19:40<13:05, 392.92s/it]"
     ]
    },
    {
     "name": "stdout",
     "output_type": "stream",
     "text": [
      "Fold 3 Metrics: Accuracy=0.7857, Precision=0.5285, Recall=0.6747, F1-Score=0.5927\n",
      "Waktu untuk SMOTE: 1180.68 detik\n"
     ]
    },
    {
     "name": "stderr",
     "output_type": "stream",
     "text": [
      "c:\\Users\\Arciel\\anaconda3\\Lib\\site-packages\\keras\\src\\layers\\core\\embedding.py:90: UserWarning: Argument `input_length` is deprecated. Just remove it.\n",
      "  warnings.warn(\n"
     ]
    },
    {
     "name": "stdout",
     "output_type": "stream",
     "text": [
      "Fold 4 - Resampled training set distribution (SMOTE): Counter({0: 6590, 1: 6590})\n",
      "\n",
      "===== Training and Evaluating SMOTE - Fold 4 =====\n",
      "Epoch 1/10\n",
      "\u001b[1m206/206\u001b[0m \u001b[32m━━━━━━━━━━━━━━━━━━━━\u001b[0m\u001b[37m\u001b[0m \u001b[1m43s\u001b[0m 186ms/step - accuracy: 0.5448 - loss: 0.6803 - precision: 0.5355 - recall: 0.5254 - val_accuracy: 0.7128 - val_loss: 0.5632 - val_precision: 0.4292 - val_recall: 0.7429\n",
      "Epoch 2/10\n",
      "\u001b[1m206/206\u001b[0m \u001b[32m━━━━━━━━━━━━━━━━━━━━\u001b[0m\u001b[37m\u001b[0m \u001b[1m41s\u001b[0m 198ms/step - accuracy: 0.6672 - loss: 0.6088 - precision: 0.6539 - recall: 0.7220 - val_accuracy: 0.6133 - val_loss: 0.6357 - val_precision: 0.3578 - val_recall: 0.8502\n",
      "Epoch 3/10\n",
      "\u001b[1m206/206\u001b[0m \u001b[32m━━━━━━━━━━━━━━━━━━━━\u001b[0m\u001b[37m\u001b[0m \u001b[1m40s\u001b[0m 193ms/step - accuracy: 0.7224 - loss: 0.5500 - precision: 0.7141 - recall: 0.7432 - val_accuracy: 0.7212 - val_loss: 0.5641 - val_precision: 0.4385 - val_recall: 0.7429\n",
      "Epoch 4/10\n",
      "\u001b[1m206/206\u001b[0m \u001b[32m━━━━━━━━━━━━━━━━━━━━\u001b[0m\u001b[37m\u001b[0m \u001b[1m36s\u001b[0m 174ms/step - accuracy: 0.7445 - loss: 0.5171 - precision: 0.7393 - recall: 0.7523 - val_accuracy: 0.7595 - val_loss: 0.4808 - val_precision: 0.4851 - val_recall: 0.6903\n",
      "Epoch 5/10\n",
      "\u001b[1m206/206\u001b[0m \u001b[32m━━━━━━━━━━━━━━━━━━━━\u001b[0m\u001b[37m\u001b[0m \u001b[1m41s\u001b[0m 198ms/step - accuracy: 0.7739 - loss: 0.4763 - precision: 0.7659 - recall: 0.7956 - val_accuracy: 0.7272 - val_loss: 0.5134 - val_precision: 0.4419 - val_recall: 0.6923\n",
      "Epoch 6/10\n",
      "\u001b[1m206/206\u001b[0m \u001b[32m━━━━━━━━━━━━━━━━━━━━\u001b[0m\u001b[37m\u001b[0m \u001b[1m37s\u001b[0m 182ms/step - accuracy: 0.7836 - loss: 0.4563 - precision: 0.7775 - recall: 0.7973 - val_accuracy: 0.7198 - val_loss: 0.5432 - val_precision: 0.4395 - val_recall: 0.7794\n",
      "Epoch 7/10\n",
      "\u001b[1m206/206\u001b[0m \u001b[32m━━━━━━━━━━━━━━━━━━━━\u001b[0m\u001b[37m\u001b[0m \u001b[1m41s\u001b[0m 199ms/step - accuracy: 0.8048 - loss: 0.4259 - precision: 0.7937 - recall: 0.8277 - val_accuracy: 0.7268 - val_loss: 0.5456 - val_precision: 0.4456 - val_recall: 0.7551\n",
      "Epoch 7: early stopping\n",
      "Restoring model weights from the end of the best epoch: 4.\n",
      "\u001b[1m67/67\u001b[0m \u001b[32m━━━━━━━━━━━━━━━━━━━━\u001b[0m\u001b[37m\u001b[0m \u001b[1m3s\u001b[0m 46ms/step\n"
     ]
    },
    {
     "name": "stderr",
     "output_type": "stream",
     "text": [
      " 80%|████████  | 4/5 [24:23<05:49, 349.45s/it]"
     ]
    },
    {
     "name": "stdout",
     "output_type": "stream",
     "text": [
      "Fold 4 Metrics: Accuracy=0.7595, Precision=0.4851, Recall=0.6903, F1-Score=0.5698\n",
      "Waktu untuk SMOTE: 1463.49 detik\n"
     ]
    },
    {
     "name": "stderr",
     "output_type": "stream",
     "text": [
      "c:\\Users\\Arciel\\anaconda3\\Lib\\site-packages\\keras\\src\\layers\\core\\embedding.py:90: UserWarning: Argument `input_length` is deprecated. Just remove it.\n",
      "  warnings.warn(\n"
     ]
    },
    {
     "name": "stdout",
     "output_type": "stream",
     "text": [
      "Fold 5 - Resampled training set distribution (SMOTE): Counter({0: 6590, 1: 6590})\n",
      "\n",
      "===== Training and Evaluating SMOTE - Fold 5 =====\n",
      "Epoch 1/10\n",
      "\u001b[1m206/206\u001b[0m \u001b[32m━━━━━━━━━━━━━━━━━━━━\u001b[0m\u001b[37m\u001b[0m \u001b[1m43s\u001b[0m 182ms/step - accuracy: 0.5474 - loss: 0.6829 - precision: 0.5493 - recall: 0.5249 - val_accuracy: 0.6707 - val_loss: 0.5875 - val_precision: 0.3942 - val_recall: 0.7955\n",
      "Epoch 2/10\n",
      "\u001b[1m206/206\u001b[0m \u001b[32m━━━━━━━━━━━━━━━━━━━━\u001b[0m\u001b[37m\u001b[0m \u001b[1m35s\u001b[0m 172ms/step - accuracy: 0.6694 - loss: 0.6018 - precision: 0.6561 - recall: 0.7035 - val_accuracy: 0.6385 - val_loss: 0.6333 - val_precision: 0.3701 - val_recall: 0.8077\n",
      "Epoch 3/10\n",
      "\u001b[1m206/206\u001b[0m \u001b[32m━━━━━━━━━━━━━━━━━━━━\u001b[0m\u001b[37m\u001b[0m \u001b[1m39s\u001b[0m 188ms/step - accuracy: 0.7340 - loss: 0.5380 - precision: 0.7200 - recall: 0.7818 - val_accuracy: 0.7202 - val_loss: 0.5368 - val_precision: 0.4357 - val_recall: 0.7206\n",
      "Epoch 4/10\n",
      "\u001b[1m206/206\u001b[0m \u001b[32m━━━━━━━━━━━━━━━━━━━━\u001b[0m\u001b[37m\u001b[0m \u001b[1m37s\u001b[0m 181ms/step - accuracy: 0.7647 - loss: 0.4889 - precision: 0.7524 - recall: 0.7845 - val_accuracy: 0.6931 - val_loss: 0.5651 - val_precision: 0.4083 - val_recall: 0.7348\n",
      "Epoch 5/10\n",
      "\u001b[1m206/206\u001b[0m \u001b[32m━━━━━━━━━━━━━━━━━━━━\u001b[0m\u001b[37m\u001b[0m \u001b[1m40s\u001b[0m 192ms/step - accuracy: 0.7797 - loss: 0.4639 - precision: 0.7622 - recall: 0.8044 - val_accuracy: 0.7338 - val_loss: 0.5362 - val_precision: 0.4504 - val_recall: 0.6984\n",
      "Epoch 6/10\n",
      "\u001b[1m206/206\u001b[0m \u001b[32m━━━━━━━━━━━━━━━━━━━━\u001b[0m\u001b[37m\u001b[0m \u001b[1m36s\u001b[0m 176ms/step - accuracy: 0.7970 - loss: 0.4392 - precision: 0.7851 - recall: 0.8189 - val_accuracy: 0.7478 - val_loss: 0.5088 - val_precision: 0.4671 - val_recall: 0.6619\n",
      "Epoch 7/10\n",
      "\u001b[1m206/206\u001b[0m \u001b[32m━━━━━━━━━━━━━━━━━━━━\u001b[0m\u001b[37m\u001b[0m \u001b[1m44s\u001b[0m 214ms/step - accuracy: 0.8136 - loss: 0.4151 - precision: 0.8087 - recall: 0.8225 - val_accuracy: 0.7482 - val_loss: 0.5498 - val_precision: 0.4700 - val_recall: 0.7146\n",
      "Epoch 8/10\n",
      "\u001b[1m206/206\u001b[0m \u001b[32m━━━━━━━━━━━━━━━━━━━━\u001b[0m\u001b[37m\u001b[0m \u001b[1m37s\u001b[0m 179ms/step - accuracy: 0.8276 - loss: 0.3993 - precision: 0.8165 - recall: 0.8454 - val_accuracy: 0.7539 - val_loss: 0.5033 - val_precision: 0.4750 - val_recall: 0.6336\n",
      "Epoch 9/10\n",
      "\u001b[1m206/206\u001b[0m \u001b[32m━━━━━━━━━━━━━━━━━━━━\u001b[0m\u001b[37m\u001b[0m \u001b[1m41s\u001b[0m 199ms/step - accuracy: 0.8376 - loss: 0.3799 - precision: 0.8364 - recall: 0.8390 - val_accuracy: 0.7637 - val_loss: 0.5162 - val_precision: 0.4907 - val_recall: 0.6377\n",
      "Epoch 10/10\n",
      "\u001b[1m206/206\u001b[0m \u001b[32m━━━━━━━━━━━━━━━━━━━━\u001b[0m\u001b[37m\u001b[0m \u001b[1m46s\u001b[0m 221ms/step - accuracy: 0.8447 - loss: 0.3511 - precision: 0.8441 - recall: 0.8477 - val_accuracy: 0.7791 - val_loss: 0.5225 - val_precision: 0.5181 - val_recall: 0.6093\n",
      "Restoring model weights from the end of the best epoch: 8.\n",
      "\u001b[1m67/67\u001b[0m \u001b[32m━━━━━━━━━━━━━━━━━━━━\u001b[0m\u001b[37m\u001b[0m \u001b[1m3s\u001b[0m 44ms/step\n"
     ]
    },
    {
     "name": "stderr",
     "output_type": "stream",
     "text": [
      "100%|██████████| 5/5 [31:05<00:00, 373.02s/it]\n"
     ]
    },
    {
     "name": "stdout",
     "output_type": "stream",
     "text": [
      "Fold 5 Metrics: Accuracy=0.7539, Precision=0.4750, Recall=0.6336, F1-Score=0.5429\n",
      "Waktu untuk SMOTE: 1865.12 detik\n",
      "\n",
      "Average Metrics for SMOTE across 5 folds:\n",
      "{'accuracy': 0.7638201037849359, 'precision': 0.49253855437160887, 'recall': 0.683532490900912, 'f1_score': 0.5719884482809696, 'technique': 'SMOTE'}\n",
      "\n",
      "--- Starting 5-Fold Cross-Validation for ADASYN ---\n"
     ]
    },
    {
     "name": "stderr",
     "output_type": "stream",
     "text": [
      "  0%|          | 0/5 [00:00<?, ?it/s]"
     ]
    },
    {
     "name": "stdout",
     "output_type": "stream",
     "text": [
      "Fold 1 - Resampled training set distribution (ADASYN): Counter({1: 6857, 0: 6589})\n",
      "\n",
      "===== Training and Evaluating ADASYN - Fold 1 =====\n",
      "Epoch 1/10\n"
     ]
    },
    {
     "name": "stderr",
     "output_type": "stream",
     "text": [
      "c:\\Users\\Arciel\\anaconda3\\Lib\\site-packages\\keras\\src\\layers\\core\\embedding.py:90: UserWarning: Argument `input_length` is deprecated. Just remove it.\n",
      "  warnings.warn(\n"
     ]
    },
    {
     "name": "stdout",
     "output_type": "stream",
     "text": [
      "\u001b[1m211/211\u001b[0m \u001b[32m━━━━━━━━━━━━━━━━━━━━\u001b[0m\u001b[37m\u001b[0m \u001b[1m44s\u001b[0m 184ms/step - accuracy: 0.5439 - loss: 0.6827 - precision: 0.5415 - recall: 0.7517 - val_accuracy: 0.6396 - val_loss: 0.5923 - val_precision: 0.3750 - val_recall: 0.8441\n",
      "Epoch 2/10\n",
      "\u001b[1m211/211\u001b[0m \u001b[32m━━━━━━━━━━━━━━━━━━━━\u001b[0m\u001b[37m\u001b[0m \u001b[1m44s\u001b[0m 206ms/step - accuracy: 0.6628 - loss: 0.6121 - precision: 0.6470 - recall: 0.7533 - val_accuracy: 0.7278 - val_loss: 0.5304 - val_precision: 0.4454 - val_recall: 0.7348\n",
      "Epoch 3/10\n",
      "\u001b[1m211/211\u001b[0m \u001b[32m━━━━━━━━━━━━━━━━━━━━\u001b[0m\u001b[37m\u001b[0m \u001b[1m42s\u001b[0m 201ms/step - accuracy: 0.7191 - loss: 0.5556 - precision: 0.7088 - recall: 0.7713 - val_accuracy: 0.7148 - val_loss: 0.5397 - val_precision: 0.4334 - val_recall: 0.7713\n",
      "Epoch 4/10\n",
      "\u001b[1m211/211\u001b[0m \u001b[32m━━━━━━━━━━━━━━━━━━━━\u001b[0m\u001b[37m\u001b[0m \u001b[1m37s\u001b[0m 177ms/step - accuracy: 0.7511 - loss: 0.5136 - precision: 0.7421 - recall: 0.7840 - val_accuracy: 0.7381 - val_loss: 0.5313 - val_precision: 0.4587 - val_recall: 0.7530\n",
      "Epoch 5/10\n",
      "\u001b[1m211/211\u001b[0m \u001b[32m━━━━━━━━━━━━━━━━━━━━\u001b[0m\u001b[37m\u001b[0m \u001b[1m39s\u001b[0m 183ms/step - accuracy: 0.7838 - loss: 0.4573 - precision: 0.7805 - recall: 0.8026 - val_accuracy: 0.7610 - val_loss: 0.4936 - val_precision: 0.4871 - val_recall: 0.6903\n",
      "Epoch 6/10\n",
      "\u001b[1m211/211\u001b[0m \u001b[32m━━━━━━━━━━━━━━━━━━━━\u001b[0m\u001b[37m\u001b[0m \u001b[1m46s\u001b[0m 219ms/step - accuracy: 0.7936 - loss: 0.4443 - precision: 0.7925 - recall: 0.8030 - val_accuracy: 0.6751 - val_loss: 0.6495 - val_precision: 0.3996 - val_recall: 0.8138\n",
      "Epoch 7/10\n",
      "\u001b[1m211/211\u001b[0m \u001b[32m━━━━━━━━━━━━━━━━━━━━\u001b[0m\u001b[37m\u001b[0m \u001b[1m39s\u001b[0m 187ms/step - accuracy: 0.7793 - loss: 0.4658 - precision: 0.7645 - recall: 0.8271 - val_accuracy: 0.7456 - val_loss: 0.5291 - val_precision: 0.4671 - val_recall: 0.7328\n",
      "Epoch 8/10\n",
      "\u001b[1m211/211\u001b[0m \u001b[32m━━━━━━━━━━━━━━━━━━━━\u001b[0m\u001b[37m\u001b[0m \u001b[1m36s\u001b[0m 170ms/step - accuracy: 0.8160 - loss: 0.3982 - precision: 0.8122 - recall: 0.8359 - val_accuracy: 0.7358 - val_loss: 0.5560 - val_precision: 0.4562 - val_recall: 0.7591\n",
      "Epoch 8: early stopping\n",
      "Restoring model weights from the end of the best epoch: 5.\n",
      "\u001b[1m67/67\u001b[0m \u001b[32m━━━━━━━━━━━━━━━━━━━━\u001b[0m\u001b[37m\u001b[0m \u001b[1m4s\u001b[0m 53ms/step\n"
     ]
    },
    {
     "name": "stderr",
     "output_type": "stream",
     "text": [
      " 20%|██        | 1/5 [05:32<22:10, 332.52s/it]"
     ]
    },
    {
     "name": "stdout",
     "output_type": "stream",
     "text": [
      "Fold 1 Metrics: Accuracy=0.7610, Precision=0.4871, Recall=0.6903, F1-Score=0.5712\n",
      "Waktu untuk ADASYN: 332.53 detik\n",
      "Fold 2 - Resampled training set distribution (ADASYN): Counter({1: 6796, 0: 6589})\n",
      "\n",
      "===== Training and Evaluating ADASYN - Fold 2 =====\n",
      "Epoch 1/10\n"
     ]
    },
    {
     "name": "stderr",
     "output_type": "stream",
     "text": [
      "c:\\Users\\Arciel\\anaconda3\\Lib\\site-packages\\keras\\src\\layers\\core\\embedding.py:90: UserWarning: Argument `input_length` is deprecated. Just remove it.\n",
      "  warnings.warn(\n"
     ]
    },
    {
     "name": "stdout",
     "output_type": "stream",
     "text": [
      "\u001b[1m210/210\u001b[0m \u001b[32m━━━━━━━━━━━━━━━━━━━━\u001b[0m\u001b[37m\u001b[0m \u001b[1m60s\u001b[0m 263ms/step - accuracy: 0.5554 - loss: 0.6796 - precision: 0.5577 - recall: 0.5537 - val_accuracy: 0.5593 - val_loss: 0.6812 - val_precision: 0.3272 - val_recall: 0.8623\n",
      "Epoch 2/10\n",
      "\u001b[1m210/210\u001b[0m \u001b[32m━━━━━━━━━━━━━━━━━━━━\u001b[0m\u001b[37m\u001b[0m \u001b[1m49s\u001b[0m 233ms/step - accuracy: 0.6692 - loss: 0.6052 - precision: 0.6567 - recall: 0.7358 - val_accuracy: 0.6704 - val_loss: 0.5769 - val_precision: 0.3905 - val_recall: 0.7652\n",
      "Epoch 3/10\n",
      "\u001b[1m210/210\u001b[0m \u001b[32m━━━━━━━━━━━━━━━━━━━━\u001b[0m\u001b[37m\u001b[0m \u001b[1m43s\u001b[0m 205ms/step - accuracy: 0.7343 - loss: 0.5278 - precision: 0.7160 - recall: 0.7831 - val_accuracy: 0.7035 - val_loss: 0.5531 - val_precision: 0.4219 - val_recall: 0.7713\n",
      "Epoch 4/10\n",
      "\u001b[1m210/210\u001b[0m \u001b[32m━━━━━━━━━━━━━━━━━━━━\u001b[0m\u001b[37m\u001b[0m \u001b[1m51s\u001b[0m 243ms/step - accuracy: 0.7533 - loss: 0.5006 - precision: 0.7484 - recall: 0.7751 - val_accuracy: 0.7558 - val_loss: 0.5006 - val_precision: 0.4797 - val_recall: 0.6923\n",
      "Epoch 5/10\n",
      "\u001b[1m210/210\u001b[0m \u001b[32m━━━━━━━━━━━━━━━━━━━━\u001b[0m\u001b[37m\u001b[0m \u001b[1m55s\u001b[0m 261ms/step - accuracy: 0.7846 - loss: 0.4586 - precision: 0.7855 - recall: 0.7954 - val_accuracy: 0.6900 - val_loss: 0.5962 - val_precision: 0.4082 - val_recall: 0.7652\n",
      "Epoch 6/10\n",
      "\u001b[1m210/210\u001b[0m \u001b[32m━━━━━━━━━━━━━━━━━━━━\u001b[0m\u001b[37m\u001b[0m \u001b[1m43s\u001b[0m 207ms/step - accuracy: 0.7936 - loss: 0.4435 - precision: 0.7868 - recall: 0.8130 - val_accuracy: 0.7722 - val_loss: 0.4788 - val_precision: 0.5046 - val_recall: 0.6599\n",
      "Epoch 7/10\n",
      "\u001b[1m210/210\u001b[0m \u001b[32m━━━━━━━━━━━━━━━━━━━━\u001b[0m\u001b[37m\u001b[0m \u001b[1m55s\u001b[0m 264ms/step - accuracy: 0.8124 - loss: 0.4098 - precision: 0.8133 - recall: 0.8229 - val_accuracy: 0.7474 - val_loss: 0.5094 - val_precision: 0.4685 - val_recall: 0.7085\n",
      "Epoch 8/10\n",
      "\u001b[1m210/210\u001b[0m \u001b[32m━━━━━━━━━━━━━━━━━━━━\u001b[0m\u001b[37m\u001b[0m \u001b[1m42s\u001b[0m 201ms/step - accuracy: 0.8199 - loss: 0.3948 - precision: 0.8203 - recall: 0.8209 - val_accuracy: 0.7484 - val_loss: 0.5323 - val_precision: 0.4711 - val_recall: 0.7429\n",
      "Epoch 9/10\n",
      "\u001b[1m210/210\u001b[0m \u001b[32m━━━━━━━━━━━━━━━━━━━━\u001b[0m\u001b[37m\u001b[0m \u001b[1m44s\u001b[0m 208ms/step - accuracy: 0.8311 - loss: 0.3815 - precision: 0.8349 - recall: 0.8287 - val_accuracy: 0.7983 - val_loss: 0.4711 - val_precision: 0.5546 - val_recall: 0.6377\n",
      "Epoch 10/10\n",
      "\u001b[1m210/210\u001b[0m \u001b[32m━━━━━━━━━━━━━━━━━━━━\u001b[0m\u001b[37m\u001b[0m \u001b[1m44s\u001b[0m 208ms/step - accuracy: 0.8422 - loss: 0.3482 - precision: 0.8428 - recall: 0.8454 - val_accuracy: 0.7633 - val_loss: 0.4999 - val_precision: 0.4903 - val_recall: 0.6660\n",
      "Restoring model weights from the end of the best epoch: 9.\n",
      "\u001b[1m67/67\u001b[0m \u001b[32m━━━━━━━━━━━━━━━━━━━━\u001b[0m\u001b[37m\u001b[0m \u001b[1m5s\u001b[0m 45ms/step\n"
     ]
    },
    {
     "name": "stderr",
     "output_type": "stream",
     "text": [
      " 40%|████      | 2/5 [13:45<21:19, 426.64s/it]"
     ]
    },
    {
     "name": "stdout",
     "output_type": "stream",
     "text": [
      "Fold 2 Metrics: Accuracy=0.7983, Precision=0.5546, Recall=0.6377, F1-Score=0.5932\n",
      "Waktu untuk ADASYN: 825.05 detik\n",
      "Fold 3 - Resampled training set distribution (ADASYN): Counter({1: 6835, 0: 6590})\n",
      "\n",
      "===== Training and Evaluating ADASYN - Fold 3 =====\n",
      "Epoch 1/10\n"
     ]
    },
    {
     "name": "stderr",
     "output_type": "stream",
     "text": [
      "c:\\Users\\Arciel\\anaconda3\\Lib\\site-packages\\keras\\src\\layers\\core\\embedding.py:90: UserWarning: Argument `input_length` is deprecated. Just remove it.\n",
      "  warnings.warn(\n"
     ]
    },
    {
     "name": "stdout",
     "output_type": "stream",
     "text": [
      "\u001b[1m210/210\u001b[0m \u001b[32m━━━━━━━━━━━━━━━━━━━━\u001b[0m\u001b[37m\u001b[0m \u001b[1m47s\u001b[0m 203ms/step - accuracy: 0.5415 - loss: 0.6827 - precision: 0.5389 - recall: 0.6677 - val_accuracy: 0.7194 - val_loss: 0.5894 - val_precision: 0.4332 - val_recall: 0.6949\n",
      "Epoch 2/10\n",
      "\u001b[1m210/210\u001b[0m \u001b[32m━━━━━━━━━━━━━━━━━━━━\u001b[0m\u001b[37m\u001b[0m \u001b[1m44s\u001b[0m 208ms/step - accuracy: 0.6738 - loss: 0.6055 - precision: 0.6660 - recall: 0.7213 - val_accuracy: 0.6802 - val_loss: 0.5900 - val_precision: 0.4038 - val_recall: 0.8061\n",
      "Epoch 3/10\n",
      "\u001b[1m210/210\u001b[0m \u001b[32m━━━━━━━━━━━━━━━━━━━━\u001b[0m\u001b[37m\u001b[0m \u001b[1m44s\u001b[0m 207ms/step - accuracy: 0.7279 - loss: 0.5347 - precision: 0.7182 - recall: 0.7624 - val_accuracy: 0.7554 - val_loss: 0.5089 - val_precision: 0.4802 - val_recall: 0.7111\n",
      "Epoch 4/10\n",
      "\u001b[1m210/210\u001b[0m \u001b[32m━━━━━━━━━━━━━━━━━━━━\u001b[0m\u001b[37m\u001b[0m \u001b[1m42s\u001b[0m 201ms/step - accuracy: 0.7638 - loss: 0.4893 - precision: 0.7621 - recall: 0.7803 - val_accuracy: 0.7358 - val_loss: 0.5128 - val_precision: 0.4569 - val_recall: 0.7596\n",
      "Epoch 5/10\n",
      "\u001b[1m210/210\u001b[0m \u001b[32m━━━━━━━━━━━━━━━━━━━━\u001b[0m\u001b[37m\u001b[0m \u001b[1m36s\u001b[0m 169ms/step - accuracy: 0.7887 - loss: 0.4522 - precision: 0.7856 - recall: 0.8057 - val_accuracy: 0.7297 - val_loss: 0.5583 - val_precision: 0.4504 - val_recall: 0.7697\n",
      "Epoch 6/10\n",
      "\u001b[1m210/210\u001b[0m \u001b[32m━━━━━━━━━━━━━━━━━━━━\u001b[0m\u001b[37m\u001b[0m \u001b[1m46s\u001b[0m 219ms/step - accuracy: 0.7977 - loss: 0.4308 - precision: 0.7978 - recall: 0.8096 - val_accuracy: 0.7568 - val_loss: 0.5042 - val_precision: 0.4811 - val_recall: 0.6687\n",
      "Epoch 7/10\n",
      "\u001b[1m210/210\u001b[0m \u001b[32m━━━━━━━━━━━━━━━━━━━━\u001b[0m\u001b[37m\u001b[0m \u001b[1m41s\u001b[0m 195ms/step - accuracy: 0.8092 - loss: 0.4164 - precision: 0.8065 - recall: 0.8205 - val_accuracy: 0.7642 - val_loss: 0.5075 - val_precision: 0.4932 - val_recall: 0.7333\n",
      "Epoch 8/10\n",
      "\u001b[1m210/210\u001b[0m \u001b[32m━━━━━━━━━━━━━━━━━━━━\u001b[0m\u001b[37m\u001b[0m \u001b[1m36s\u001b[0m 171ms/step - accuracy: 0.8217 - loss: 0.3958 - precision: 0.8185 - recall: 0.8350 - val_accuracy: 0.7400 - val_loss: 0.5344 - val_precision: 0.4615 - val_recall: 0.7515\n",
      "Epoch 9/10\n",
      "\u001b[1m210/210\u001b[0m \u001b[32m━━━━━━━━━━━━━━━━━━━━\u001b[0m\u001b[37m\u001b[0m \u001b[1m40s\u001b[0m 189ms/step - accuracy: 0.8301 - loss: 0.3797 - precision: 0.8268 - recall: 0.8421 - val_accuracy: 0.7610 - val_loss: 0.5238 - val_precision: 0.4883 - val_recall: 0.7152\n",
      "Epoch 9: early stopping\n",
      "Restoring model weights from the end of the best epoch: 6.\n",
      "\u001b[1m67/67\u001b[0m \u001b[32m━━━━━━━━━━━━━━━━━━━━\u001b[0m\u001b[37m\u001b[0m \u001b[1m4s\u001b[0m 55ms/step\n"
     ]
    },
    {
     "name": "stderr",
     "output_type": "stream",
     "text": [
      " 60%|██████    | 3/5 [20:05<13:30, 405.34s/it]"
     ]
    },
    {
     "name": "stdout",
     "output_type": "stream",
     "text": [
      "Fold 3 Metrics: Accuracy=0.7568, Precision=0.4811, Recall=0.6687, F1-Score=0.5596\n",
      "Waktu untuk ADASYN: 1205.03 detik\n",
      "Fold 4 - Resampled training set distribution (ADASYN): Counter({1: 6847, 0: 6590})\n",
      "\n",
      "===== Training and Evaluating ADASYN - Fold 4 =====\n",
      "Epoch 1/10\n"
     ]
    },
    {
     "name": "stderr",
     "output_type": "stream",
     "text": [
      "c:\\Users\\Arciel\\anaconda3\\Lib\\site-packages\\keras\\src\\layers\\core\\embedding.py:90: UserWarning: Argument `input_length` is deprecated. Just remove it.\n",
      "  warnings.warn(\n"
     ]
    },
    {
     "name": "stdout",
     "output_type": "stream",
     "text": [
      "\u001b[1m210/210\u001b[0m \u001b[32m━━━━━━━━━━━━━━━━━━━━\u001b[0m\u001b[37m\u001b[0m \u001b[1m55s\u001b[0m 241ms/step - accuracy: 0.5602 - loss: 0.6807 - precision: 0.5577 - recall: 0.7063 - val_accuracy: 0.5516 - val_loss: 0.6728 - val_precision: 0.3294 - val_recall: 0.9109\n",
      "Epoch 2/10\n",
      "\u001b[1m210/210\u001b[0m \u001b[32m━━━━━━━━━━━━━━━━━━━━\u001b[0m\u001b[37m\u001b[0m \u001b[1m41s\u001b[0m 194ms/step - accuracy: 0.6626 - loss: 0.6082 - precision: 0.6504 - recall: 0.7165 - val_accuracy: 0.7450 - val_loss: 0.5217 - val_precision: 0.4673 - val_recall: 0.7510\n",
      "Epoch 3/10\n",
      "\u001b[1m210/210\u001b[0m \u001b[32m━━━━━━━━━━━━━━━━━━━━\u001b[0m\u001b[37m\u001b[0m \u001b[1m42s\u001b[0m 202ms/step - accuracy: 0.7170 - loss: 0.5543 - precision: 0.7125 - recall: 0.7374 - val_accuracy: 0.7263 - val_loss: 0.5308 - val_precision: 0.4464 - val_recall: 0.7753\n",
      "Epoch 4/10\n",
      "\u001b[1m210/210\u001b[0m \u001b[32m━━━━━━━━━━━━━━━━━━━━\u001b[0m\u001b[37m\u001b[0m \u001b[1m41s\u001b[0m 193ms/step - accuracy: 0.7665 - loss: 0.4920 - precision: 0.7587 - recall: 0.7921 - val_accuracy: 0.6964 - val_loss: 0.5537 - val_precision: 0.4145 - val_recall: 0.7652\n",
      "Epoch 5/10\n",
      "\u001b[1m210/210\u001b[0m \u001b[32m━━━━━━━━━━━━━━━━━━━━\u001b[0m\u001b[37m\u001b[0m \u001b[1m46s\u001b[0m 217ms/step - accuracy: 0.7775 - loss: 0.4734 - precision: 0.7658 - recall: 0.8075 - val_accuracy: 0.6838 - val_loss: 0.5827 - val_precision: 0.4063 - val_recall: 0.8036\n",
      "Epoch 5: early stopping\n",
      "Restoring model weights from the end of the best epoch: 2.\n",
      "\u001b[1m67/67\u001b[0m \u001b[32m━━━━━━━━━━━━━━━━━━━━\u001b[0m\u001b[37m\u001b[0m \u001b[1m4s\u001b[0m 51ms/step\n"
     ]
    },
    {
     "name": "stderr",
     "output_type": "stream",
     "text": [
      " 80%|████████  | 4/5 [23:55<05:36, 336.35s/it]"
     ]
    },
    {
     "name": "stdout",
     "output_type": "stream",
     "text": [
      "Fold 4 Metrics: Accuracy=0.7450, Precision=0.4673, Recall=0.7510, F1-Score=0.5761\n",
      "Waktu untuk ADASYN: 1435.62 detik\n",
      "Fold 5 - Resampled training set distribution (ADASYN): Counter({1: 6857, 0: 6590})\n",
      "\n",
      "===== Training and Evaluating ADASYN - Fold 5 =====\n",
      "Epoch 1/10\n"
     ]
    },
    {
     "name": "stderr",
     "output_type": "stream",
     "text": [
      "c:\\Users\\Arciel\\anaconda3\\Lib\\site-packages\\keras\\src\\layers\\core\\embedding.py:90: UserWarning: Argument `input_length` is deprecated. Just remove it.\n",
      "  warnings.warn(\n"
     ]
    },
    {
     "name": "stdout",
     "output_type": "stream",
     "text": [
      "\u001b[1m211/211\u001b[0m \u001b[32m━━━━━━━━━━━━━━━━━━━━\u001b[0m\u001b[37m\u001b[0m \u001b[1m47s\u001b[0m 198ms/step - accuracy: 0.5523 - loss: 0.6799 - precision: 0.5535 - recall: 0.5993 - val_accuracy: 0.6894 - val_loss: 0.5779 - val_precision: 0.4091 - val_recall: 0.7794\n",
      "Epoch 2/10\n",
      "\u001b[1m211/211\u001b[0m \u001b[32m━━━━━━━━━━━━━━━━━━━━\u001b[0m\u001b[37m\u001b[0m \u001b[1m41s\u001b[0m 194ms/step - accuracy: 0.6815 - loss: 0.5986 - precision: 0.6761 - recall: 0.7050 - val_accuracy: 0.6441 - val_loss: 0.6118 - val_precision: 0.3759 - val_recall: 0.8219\n",
      "Epoch 3/10\n",
      "\u001b[1m211/211\u001b[0m \u001b[32m━━━━━━━━━━━━━━━━━━━━\u001b[0m\u001b[37m\u001b[0m \u001b[1m39s\u001b[0m 187ms/step - accuracy: 0.7375 - loss: 0.5207 - precision: 0.7286 - recall: 0.7746 - val_accuracy: 0.6978 - val_loss: 0.5781 - val_precision: 0.4141 - val_recall: 0.7470\n",
      "Epoch 4/10\n",
      "\u001b[1m211/211\u001b[0m \u001b[32m━━━━━━━━━━━━━━━━━━━━\u001b[0m\u001b[37m\u001b[0m \u001b[1m40s\u001b[0m 189ms/step - accuracy: 0.7704 - loss: 0.4869 - precision: 0.7658 - recall: 0.7909 - val_accuracy: 0.7366 - val_loss: 0.5353 - val_precision: 0.4515 - val_recall: 0.6599\n",
      "Epoch 5/10\n",
      "\u001b[1m211/211\u001b[0m \u001b[32m━━━━━━━━━━━━━━━━━━━━\u001b[0m\u001b[37m\u001b[0m \u001b[1m43s\u001b[0m 205ms/step - accuracy: 0.7891 - loss: 0.4499 - precision: 0.7869 - recall: 0.8015 - val_accuracy: 0.7118 - val_loss: 0.5475 - val_precision: 0.4219 - val_recall: 0.6721\n",
      "Epoch 6/10\n",
      "\u001b[1m211/211\u001b[0m \u001b[32m━━━━━━━━━━━━━━━━━━━━\u001b[0m\u001b[37m\u001b[0m \u001b[1m45s\u001b[0m 212ms/step - accuracy: 0.7966 - loss: 0.4382 - precision: 0.7958 - recall: 0.8125 - val_accuracy: 0.7132 - val_loss: 0.5667 - val_precision: 0.4289 - val_recall: 0.7328\n",
      "Epoch 7/10\n",
      "\u001b[1m211/211\u001b[0m \u001b[32m━━━━━━━━━━━━━━━━━━━━\u001b[0m\u001b[37m\u001b[0m \u001b[1m43s\u001b[0m 203ms/step - accuracy: 0.8091 - loss: 0.4216 - precision: 0.8005 - recall: 0.8317 - val_accuracy: 0.7412 - val_loss: 0.5273 - val_precision: 0.4569 - val_recall: 0.6437\n",
      "Epoch 8/10\n",
      "\u001b[1m211/211\u001b[0m \u001b[32m━━━━━━━━━━━━━━━━━━━━\u001b[0m\u001b[37m\u001b[0m \u001b[1m44s\u001b[0m 211ms/step - accuracy: 0.8194 - loss: 0.3964 - precision: 0.8206 - recall: 0.8235 - val_accuracy: 0.7221 - val_loss: 0.5888 - val_precision: 0.4380 - val_recall: 0.7227\n",
      "Epoch 9/10\n",
      "\u001b[1m211/211\u001b[0m \u001b[32m━━━━━━━━━━━━━━━━━━━━\u001b[0m\u001b[37m\u001b[0m \u001b[1m42s\u001b[0m 201ms/step - accuracy: 0.8326 - loss: 0.3701 - precision: 0.8287 - recall: 0.8490 - val_accuracy: 0.7585 - val_loss: 0.5396 - val_precision: 0.4837 - val_recall: 0.6903\n",
      "Epoch 10/10\n",
      "\u001b[1m211/211\u001b[0m \u001b[32m━━━━━━━━━━━━━━━━━━━━\u001b[0m\u001b[37m\u001b[0m \u001b[1m49s\u001b[0m 231ms/step - accuracy: 0.8404 - loss: 0.3497 - precision: 0.8361 - recall: 0.8561 - val_accuracy: 0.7581 - val_loss: 0.5332 - val_precision: 0.4816 - val_recall: 0.6356\n",
      "Epoch 10: early stopping\n",
      "Restoring model weights from the end of the best epoch: 7.\n",
      "\u001b[1m67/67\u001b[0m \u001b[32m━━━━━━━━━━━━━━━━━━━━\u001b[0m\u001b[37m\u001b[0m \u001b[1m4s\u001b[0m 56ms/step\n"
     ]
    },
    {
     "name": "stderr",
     "output_type": "stream",
     "text": [
      "100%|██████████| 5/5 [31:14<00:00, 374.99s/it]"
     ]
    },
    {
     "name": "stdout",
     "output_type": "stream",
     "text": [
      "Fold 5 Metrics: Accuracy=0.7412, Precision=0.4569, Recall=0.6437, F1-Score=0.5345\n",
      "Waktu untuk ADASYN: 1874.96 detik\n",
      "\n",
      "Average Metrics for ADASYN across 5 folds:\n",
      "{'accuracy': 0.7604562298218368, 'precision': 0.4893951865757943, 'recall': 0.6782717866928394, 'f1_score': 0.5669089217302665, 'technique': 'ADASYN'}\n",
      "\n",
      "Visualisasi Confusion Matrix Gabungan untuk Setiap Teknik Oversampling:\n"
     ]
    },
    {
     "name": "stderr",
     "output_type": "stream",
     "text": [
      "\n"
     ]
    },
    {
     "data": {
      "image/png": "[encoded data removed]",
      "text/plain": [
       "<Figure size 640x480 with 2 Axes>"
      ]
     },
     "metadata": {},
     "output_type": "display_data"
    },
    {
     "data": {
      "text/plain": [
       "<Figure size 640x480 with 0 Axes>"
      ]
     },
     "metadata": {},
     "output_type": "display_data"
    },
    {
     "data": {
      "image/png": "[encoded data removed]",
      "text/plain": [
       "<Figure size 640x480 with 2 Axes>"
      ]
     },
     "metadata": {},
     "output_type": "display_data"
    },
    {
     "data": {
      "text/plain": [
       "<Figure size 640x480 with 0 Axes>"
      ]
     },
     "metadata": {},
     "output_type": "display_data"
    },
    {
     "data": {
      "image/png": "[encoded data removed]",
      "text/plain": [
       "<Figure size 640x480 with 2 Axes>"
      ]
     },
     "metadata": {},
     "output_type": "display_data"
    },
    {
     "name": "stdout",
     "output_type": "stream",
     "text": [
      "\n",
      "Perbandingan Metrik Kinerja Model (Rata-rata Cross-Validation):\n",
      "   accuracy  precision    recall  f1_score            technique\n",
      "0  0.783527   0.525334  0.718729  0.605625  Random Oversampling\n",
      "1  0.763820   0.492539  0.683532  0.571988                SMOTE\n",
      "2  0.760456   0.489395  0.678272  0.566909               ADASYN\n"
     ]
    },
    {
     "data": {
      "text/plain": [
       "<Figure size 640x480 with 0 Axes>"
      ]
     },
     "metadata": {},
     "output_type": "display_data"
    },
    {
     "data": {
      "image/png": "[encoded data removed]",
      "text/plain": [
       "<Figure size 2000x500 with 4 Axes>"
      ]
     },
     "metadata": {},
     "output_type": "display_data"
    }
   ],
   "source": [
    "#Implementasi K-Fold Cross-Validation untuk Setiap Teknik Oversampling\n",
    "n_splits = 5 # Jumlah folds untuk cross-validation\n",
    "skf = StratifiedKFold(n_splits=n_splits, shuffle=True, random_state=42)\n",
    "\n",
    "from tqdm import tqdm\n",
    "import time\n",
    "\n",
    "all_results = {}\n",
    "confusion_matrices = {}\n",
    "\n",
    "# List teknik penanganan imbalance dan inisialisasi objeknya\n",
    "oversampling_methods = {\n",
    "    \"Random Oversampling\": RandomOverSampler(random_state=42),\n",
    "    \"SMOTE\": SMOTE(random_state=42),\n",
    "    \"ADASYN\": ADASYN(random_state=42),\n",
    "}\n",
    "\n",
    "for tech_name, oversampler in oversampling_methods.items():\n",
    "    fold_metrics = []\n",
    "    all_y_true = []\n",
    "    all_y_pred = []\n",
    "\n",
    "    print(f\"\\n--- Starting {n_splits}-Fold Cross-Validation for {tech_name} ---\")\n",
    "    start_time = time.time()\n",
    "    \n",
    "    # Loop melalui setiap fold Stratified K-Fold\n",
    "    # skf.split akan membagi X_data_for_cv dan y_data_for_cv (seluruh dataset)\n",
    "    for fold_idx, (train_idx, val_idx) in tqdm(enumerate(skf.split(X_cv, y_cv)), total=n_splits):\n",
    "        # Ambil data pelatihan dan validasi untuk fold saat ini (data asli)\n",
    "        X_train_fold_orig, X_val_fold_orig = X_cv[train_idx], X_cv[val_idx]\n",
    "        y_train_fold_orig, y_val_fold_orig = y_cv[train_idx], y_cv[val_idx]\n",
    "        \n",
    "        X_train_fold_resampled, y_train_fold_resampled = oversampler.fit_resample(X_train_fold_orig, y_train_fold_orig)\n",
    "        print(f\"Fold {fold_idx+1} - Resampled training set distribution ({tech_name}): {Counter(y_train_fold_resampled)}\")\n",
    "\n",
    "        # Latih dan evaluasi model pada fold ini\n",
    "        metrics = train_and_evaluate_single_fold(\n",
    "            X_train_fold_resampled, y_train_fold_resampled,\n",
    "            X_val_fold_orig, y_val_fold_orig, # Evaluasi pada data validasi asli (tidak di-oversample)\n",
    "            fold_idx,\n",
    "            tech_name, # Teruskan nama teknik ke fungsi evaluasi\n",
    "        )\n",
    "\n",
    "        fold_metrics.append(metrics)\n",
    "        all_y_true.extend(metrics['y_true'])\n",
    "        all_y_pred.extend(metrics['y_pred'])\n",
    "\n",
    "        print(f\"Waktu untuk {tech_name}: {time.time() - start_time:.2f} detik\")\n",
    "    \n",
    "    # Confusion matrix gabungan untuk teknik ini\n",
    "    cm = confusion_matrix(all_y_true, all_y_pred)\n",
    "    confusion_matrices[tech_name] = cm\n",
    "\n",
    "    # Rata-rata metrik\n",
    "    metric_df = pd.DataFrame([{k: v for k, v in d.items() if k in ['accuracy', 'precision', 'recall', 'f1_score']} for d in fold_metrics])\n",
    "    avg_metrics = metric_df.mean().to_dict()\n",
    "    avg_metrics['technique'] = tech_name\n",
    "    all_results[tech_name] = avg_metrics\n",
    "\n",
    "    print(f\"\\nAverage Metrics for {tech_name} across {n_splits} folds:\")\n",
    "    print(avg_metrics)\n",
    "\n",
    "# Visualisasi confusion matrix per teknik\n",
    "print(\"\\nVisualisasi Confusion Matrix Gabungan untuk Setiap Teknik Oversampling:\")\n",
    "for tech_name, cm in confusion_matrices.items():\n",
    "    disp = ConfusionMatrixDisplay(confusion_matrix=cm, display_labels=['Non-HS', 'HS'])\n",
    "    disp.plot(cmap=plt.cm.Blues, values_format='d')\n",
    "    plt.title(f'Confusion Matrix Gabungan - {tech_name}')\n",
    "    plt.show()\n",
    "    plt.savefig(f\"confusion_matrix_{tech_name}.png\", dpi=300, bbox_inches='tight')\n",
    "\n",
    "# Konversi hasil evaluasi ke DataFrame\n",
    "results_df = pd.DataFrame(list(all_results.values()))\n",
    "print(\"\\nPerbandingan Metrik Kinerja Model (Rata-rata Cross-Validation):\")\n",
    "print(results_df)\n",
    "\n",
    "# Plot perbandingan metrik\n",
    "metrics_to_plot = ['accuracy', 'precision', 'recall', 'f1_score']\n",
    "fig, axes = plt.subplots(nrows=1, ncols=len(metrics_to_plot), figsize=(20, 5), sharey=True)\n",
    "fig.suptitle('Perbandingan Kinerja Model LSTM dengan Berbagai Teknik Penanganan Imbalance (Cross-Validation)', fontsize=16)\n",
    "\n",
    "for i, metric in enumerate(metrics_to_plot):\n",
    "    axes[i].bar(results_df['technique'], results_df[metric], color=['skyblue', 'lightcoral', 'lightgreen', 'gold'])\n",
    "    axes[i].set_title(metric.replace('_', ' ').title())\n",
    "    axes[i].set_ylim(0, 1)\n",
    "    axes[i].tick_params(axis='x', rotation=45)\n",
    "    for index, row in results_df.iterrows():\n",
    "        axes[i].text(index, row[metric] + 0.02, f\"{row[metric]:.2f}\", ha='center', va='bottom')\n",
    "\n",
    "plt.tight_layout(rect=[0, 0.03, 1, 0.95])\n",
    "plt.show()"
   ]
  }
 ],
 "metadata": {
  "kernelspec": {
   "display_name": "base",
   "language": "python",
   "name": "python3"
  },
  "language_info": {
   "codemirror_mode": {
    "name": "ipython",
    "version": 3
   },
   "file_extension": ".py",
   "mimetype": "text/x-python",
   "name": "python",
   "nbconvert_exporter": "python",
   "pygments_lexer": "ipython3",
   "version": "3.12.7"
  }
 },
 "nbformat": 4,
 "nbformat_minor": 5
}
