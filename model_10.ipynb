{
 "cells": [
  {
   "cell_type": "code",
   "execution_count": 6,
   "id": "12c7b7f2",
   "metadata": {},
   "outputs": [],
   "source": [
    "#load library yang dibutuhkan\n",
    "import pandas as pd\n",
    "import numpy as np\n",
    "import matplotlib.pyplot as plt\n",
    "import seaborn as sns\n",
    "import fasttext\n",
    "import tensorflow as tf\n",
    "\n",
    "from sklearn.model_selection import train_test_split, StratifiedKFold\n",
    "from sklearn.metrics import classification_report, confusion_matrix, accuracy_score, precision_score, recall_score, f1_score, ConfusionMatrixDisplay\n",
    "from tensorflow.keras.preprocessing.text import Tokenizer\n",
    "from tensorflow.keras.preprocessing.sequence import pad_sequences\n",
    "from tensorflow.keras.models import Sequential\n",
    "from tensorflow.keras.layers import Embedding, LSTM, Dense, Dropout, Bidirectional\n",
    "from tensorflow.keras.callbacks import EarlyStopping\n",
    "from imblearn.over_sampling import SMOTE, ADASYN, RandomOverSampler\n",
    "from collections import Counter\n",
    "from tqdm.auto import tqdm\n",
    "from nltk.corpus import stopwords\n",
    "tqdm.pandas()"
   ]
  },
  {
   "cell_type": "code",
   "execution_count": 7,
   "id": "6f0d4166",
   "metadata": {},
   "outputs": [
    {
     "data": {
      "text/html": [
       "<div>\n",
       "<style scoped>\n",
       "    .dataframe tbody tr th:only-of-type {\n",
       "        vertical-align: middle;\n",
       "    }\n",
       "\n",
       "    .dataframe tbody tr th {\n",
       "        vertical-align: top;\n",
       "    }\n",
       "\n",
       "    .dataframe thead th {\n",
       "        text-align: right;\n",
       "    }\n",
       "</style>\n",
       "<table border=\"1\" class=\"dataframe\">\n",
       "  <thead>\n",
       "    <tr style=\"text-align: right;\">\n",
       "      <th></th>\n",
       "      <th>text</th>\n",
       "      <th>labels</th>\n",
       "    </tr>\n",
       "  </thead>\n",
       "  <tbody>\n",
       "    <tr>\n",
       "      <th>0</th>\n",
       "      <td>cultural amp critical studies alhamdulillah su...</td>\n",
       "      <td>0</td>\n",
       "    </tr>\n",
       "    <tr>\n",
       "      <th>1</th>\n",
       "      <td>rambut benar warna kadang oren kadang coklat m...</td>\n",
       "      <td>0</td>\n",
       "    </tr>\n",
       "    <tr>\n",
       "      <th>2</th>\n",
       "      <td>segi pandang agama anggap agama irasional tida...</td>\n",
       "      <td>0</td>\n",
       "    </tr>\n",
       "    <tr>\n",
       "      <th>3</th>\n",
       "      <td>itu pasu nasi bungkus</td>\n",
       "      <td>0</td>\n",
       "    </tr>\n",
       "    <tr>\n",
       "      <th>4</th>\n",
       "      <td>asa monyet tidak</td>\n",
       "      <td>0</td>\n",
       "    </tr>\n",
       "  </tbody>\n",
       "</table>\n",
       "</div>"
      ],
      "text/plain": [
       "                                                text  labels\n",
       "0  cultural amp critical studies alhamdulillah su...       0\n",
       "1  rambut benar warna kadang oren kadang coklat m...       0\n",
       "2  segi pandang agama anggap agama irasional tida...       0\n",
       "3                              itu pasu nasi bungkus       0\n",
       "4                                   asa monyet tidak       0"
      ]
     },
     "execution_count": 7,
     "metadata": {},
     "output_type": "execute_result"
    }
   ],
   "source": [
    "#load dataset\n",
    "df = pd.read_csv('dataset_reduced.csv', encoding = 'utf-8',)\n",
    "df.head()"
   ]
  },
  {
   "cell_type": "code",
   "execution_count": 8,
   "id": "26b65dba",
   "metadata": {},
   "outputs": [],
   "source": [
    "#pastikan tipe data pada kolom text dan labels\n",
    "df['text'] = df['text'].astype(str)\n",
    "df['labels'] = df['labels'].astype(int)"
   ]
  },
  {
   "cell_type": "code",
   "execution_count": 9,
   "id": "880b44f3",
   "metadata": {},
   "outputs": [
    {
     "data": {
      "image/png": "[encoded data removed]",
      "text/plain": [
       "<Figure size 640x480 with 1 Axes>"
      ]
     },
     "metadata": {},
     "output_type": "display_data"
    },
    {
     "data": {
      "text/plain": [
       "labels\n",
       "0    8237\n",
       "1     823\n",
       "Name: count, dtype: int64"
      ]
     },
     "execution_count": 9,
     "metadata": {},
     "output_type": "execute_result"
    }
   ],
   "source": [
    "#lihat sebaran label pada dataset\n",
    "sns.countplot(x='labels', data=df)\n",
    "plt.title('Sebaran Label pada Dataset')\n",
    "plt.xlabel('Label')\n",
    "plt.ylabel('Jumlah')\n",
    "plt.show()\n",
    "#Cek jumlah data pada setiap label\n",
    "df['labels'].value_counts()"
   ]
  },
  {
   "cell_type": "code",
   "execution_count": 10,
   "id": "64ed507f",
   "metadata": {},
   "outputs": [],
   "source": [
    "# untuk test hasil model terhadap dataset super imbalanced, dosbim meminta untuk mengurangi jumlah label data 1 menjadi 10% dari label 0\n",
    "# Mengurangi jumlah label 1 menjadi 10% dari label 0\n",
    "def reduce_label_1(df, target_ratio=0.1):\n",
    "    count_0 = df[df['labels'] == 0].shape[0]\n",
    "    count_1 = df[df['labels'] == 1].shape[0]\n",
    "    \n",
    "    # Hitung jumlah label 1 yang diinginkan\n",
    "    target_count_1 = int(count_0 * target_ratio)\n",
    "    \n",
    "    # Ambil subset dari label 1\n",
    "    df_label_1 = df[df['labels'] == 1].sample(n=target_count_1, random_state=42)\n",
    "    \n",
    "    # Gabungkan dengan label 0\n",
    "    df_reduced = pd.concat([df[df['labels'] == 0], df_label_1])\n",
    "    \n",
    "    return df_reduced"
   ]
  },
  {
   "cell_type": "markdown",
   "id": "ddee4414",
   "metadata": {},
   "source": [
    "***PERSIAPKAN WORD-EMBEDDING FASTTEXT***"
   ]
  },
  {
   "cell_type": "code",
   "execution_count": 11,
   "id": "e12530cc",
   "metadata": {},
   "outputs": [
    {
     "name": "stdout",
     "output_type": "stream",
     "text": [
      "300\n",
      "[-0.01407608  0.06523435  0.04372576  0.18425423  0.02241408 -0.11397391\n",
      " -0.04704365  0.02331188 -0.02006736 -0.05753721]\n"
     ]
    }
   ],
   "source": [
    "#load model pre-trained FastText\n",
    "model_path = 'cc.id.300.bin'\n",
    "\n",
    "import fasttext\n",
    "ft_model = fasttext.load_model(model_path)\n",
    "\n",
    "print(ft_model.get_dimension())\n",
    "print(ft_model.get_word_vector(\"saya\")[:10])  # Cek vektor kata"
   ]
  },
  {
   "cell_type": "code",
   "execution_count": 12,
   "id": "7e093d05",
   "metadata": {},
   "outputs": [],
   "source": [
    "df = df.dropna(subset=['text'])"
   ]
  },
  {
   "cell_type": "code",
   "execution_count": 13,
   "id": "c0897e66",
   "metadata": {},
   "outputs": [
    {
     "name": "stdout",
     "output_type": "stream",
     "text": [
      "Jumlah kata unik dalam kamus: 11669\n",
      "Panjang maksimum urutan: 52\n"
     ]
    }
   ],
   "source": [
    "#definisikan X dan y\n",
    "X = df['text'].tolist()\n",
    "y = df['labels'].values\n",
    "\n",
    "#tokenisasi teks\n",
    "max_words = 20000\n",
    "tokenizer = Tokenizer(num_words=max_words, oov_token='<OOV>')\n",
    "tokenizer.fit_on_texts(X)\n",
    "\n",
    "word_index = tokenizer.word_index\n",
    "print(f\"Jumlah kata unik dalam kamus: {len(word_index)}\")\n",
    "\n",
    "# Mengonversi teks menjadi urutan indeks\n",
    "sequences = tokenizer.texts_to_sequences(X)\n",
    "\n",
    "# Padding urutan untuk memastikan panjang yang konsisten\n",
    "maxlen = max(len(seq) for seq in sequences)\n",
    "print(f\"Panjang maksimum urutan: {maxlen}\")\n",
    "\n",
    "# Padding urutan\n",
    "X_padded = pad_sequences(sequences, maxlen=maxlen, padding='post')"
   ]
  },
  {
   "cell_type": "code",
   "execution_count": 14,
   "id": "38d40225",
   "metadata": {},
   "outputs": [
    {
     "data": {
      "text/plain": [
       "Text(0.5, 1.0, 'Distribusi Panjang Teks')"
      ]
     },
     "execution_count": 14,
     "metadata": {},
     "output_type": "execute_result"
    },
    {
     "data": {
      "image/png": "[encoded data removed]",
      "text/plain": [
       "<Figure size 640x480 with 1 Axes>"
      ]
     },
     "metadata": {},
     "output_type": "display_data"
    }
   ],
   "source": [
    "#analisis distribusi panjang kata untuk maxlen\n",
    "plt.hist([len(seq) for seq in sequences], bins=50)\n",
    "plt.xlabel('Panjang Teks'); plt.ylabel('Jumlah'); plt.title('Distribusi Panjang Teks')"
   ]
  },
  {
   "cell_type": "code",
   "execution_count": 15,
   "id": "4dc18a35",
   "metadata": {},
   "outputs": [
    {
     "name": "stdout",
     "output_type": "stream",
     "text": [
      "Dimensi matriks embedding: (11670, 300)\n"
     ]
    }
   ],
   "source": [
    "# Membuat matriks embedding\n",
    "embedding_dim = ft_model.get_dimension()\n",
    "num_tokens = min(max_words, len(word_index) + 1)\n",
    "\n",
    "embedding_matrix = np.zeros((num_tokens, embedding_dim))\n",
    "words_not_found = 0\n",
    "\n",
    "embedding_matrix = np.zeros((num_tokens, embedding_dim))\n",
    "\n",
    "for word, i in word_index.items():\n",
    "    if i >= num_tokens:\n",
    "        continue\n",
    "    embedding_matrix[i] = ft_model.get_word_vector(word)\n",
    "\n",
    "print(f\"Dimensi matriks embedding: {embedding_matrix.shape}\")"
   ]
  },
  {
   "cell_type": "markdown",
   "id": "01314e93",
   "metadata": {},
   "source": [
    "***DEFINISIKAN ARSITEKTUR MODEL BiLSTM***"
   ]
  },
  {
   "cell_type": "code",
   "execution_count": 16,
   "id": "b78ff2f7",
   "metadata": {},
   "outputs": [],
   "source": [
    "# Definisikan hyperparameter untuk model LSTM\n",
    "lstm_units = 128                                    # Jumlah unit LSTM\n",
    "dense_units = 64                                    # Jumlah unit pada lapisan dense\n",
    "dropout_rate = 0.5                                  # Tingkat dropout untuk regularisasi\n",
    "learning_rate = 0.001                               # Tingkat pembelajaran awal untuk optimizer Adam\n",
    "epochs = 10                                         # Jumlah epoch pelatihan\n",
    "batch_size = 64                                     # Ukuran batch untuk pelatihan"
   ]
  },
  {
   "cell_type": "code",
   "execution_count": 17,
   "id": "4d233650",
   "metadata": {},
   "outputs": [
    {
     "name": "stderr",
     "output_type": "stream",
     "text": [
      "c:\\Users\\Arciel\\anaconda3\\Lib\\site-packages\\keras\\src\\layers\\core\\embedding.py:90: UserWarning: Argument `input_length` is deprecated. Just remove it.\n",
      "  warnings.warn(\n"
     ]
    },
    {
     "data": {
      "text/html": [
       "<pre style=\"white-space:pre;overflow-x:auto;line-height:normal;font-family:Menlo,'DejaVu Sans Mono',consolas,'Courier New',monospace\"><span style=\"font-weight: bold\">Model: \"sequential\"</span>\n",
       "</pre>\n"
      ],
      "text/plain": [
       "\u001b[1mModel: \"sequential\"\u001b[0m\n"
      ]
     },
     "metadata": {},
     "output_type": "display_data"
    },
    {
     "data": {
      "text/html": [
       "<pre style=\"white-space:pre;overflow-x:auto;line-height:normal;font-family:Menlo,'DejaVu Sans Mono',consolas,'Courier New',monospace\">┏━━━━━━━━━━━━━━━━━━━━━━━━━━━━━━━━━┳━━━━━━━━━━━━━━━━━━━━━━━━┳━━━━━━━━━━━━━━━┓\n",
       "┃<span style=\"font-weight: bold\"> Layer (type)                    </span>┃<span style=\"font-weight: bold\"> Output Shape           </span>┃<span style=\"font-weight: bold\">       Param # </span>┃\n",
       "┡━━━━━━━━━━━━━━━━━━━━━━━━━━━━━━━━━╇━━━━━━━━━━━━━━━━━━━━━━━━╇━━━━━━━━━━━━━━━┩\n",
       "│ embedding (<span style=\"color: #0087ff; text-decoration-color: #0087ff\">Embedding</span>)           │ (<span style=\"color: #00d7ff; text-decoration-color: #00d7ff\">None</span>, <span style=\"color: #00af00; text-decoration-color: #00af00\">52</span>, <span style=\"color: #00af00; text-decoration-color: #00af00\">300</span>)        │     <span style=\"color: #00af00; text-decoration-color: #00af00\">3,501,000</span> │\n",
       "├─────────────────────────────────┼────────────────────────┼───────────────┤\n",
       "│ bidirectional (<span style=\"color: #0087ff; text-decoration-color: #0087ff\">Bidirectional</span>)   │ (<span style=\"color: #00d7ff; text-decoration-color: #00d7ff\">None</span>, <span style=\"color: #00af00; text-decoration-color: #00af00\">256</span>)            │       <span style=\"color: #00af00; text-decoration-color: #00af00\">439,296</span> │\n",
       "├─────────────────────────────────┼────────────────────────┼───────────────┤\n",
       "│ dropout (<span style=\"color: #0087ff; text-decoration-color: #0087ff\">Dropout</span>)               │ (<span style=\"color: #00d7ff; text-decoration-color: #00d7ff\">None</span>, <span style=\"color: #00af00; text-decoration-color: #00af00\">256</span>)            │             <span style=\"color: #00af00; text-decoration-color: #00af00\">0</span> │\n",
       "├─────────────────────────────────┼────────────────────────┼───────────────┤\n",
       "│ dense (<span style=\"color: #0087ff; text-decoration-color: #0087ff\">Dense</span>)                   │ (<span style=\"color: #00d7ff; text-decoration-color: #00d7ff\">None</span>, <span style=\"color: #00af00; text-decoration-color: #00af00\">64</span>)             │        <span style=\"color: #00af00; text-decoration-color: #00af00\">16,448</span> │\n",
       "├─────────────────────────────────┼────────────────────────┼───────────────┤\n",
       "│ dropout_1 (<span style=\"color: #0087ff; text-decoration-color: #0087ff\">Dropout</span>)             │ (<span style=\"color: #00d7ff; text-decoration-color: #00d7ff\">None</span>, <span style=\"color: #00af00; text-decoration-color: #00af00\">64</span>)             │             <span style=\"color: #00af00; text-decoration-color: #00af00\">0</span> │\n",
       "├─────────────────────────────────┼────────────────────────┼───────────────┤\n",
       "│ dense_1 (<span style=\"color: #0087ff; text-decoration-color: #0087ff\">Dense</span>)                 │ (<span style=\"color: #00d7ff; text-decoration-color: #00d7ff\">None</span>, <span style=\"color: #00af00; text-decoration-color: #00af00\">1</span>)              │            <span style=\"color: #00af00; text-decoration-color: #00af00\">65</span> │\n",
       "└─────────────────────────────────┴────────────────────────┴───────────────┘\n",
       "</pre>\n"
      ],
      "text/plain": [
       "┏━━━━━━━━━━━━━━━━━━━━━━━━━━━━━━━━━┳━━━━━━━━━━━━━━━━━━━━━━━━┳━━━━━━━━━━━━━━━┓\n",
       "┃\u001b[1m \u001b[0m\u001b[1mLayer (type)                   \u001b[0m\u001b[1m \u001b[0m┃\u001b[1m \u001b[0m\u001b[1mOutput Shape          \u001b[0m\u001b[1m \u001b[0m┃\u001b[1m \u001b[0m\u001b[1m      Param #\u001b[0m\u001b[1m \u001b[0m┃\n",
       "┡━━━━━━━━━━━━━━━━━━━━━━━━━━━━━━━━━╇━━━━━━━━━━━━━━━━━━━━━━━━╇━━━━━━━━━━━━━━━┩\n",
       "│ embedding (\u001b[38;5;33mEmbedding\u001b[0m)           │ (\u001b[38;5;45mNone\u001b[0m, \u001b[38;5;34m52\u001b[0m, \u001b[38;5;34m300\u001b[0m)        │     \u001b[38;5;34m3,501,000\u001b[0m │\n",
       "├─────────────────────────────────┼────────────────────────┼───────────────┤\n",
       "│ bidirectional (\u001b[38;5;33mBidirectional\u001b[0m)   │ (\u001b[38;5;45mNone\u001b[0m, \u001b[38;5;34m256\u001b[0m)            │       \u001b[38;5;34m439,296\u001b[0m │\n",
       "├─────────────────────────────────┼────────────────────────┼───────────────┤\n",
       "│ dropout (\u001b[38;5;33mDropout\u001b[0m)               │ (\u001b[38;5;45mNone\u001b[0m, \u001b[38;5;34m256\u001b[0m)            │             \u001b[38;5;34m0\u001b[0m │\n",
       "├─────────────────────────────────┼────────────────────────┼───────────────┤\n",
       "│ dense (\u001b[38;5;33mDense\u001b[0m)                   │ (\u001b[38;5;45mNone\u001b[0m, \u001b[38;5;34m64\u001b[0m)             │        \u001b[38;5;34m16,448\u001b[0m │\n",
       "├─────────────────────────────────┼────────────────────────┼───────────────┤\n",
       "│ dropout_1 (\u001b[38;5;33mDropout\u001b[0m)             │ (\u001b[38;5;45mNone\u001b[0m, \u001b[38;5;34m64\u001b[0m)             │             \u001b[38;5;34m0\u001b[0m │\n",
       "├─────────────────────────────────┼────────────────────────┼───────────────┤\n",
       "│ dense_1 (\u001b[38;5;33mDense\u001b[0m)                 │ (\u001b[38;5;45mNone\u001b[0m, \u001b[38;5;34m1\u001b[0m)              │            \u001b[38;5;34m65\u001b[0m │\n",
       "└─────────────────────────────────┴────────────────────────┴───────────────┘\n"
      ]
     },
     "metadata": {},
     "output_type": "display_data"
    },
    {
     "data": {
      "text/html": [
       "<pre style=\"white-space:pre;overflow-x:auto;line-height:normal;font-family:Menlo,'DejaVu Sans Mono',consolas,'Courier New',monospace\"><span style=\"font-weight: bold\"> Total params: </span><span style=\"color: #00af00; text-decoration-color: #00af00\">3,956,809</span> (15.09 MB)\n",
       "</pre>\n"
      ],
      "text/plain": [
       "\u001b[1m Total params: \u001b[0m\u001b[38;5;34m3,956,809\u001b[0m (15.09 MB)\n"
      ]
     },
     "metadata": {},
     "output_type": "display_data"
    },
    {
     "data": {
      "text/html": [
       "<pre style=\"white-space:pre;overflow-x:auto;line-height:normal;font-family:Menlo,'DejaVu Sans Mono',consolas,'Courier New',monospace\"><span style=\"font-weight: bold\"> Trainable params: </span><span style=\"color: #00af00; text-decoration-color: #00af00\">455,809</span> (1.74 MB)\n",
       "</pre>\n"
      ],
      "text/plain": [
       "\u001b[1m Trainable params: \u001b[0m\u001b[38;5;34m455,809\u001b[0m (1.74 MB)\n"
      ]
     },
     "metadata": {},
     "output_type": "display_data"
    },
    {
     "data": {
      "text/html": [
       "<pre style=\"white-space:pre;overflow-x:auto;line-height:normal;font-family:Menlo,'DejaVu Sans Mono',consolas,'Courier New',monospace\"><span style=\"font-weight: bold\"> Non-trainable params: </span><span style=\"color: #00af00; text-decoration-color: #00af00\">3,501,000</span> (13.36 MB)\n",
       "</pre>\n"
      ],
      "text/plain": [
       "\u001b[1m Non-trainable params: \u001b[0m\u001b[38;5;34m3,501,000\u001b[0m (13.36 MB)\n"
      ]
     },
     "metadata": {},
     "output_type": "display_data"
    }
   ],
   "source": [
    "# Bangun model LSTM\n",
    "def build_lstm_model(num_tokens, embedding_dim, maxlen, embedding_matrix, lstm_units, dense_units, dropout_rate):\n",
    "    model = Sequential()\n",
    "    \n",
    "    model.add(Embedding(input_dim=num_tokens,\n",
    "                        output_dim=embedding_dim, \n",
    "                        weights=[embedding_matrix], \n",
    "                        input_length=maxlen,\n",
    "                        trainable=False))\n",
    "    \n",
    "    #Lapisan BiLSTM untuk menangkap konteks dari kedua arah\n",
    "    model.add(Bidirectional(LSTM(lstm_units, return_sequences=False)))\n",
    "    model.add(Dropout(dropout_rate))  # Dropout untuk regularisasi\n",
    "\n",
    "    #Lapisan Dense dengan aktivasi ReLU\n",
    "    model.add(Dense(dense_units, activation='relu'))\n",
    "    model.add(Dropout(dropout_rate))  # Dropout untuk regularisasi\n",
    "\n",
    "    #Lapisan output dengan aktivasi sigmoid untuk klasifikasi biner\n",
    "    model.add(Dense(1, activation='sigmoid'))\n",
    "\n",
    "    return model\n",
    "\n",
    "# Inisialisasi model\n",
    "model = build_lstm_model(num_tokens, embedding_dim, maxlen, embedding_matrix, lstm_units, dense_units, dropout_rate)\n",
    "# Bangun model secara eksplisit dengan menentukan input_shape\n",
    "model.build(input_shape=(None, maxlen))\n",
    "model.summary()"
   ]
  },
  {
   "cell_type": "code",
   "execution_count": 18,
   "id": "2e99645d",
   "metadata": {},
   "outputs": [
    {
     "name": "stdout",
     "output_type": "stream",
     "text": [
      "Model telah dicompile.\n"
     ]
    }
   ],
   "source": [
    "# Compile model\n",
    "METRICS = ['accuracy',\n",
    "           tf.keras.metrics.Precision(name='precision'),\n",
    "           tf.keras.metrics.Recall(name='recall'),]\n",
    "\n",
    "optimizer = tf.keras.optimizers.Adam(learning_rate=learning_rate)\n",
    "model.compile(optimizer=optimizer,\n",
    "              loss='binary_crossentropy',\n",
    "              metrics=METRICS)\n",
    "print(\"Model telah dicompile.\")"
   ]
  },
  {
   "cell_type": "markdown",
   "id": "7c673582",
   "metadata": {},
   "source": [
    "***PELATIHAN DAN EVALUASI MODEL***"
   ]
  },
  {
   "cell_type": "code",
   "execution_count": 19,
   "id": "5fadaccc",
   "metadata": {},
   "outputs": [
    {
     "name": "stdout",
     "output_type": "stream",
     "text": [
      "Total data instances for Cross-Validation: 9060\n",
      "Overall data distribution for Cross-Validation: Counter({0: 8237, 1: 823})\n"
     ]
    }
   ],
   "source": [
    "#Definisikan X dan y untuk model pelatihan dan evaluasi\n",
    "X_cv = X_padded\n",
    "y_cv = y\n",
    "\n",
    "print(f\"Total data instances for Cross-Validation: {len(X_cv)}\")\n",
    "print(f\"Overall data distribution for Cross-Validation: {Counter(y_cv)}\")"
   ]
  },
  {
   "cell_type": "code",
   "execution_count": 20,
   "id": "6e700fc7",
   "metadata": {},
   "outputs": [],
   "source": [
    "#Definisikan Fungsi untuk Melatih dan Mengevaluasi Model pada Satu Fold\n",
    "def train_and_evaluate_single_fold(X_train_fold, y_train_fold, X_val_fold, y_val_fold, fold_idx, technique_name):\n",
    "    print(f\"\\n===== Training and Evaluating {technique_name} - Fold {fold_idx+1} =====\")\n",
    "    \n",
    "    # Rebuild model to ensure fresh weights for each fold\n",
    "    model = build_lstm_model(num_tokens, embedding_dim, maxlen, embedding_matrix, lstm_units, dense_units, dropout_rate)\n",
    "    model.build(input_shape=(None, maxlen))\n",
    "    \n",
    "    optimizer = tf.keras.optimizers.Adam(learning_rate=learning_rate)\n",
    "    # Metrik untuk kompilasi model di dalam fungsi ini\n",
    "    METRICS_FOLD = [\n",
    "        'accuracy',\n",
    "        tf.keras.metrics.Precision(name='precision'), \n",
    "        tf.keras.metrics.Recall(name='recall'),\n",
    "    ]\n",
    "    model.compile(optimizer=optimizer, loss='binary_crossentropy', metrics=METRICS_FOLD)\n",
    "    \n",
    "    early_stopping = EarlyStopping(monitor='val_loss', patience=3, mode='min', restore_best_weights=True, verbose=1) \n",
    "    \n",
    "    # Pastikan tipe data numerik yang benar untuk TensorFlow\n",
    "    X_train_fold = X_train_fold.astype(np.float32)\n",
    "    y_train_fold = y_train_fold.astype(np.int32)\n",
    "    X_val_fold = X_val_fold.astype(np.float32)\n",
    "    y_val_fold = y_val_fold.astype(np.int32)\n",
    "\n",
    "    # Train the model\n",
    "    history = model.fit(X_train_fold, y_train_fold,\n",
    "                        epochs=epochs,\n",
    "                        batch_size=batch_size,\n",
    "                        validation_data=(X_val_fold, y_val_fold), # Gunakan validation_data langsung \n",
    "                        callbacks=[early_stopping], # Tambahkan callback EarlyStopping di sini\n",
    "                        verbose=1)\n",
    "    \n",
    "    # Make predictions on the validation fold\n",
    "    y_pred_prob = model.predict(X_val_fold)\n",
    "    y_pred = (y_pred_prob > 0.5).astype(int)\n",
    "\n",
    "    # Compute metrics for this fold\n",
    "    accuracy = accuracy_score(y_val_fold, y_pred)\n",
    "    precision = precision_score(y_val_fold, y_pred, zero_division=0)\n",
    "    recall = recall_score(y_val_fold, y_pred, zero_division=0)\n",
    "    f1 = f1_score(y_val_fold, y_pred, zero_division=0)\n",
    "    \n",
    "    print(f\"Fold {fold_idx+1} Metrics: Accuracy={accuracy:.4f}, Precision={precision:.4f}, Recall={recall:.4f}, F1-Score={f1:.4f}\")\n",
    "    \n",
    "    return {'accuracy': accuracy, 'precision': precision, 'recall': recall, 'f1_score': f1, 'y_true': y_val_fold, 'y_pred': y_pred}"
   ]
  },
  {
   "cell_type": "code",
   "execution_count": 21,
   "id": "50dd32f8",
   "metadata": {},
   "outputs": [
    {
     "name": "stdout",
     "output_type": "stream",
     "text": [
      "\n",
      "--- Starting 5-Fold Cross-Validation for Random Oversampling ---\n"
     ]
    },
    {
     "name": "stderr",
     "output_type": "stream",
     "text": [
      "  0%|          | 0/5 [00:00<?, ?it/s]"
     ]
    },
    {
     "name": "stdout",
     "output_type": "stream",
     "text": [
      "Fold 1 - Resampled training set distribution (Random Oversampling): Counter({0: 6589, 1: 6589})\n",
      "\n",
      "===== Training and Evaluating Random Oversampling - Fold 1 =====\n"
     ]
    },
    {
     "name": "stderr",
     "output_type": "stream",
     "text": [
      "c:\\Users\\Arciel\\anaconda3\\Lib\\site-packages\\keras\\src\\layers\\core\\embedding.py:90: UserWarning: Argument `input_length` is deprecated. Just remove it.\n",
      "  warnings.warn(\n"
     ]
    },
    {
     "name": "stdout",
     "output_type": "stream",
     "text": [
      "Epoch 1/10\n",
      "\u001b[1m206/206\u001b[0m \u001b[32m━━━━━━━━━━━━━━━━━━━━\u001b[0m\u001b[37m\u001b[0m \u001b[1m36s\u001b[0m 149ms/step - accuracy: 0.6405 - loss: 0.6223 - precision: 0.6280 - recall: 0.7157 - val_accuracy: 0.7340 - val_loss: 0.5106 - val_precision: 0.2211 - val_recall: 0.7683\n",
      "Epoch 2/10\n",
      "\u001b[1m206/206\u001b[0m \u001b[32m━━━━━━━━━━━━━━━━━━━━\u001b[0m\u001b[37m\u001b[0m \u001b[1m37s\u001b[0m 180ms/step - accuracy: 0.8011 - loss: 0.4432 - precision: 0.7748 - recall: 0.8411 - val_accuracy: 0.7737 - val_loss: 0.4617 - val_precision: 0.2510 - val_recall: 0.7561\n",
      "Epoch 3/10\n",
      "\u001b[1m206/206\u001b[0m \u001b[32m━━━━━━━━━━━━━━━━━━━━\u001b[0m\u001b[37m\u001b[0m \u001b[1m59s\u001b[0m 286ms/step - accuracy: 0.8473 - loss: 0.3525 - precision: 0.8151 - recall: 0.8975 - val_accuracy: 0.8140 - val_loss: 0.4155 - val_precision: 0.2765 - val_recall: 0.6524\n",
      "Epoch 4/10\n",
      "\u001b[1m206/206\u001b[0m \u001b[32m━━━━━━━━━━━━━━━━━━━━\u001b[0m\u001b[37m\u001b[0m \u001b[1m61s\u001b[0m 297ms/step - accuracy: 0.8904 - loss: 0.2762 - precision: 0.8628 - recall: 0.9294 - val_accuracy: 0.7368 - val_loss: 0.5686 - val_precision: 0.2210 - val_recall: 0.7561\n",
      "Epoch 5/10\n",
      "\u001b[1m206/206\u001b[0m \u001b[32m━━━━━━━━━━━━━━━━━━━━\u001b[0m\u001b[37m\u001b[0m \u001b[1m45s\u001b[0m 219ms/step - accuracy: 0.9089 - loss: 0.2398 - precision: 0.8787 - recall: 0.9488 - val_accuracy: 0.8405 - val_loss: 0.4668 - val_precision: 0.3041 - val_recall: 0.5915\n",
      "Epoch 6/10\n",
      "\u001b[1m206/206\u001b[0m \u001b[32m━━━━━━━━━━━━━━━━━━━━\u001b[0m\u001b[37m\u001b[0m \u001b[1m41s\u001b[0m 200ms/step - accuracy: 0.9075 - loss: 0.2514 - precision: 0.8760 - recall: 0.9522 - val_accuracy: 0.8499 - val_loss: 0.4241 - val_precision: 0.3200 - val_recall: 0.5854\n",
      "Epoch 6: early stopping\n",
      "Restoring model weights from the end of the best epoch: 3.\n",
      "\u001b[1m57/57\u001b[0m \u001b[32m━━━━━━━━━━━━━━━━━━━━\u001b[0m\u001b[37m\u001b[0m \u001b[1m3s\u001b[0m 48ms/step\n"
     ]
    },
    {
     "name": "stderr",
     "output_type": "stream",
     "text": [
      " 20%|██        | 1/5 [04:43<18:54, 283.56s/it]"
     ]
    },
    {
     "name": "stdout",
     "output_type": "stream",
     "text": [
      "Fold 1 Metrics: Accuracy=0.8140, Precision=0.2765, Recall=0.6524, F1-Score=0.3884\n",
      "Waktu untuk Random Oversampling: 283.59 detik\n",
      "Fold 2 - Resampled training set distribution (Random Oversampling): Counter({0: 6589, 1: 6589})\n",
      "\n",
      "===== Training and Evaluating Random Oversampling - Fold 2 =====\n"
     ]
    },
    {
     "name": "stderr",
     "output_type": "stream",
     "text": [
      "c:\\Users\\Arciel\\anaconda3\\Lib\\site-packages\\keras\\src\\layers\\core\\embedding.py:90: UserWarning: Argument `input_length` is deprecated. Just remove it.\n",
      "  warnings.warn(\n"
     ]
    },
    {
     "name": "stdout",
     "output_type": "stream",
     "text": [
      "Epoch 1/10\n",
      "\u001b[1m206/206\u001b[0m \u001b[32m━━━━━━━━━━━━━━━━━━━━\u001b[0m\u001b[37m\u001b[0m \u001b[1m46s\u001b[0m 195ms/step - accuracy: 0.6577 - loss: 0.6136 - precision: 0.6605 - recall: 0.6322 - val_accuracy: 0.7671 - val_loss: 0.4647 - val_precision: 0.2420 - val_recall: 0.7378\n",
      "Epoch 2/10\n",
      "\u001b[1m206/206\u001b[0m \u001b[32m━━━━━━━━━━━━━━━━━━━━\u001b[0m\u001b[37m\u001b[0m \u001b[1m57s\u001b[0m 275ms/step - accuracy: 0.8091 - loss: 0.4300 - precision: 0.7890 - recall: 0.8469 - val_accuracy: 0.7130 - val_loss: 0.5530 - val_precision: 0.2129 - val_recall: 0.8049\n",
      "Epoch 3/10\n",
      "\u001b[1m206/206\u001b[0m \u001b[32m━━━━━━━━━━━━━━━━━━━━\u001b[0m\u001b[37m\u001b[0m \u001b[1m52s\u001b[0m 251ms/step - accuracy: 0.8555 - loss: 0.3470 - precision: 0.8283 - recall: 0.8959 - val_accuracy: 0.8295 - val_loss: 0.3943 - val_precision: 0.2958 - val_recall: 0.6402\n",
      "Epoch 4/10\n",
      "\u001b[1m206/206\u001b[0m \u001b[32m━━━━━━━━━━━━━━━━━━━━\u001b[0m\u001b[37m\u001b[0m \u001b[1m51s\u001b[0m 249ms/step - accuracy: 0.8651 - loss: 0.3225 - precision: 0.8332 - recall: 0.9070 - val_accuracy: 0.7908 - val_loss: 0.5305 - val_precision: 0.2482 - val_recall: 0.6463\n",
      "Epoch 5/10\n",
      "\u001b[1m206/206\u001b[0m \u001b[32m━━━━━━━━━━━━━━━━━━━━\u001b[0m\u001b[37m\u001b[0m \u001b[1m56s\u001b[0m 271ms/step - accuracy: 0.9109 - loss: 0.2324 - precision: 0.8799 - recall: 0.9493 - val_accuracy: 0.8389 - val_loss: 0.4966 - val_precision: 0.2935 - val_recall: 0.5549\n",
      "Epoch 6/10\n",
      "\u001b[1m206/206\u001b[0m \u001b[32m━━━━━━━━━━━━━━━━━━━━\u001b[0m\u001b[37m\u001b[0m \u001b[1m55s\u001b[0m 265ms/step - accuracy: 0.9284 - loss: 0.1960 - precision: 0.9030 - recall: 0.9611 - val_accuracy: 0.8449 - val_loss: 0.4710 - val_precision: 0.2990 - val_recall: 0.5305\n",
      "Epoch 6: early stopping\n",
      "Restoring model weights from the end of the best epoch: 3.\n",
      "\u001b[1m57/57\u001b[0m \u001b[32m━━━━━━━━━━━━━━━━━━━━\u001b[0m\u001b[37m\u001b[0m \u001b[1m5s\u001b[0m 66ms/step\n"
     ]
    },
    {
     "name": "stderr",
     "output_type": "stream",
     "text": [
      " 40%|████      | 2/5 [10:05<15:17, 305.88s/it]"
     ]
    },
    {
     "name": "stdout",
     "output_type": "stream",
     "text": [
      "Fold 2 Metrics: Accuracy=0.8295, Precision=0.2958, Recall=0.6402, F1-Score=0.4046\n",
      "Waktu untuk Random Oversampling: 605.10 detik\n",
      "Fold 3 - Resampled training set distribution (Random Oversampling): Counter({0: 6590, 1: 6590})\n",
      "\n",
      "===== Training and Evaluating Random Oversampling - Fold 3 =====\n"
     ]
    },
    {
     "name": "stderr",
     "output_type": "stream",
     "text": [
      "c:\\Users\\Arciel\\anaconda3\\Lib\\site-packages\\keras\\src\\layers\\core\\embedding.py:90: UserWarning: Argument `input_length` is deprecated. Just remove it.\n",
      "  warnings.warn(\n"
     ]
    },
    {
     "name": "stdout",
     "output_type": "stream",
     "text": [
      "Epoch 1/10\n",
      "\u001b[1m206/206\u001b[0m \u001b[32m━━━━━━━━━━━━━━━━━━━━\u001b[0m\u001b[37m\u001b[0m \u001b[1m60s\u001b[0m 261ms/step - accuracy: 0.6450 - loss: 0.6139 - precision: 0.6522 - recall: 0.5827 - val_accuracy: 0.7014 - val_loss: 0.5430 - val_precision: 0.2035 - val_recall: 0.7818\n",
      "Epoch 2/10\n",
      "\u001b[1m206/206\u001b[0m \u001b[32m━━━━━━━━━━━━━━━━━━━━\u001b[0m\u001b[37m\u001b[0m \u001b[1m51s\u001b[0m 245ms/step - accuracy: 0.8046 - loss: 0.4316 - precision: 0.7816 - recall: 0.8362 - val_accuracy: 0.7605 - val_loss: 0.4981 - val_precision: 0.2305 - val_recall: 0.6970\n",
      "Epoch 3/10\n",
      "\u001b[1m206/206\u001b[0m \u001b[32m━━━━━━━━━━━━━━━━━━━━\u001b[0m\u001b[37m\u001b[0m \u001b[1m56s\u001b[0m 274ms/step - accuracy: 0.8617 - loss: 0.3275 - precision: 0.8320 - recall: 0.9074 - val_accuracy: 0.7417 - val_loss: 0.5807 - val_precision: 0.2179 - val_recall: 0.7091\n",
      "Epoch 4/10\n",
      "\u001b[1m206/206\u001b[0m \u001b[32m━━━━━━━━━━━━━━━━━━━━\u001b[0m\u001b[37m\u001b[0m \u001b[1m51s\u001b[0m 247ms/step - accuracy: 0.8907 - loss: 0.2736 - precision: 0.8570 - recall: 0.9372 - val_accuracy: 0.7704 - val_loss: 0.5735 - val_precision: 0.2301 - val_recall: 0.6485\n",
      "Epoch 5/10\n",
      "\u001b[1m206/206\u001b[0m \u001b[32m━━━━━━━━━━━━━━━━━━━━\u001b[0m\u001b[37m\u001b[0m \u001b[1m51s\u001b[0m 247ms/step - accuracy: 0.9182 - loss: 0.2099 - precision: 0.8933 - recall: 0.9518 - val_accuracy: 0.7577 - val_loss: 0.5592 - val_precision: 0.2215 - val_recall: 0.6606\n",
      "Epoch 5: early stopping\n",
      "Restoring model weights from the end of the best epoch: 2.\n",
      "\u001b[1m57/57\u001b[0m \u001b[32m━━━━━━━━━━━━━━━━━━━━\u001b[0m\u001b[37m\u001b[0m \u001b[1m5s\u001b[0m 74ms/step\n"
     ]
    },
    {
     "name": "stderr",
     "output_type": "stream",
     "text": [
      " 60%|██████    | 3/5 [14:39<09:42, 291.31s/it]"
     ]
    },
    {
     "name": "stdout",
     "output_type": "stream",
     "text": [
      "Fold 3 Metrics: Accuracy=0.7605, Precision=0.2305, Recall=0.6970, F1-Score=0.3464\n",
      "Waktu untuk Random Oversampling: 879.06 detik\n",
      "Fold 4 - Resampled training set distribution (Random Oversampling): Counter({0: 6590, 1: 6590})\n",
      "\n",
      "===== Training and Evaluating Random Oversampling - Fold 4 =====\n"
     ]
    },
    {
     "name": "stderr",
     "output_type": "stream",
     "text": [
      "c:\\Users\\Arciel\\anaconda3\\Lib\\site-packages\\keras\\src\\layers\\core\\embedding.py:90: UserWarning: Argument `input_length` is deprecated. Just remove it.\n",
      "  warnings.warn(\n"
     ]
    },
    {
     "name": "stdout",
     "output_type": "stream",
     "text": [
      "Epoch 1/10\n",
      "\u001b[1m206/206\u001b[0m \u001b[32m━━━━━━━━━━━━━━━━━━━━\u001b[0m\u001b[37m\u001b[0m \u001b[1m55s\u001b[0m 242ms/step - accuracy: 0.6571 - loss: 0.6130 - precision: 0.6456 - recall: 0.7108 - val_accuracy: 0.7759 - val_loss: 0.4564 - val_precision: 0.2515 - val_recall: 0.7394\n",
      "Epoch 2/10\n",
      "\u001b[1m206/206\u001b[0m \u001b[32m━━━━━━━━━━━━━━━━━━━━\u001b[0m\u001b[37m\u001b[0m \u001b[1m49s\u001b[0m 239ms/step - accuracy: 0.8175 - loss: 0.4235 - precision: 0.7921 - recall: 0.8573 - val_accuracy: 0.7964 - val_loss: 0.4217 - val_precision: 0.2639 - val_recall: 0.6909\n",
      "Epoch 3/10\n",
      "\u001b[1m206/206\u001b[0m \u001b[32m━━━━━━━━━━━━━━━━━━━━\u001b[0m\u001b[37m\u001b[0m \u001b[1m51s\u001b[0m 249ms/step - accuracy: 0.8428 - loss: 0.3623 - precision: 0.8189 - recall: 0.8829 - val_accuracy: 0.8311 - val_loss: 0.4282 - val_precision: 0.2968 - val_recall: 0.6242\n",
      "Epoch 4/10\n",
      "\u001b[1m206/206\u001b[0m \u001b[32m━━━━━━━━━━━━━━━━━━━━\u001b[0m\u001b[37m\u001b[0m \u001b[1m50s\u001b[0m 244ms/step - accuracy: 0.8814 - loss: 0.2998 - precision: 0.8500 - recall: 0.9292 - val_accuracy: 0.8659 - val_loss: 0.3940 - val_precision: 0.3347 - val_recall: 0.4788\n",
      "Epoch 5/10\n",
      "\u001b[1m206/206\u001b[0m \u001b[32m━━━━━━━━━━━━━━━━━━━━\u001b[0m\u001b[37m\u001b[0m \u001b[1m54s\u001b[0m 260ms/step - accuracy: 0.9036 - loss: 0.2367 - precision: 0.8778 - recall: 0.9364 - val_accuracy: 0.8162 - val_loss: 0.4650 - val_precision: 0.2868 - val_recall: 0.6848\n",
      "Epoch 6/10\n",
      "\u001b[1m206/206\u001b[0m \u001b[32m━━━━━━━━━━━━━━━━━━━━\u001b[0m\u001b[37m\u001b[0m \u001b[1m51s\u001b[0m 249ms/step - accuracy: 0.9197 - loss: 0.2092 - precision: 0.8916 - recall: 0.9561 - val_accuracy: 0.8526 - val_loss: 0.5213 - val_precision: 0.3097 - val_recall: 0.5030\n",
      "Epoch 7/10\n",
      "\u001b[1m206/206\u001b[0m \u001b[32m━━━━━━━━━━━━━━━━━━━━\u001b[0m\u001b[37m\u001b[0m \u001b[1m53s\u001b[0m 257ms/step - accuracy: 0.9351 - loss: 0.1745 - precision: 0.9098 - recall: 0.9647 - val_accuracy: 0.8140 - val_loss: 0.5629 - val_precision: 0.2760 - val_recall: 0.6424\n",
      "Epoch 7: early stopping\n",
      "Restoring model weights from the end of the best epoch: 4.\n",
      "\u001b[1m57/57\u001b[0m \u001b[32m━━━━━━━━━━━━━━━━━━━━\u001b[0m\u001b[37m\u001b[0m \u001b[1m3s\u001b[0m 49ms/step\n"
     ]
    },
    {
     "name": "stderr",
     "output_type": "stream",
     "text": [
      " 80%|████████  | 4/5 [20:47<05:21, 321.64s/it]"
     ]
    },
    {
     "name": "stdout",
     "output_type": "stream",
     "text": [
      "Fold 4 Metrics: Accuracy=0.8659, Precision=0.3347, Recall=0.4788, F1-Score=0.3940\n",
      "Waktu untuk Random Oversampling: 1247.19 detik\n",
      "Fold 5 - Resampled training set distribution (Random Oversampling): Counter({0: 6590, 1: 6590})\n",
      "\n",
      "===== Training and Evaluating Random Oversampling - Fold 5 =====\n"
     ]
    },
    {
     "name": "stderr",
     "output_type": "stream",
     "text": [
      "c:\\Users\\Arciel\\anaconda3\\Lib\\site-packages\\keras\\src\\layers\\core\\embedding.py:90: UserWarning: Argument `input_length` is deprecated. Just remove it.\n",
      "  warnings.warn(\n"
     ]
    },
    {
     "name": "stdout",
     "output_type": "stream",
     "text": [
      "Epoch 1/10\n",
      "\u001b[1m206/206\u001b[0m \u001b[32m━━━━━━━━━━━━━━━━━━━━\u001b[0m\u001b[37m\u001b[0m \u001b[1m51s\u001b[0m 222ms/step - accuracy: 0.6379 - loss: 0.6132 - precision: 0.6342 - recall: 0.6633 - val_accuracy: 0.7776 - val_loss: 0.4633 - val_precision: 0.2561 - val_recall: 0.7576\n",
      "Epoch 2/10\n",
      "\u001b[1m206/206\u001b[0m \u001b[32m━━━━━━━━━━━━━━━━━━━━\u001b[0m\u001b[37m\u001b[0m \u001b[1m50s\u001b[0m 245ms/step - accuracy: 0.8214 - loss: 0.4097 - precision: 0.7983 - recall: 0.8603 - val_accuracy: 0.7428 - val_loss: 0.5252 - val_precision: 0.2259 - val_recall: 0.7515\n",
      "Epoch 3/10\n",
      "\u001b[1m206/206\u001b[0m \u001b[32m━━━━━━━━━━━━━━━━━━━━\u001b[0m\u001b[37m\u001b[0m \u001b[1m50s\u001b[0m 244ms/step - accuracy: 0.8544 - loss: 0.3418 - precision: 0.8252 - recall: 0.9023 - val_accuracy: 0.8030 - val_loss: 0.4514 - val_precision: 0.2624 - val_recall: 0.6424\n",
      "Epoch 4/10\n",
      "\u001b[1m206/206\u001b[0m \u001b[32m━━━━━━━━━━━━━━━━━━━━\u001b[0m\u001b[37m\u001b[0m \u001b[1m49s\u001b[0m 237ms/step - accuracy: 0.8956 - loss: 0.2675 - precision: 0.8617 - recall: 0.9402 - val_accuracy: 0.8560 - val_loss: 0.3693 - val_precision: 0.3195 - val_recall: 0.5152\n",
      "Epoch 5/10\n",
      "\u001b[1m206/206\u001b[0m \u001b[32m━━━━━━━━━━━━━━━━━━━━\u001b[0m\u001b[37m\u001b[0m \u001b[1m51s\u001b[0m 248ms/step - accuracy: 0.9237 - loss: 0.2163 - precision: 0.8938 - recall: 0.9596 - val_accuracy: 0.8400 - val_loss: 0.4620 - val_precision: 0.3053 - val_recall: 0.5939\n",
      "Epoch 6/10\n",
      "\u001b[1m206/206\u001b[0m \u001b[32m━━━━━━━━━━━━━━━━━━━━\u001b[0m\u001b[37m\u001b[0m \u001b[1m53s\u001b[0m 257ms/step - accuracy: 0.9356 - loss: 0.1775 - precision: 0.9128 - recall: 0.9647 - val_accuracy: 0.8295 - val_loss: 0.4623 - val_precision: 0.2882 - val_recall: 0.5939\n",
      "Epoch 7/10\n",
      "\u001b[1m206/206\u001b[0m \u001b[32m━━━━━━━━━━━━━━━━━━━━\u001b[0m\u001b[37m\u001b[0m \u001b[1m44s\u001b[0m 214ms/step - accuracy: 0.9411 - loss: 0.1708 - precision: 0.9163 - recall: 0.9707 - val_accuracy: 0.8538 - val_loss: 0.5287 - val_precision: 0.3264 - val_recall: 0.5697\n",
      "Epoch 7: early stopping\n",
      "Restoring model weights from the end of the best epoch: 4.\n",
      "\u001b[1m57/57\u001b[0m \u001b[32m━━━━━━━━━━━━━━━━━━━━\u001b[0m\u001b[37m\u001b[0m \u001b[1m4s\u001b[0m 61ms/step\n"
     ]
    },
    {
     "name": "stderr",
     "output_type": "stream",
     "text": [
      "100%|██████████| 5/5 [26:40<00:00, 320.19s/it]\n"
     ]
    },
    {
     "name": "stdout",
     "output_type": "stream",
     "text": [
      "Fold 5 Metrics: Accuracy=0.8560, Precision=0.3195, Recall=0.5152, F1-Score=0.3944\n",
      "Waktu untuk Random Oversampling: 1600.96 detik\n",
      "\n",
      "Average Metrics for Random Oversampling across 5 folds:\n",
      "{'accuracy': 0.8251655629139073, 'precision': 0.29140319854740443, 'recall': 0.5967184035476719, 'f1_score': 0.3855682183468252, 'technique': 'Random Oversampling'}\n",
      "\n",
      "--- Starting 5-Fold Cross-Validation for SMOTE ---\n"
     ]
    },
    {
     "name": "stderr",
     "output_type": "stream",
     "text": [
      "  0%|          | 0/5 [00:00<?, ?it/s]"
     ]
    },
    {
     "name": "stdout",
     "output_type": "stream",
     "text": [
      "Fold 1 - Resampled training set distribution (SMOTE): Counter({0: 6589, 1: 6589})\n",
      "\n",
      "===== Training and Evaluating SMOTE - Fold 1 =====\n",
      "Epoch 1/10\n"
     ]
    },
    {
     "name": "stderr",
     "output_type": "stream",
     "text": [
      "c:\\Users\\Arciel\\anaconda3\\Lib\\site-packages\\keras\\src\\layers\\core\\embedding.py:90: UserWarning: Argument `input_length` is deprecated. Just remove it.\n",
      "  warnings.warn(\n"
     ]
    },
    {
     "name": "stdout",
     "output_type": "stream",
     "text": [
      "\u001b[1m206/206\u001b[0m \u001b[32m━━━━━━━━━━━━━━━━━━━━\u001b[0m\u001b[37m\u001b[0m \u001b[1m62s\u001b[0m 278ms/step - accuracy: 0.5220 - loss: 0.6906 - precision: 0.5220 - recall: 0.6508 - val_accuracy: 0.5408 - val_loss: 0.6420 - val_precision: 0.1222 - val_recall: 0.6585\n",
      "Epoch 2/10\n",
      "\u001b[1m206/206\u001b[0m \u001b[32m━━━━━━━━━━━━━━━━━━━━\u001b[0m\u001b[37m\u001b[0m \u001b[1m47s\u001b[0m 228ms/step - accuracy: 0.6754 - loss: 0.6064 - precision: 0.6503 - recall: 0.7383 - val_accuracy: 0.6992 - val_loss: 0.5239 - val_precision: 0.1664 - val_recall: 0.5793\n",
      "Epoch 3/10\n",
      "\u001b[1m206/206\u001b[0m \u001b[32m━━━━━━━━━━━━━━━━━━━━\u001b[0m\u001b[37m\u001b[0m \u001b[1m46s\u001b[0m 223ms/step - accuracy: 0.7370 - loss: 0.5358 - precision: 0.7178 - recall: 0.7833 - val_accuracy: 0.7042 - val_loss: 0.5238 - val_precision: 0.1760 - val_recall: 0.6159\n",
      "Epoch 4/10\n",
      "\u001b[1m206/206\u001b[0m \u001b[32m━━━━━━━━━━━━━━━━━━━━\u001b[0m\u001b[37m\u001b[0m \u001b[1m51s\u001b[0m 245ms/step - accuracy: 0.7705 - loss: 0.4748 - precision: 0.7535 - recall: 0.8013 - val_accuracy: 0.7710 - val_loss: 0.4552 - val_precision: 0.2061 - val_recall: 0.5366\n",
      "Epoch 5/10\n",
      "\u001b[1m206/206\u001b[0m \u001b[32m━━━━━━━━━━━━━━━━━━━━\u001b[0m\u001b[37m\u001b[0m \u001b[1m48s\u001b[0m 235ms/step - accuracy: 0.8019 - loss: 0.4257 - precision: 0.7904 - recall: 0.8258 - val_accuracy: 0.6948 - val_loss: 0.5837 - val_precision: 0.1764 - val_recall: 0.6463\n",
      "Epoch 6/10\n",
      "\u001b[1m206/206\u001b[0m \u001b[32m━━━━━━━━━━━━━━━━━━━━\u001b[0m\u001b[37m\u001b[0m \u001b[1m50s\u001b[0m 244ms/step - accuracy: 0.8142 - loss: 0.4158 - precision: 0.8032 - recall: 0.8366 - val_accuracy: 0.7853 - val_loss: 0.4341 - val_precision: 0.2123 - val_recall: 0.5061\n",
      "Epoch 7/10\n",
      "\u001b[1m206/206\u001b[0m \u001b[32m━━━━━━━━━━━━━━━━━━━━\u001b[0m\u001b[37m\u001b[0m \u001b[1m48s\u001b[0m 235ms/step - accuracy: 0.8308 - loss: 0.3843 - precision: 0.8208 - recall: 0.8434 - val_accuracy: 0.8079 - val_loss: 0.4135 - val_precision: 0.2125 - val_recall: 0.4146\n",
      "Epoch 8/10\n",
      "\u001b[1m206/206\u001b[0m \u001b[32m━━━━━━━━━━━━━━━━━━━━\u001b[0m\u001b[37m\u001b[0m \u001b[1m48s\u001b[0m 234ms/step - accuracy: 0.8356 - loss: 0.3630 - precision: 0.8341 - recall: 0.8376 - val_accuracy: 0.7627 - val_loss: 0.4799 - val_precision: 0.2058 - val_recall: 0.5671\n",
      "Epoch 9/10\n",
      "\u001b[1m206/206\u001b[0m \u001b[32m━━━━━━━━━━━━━━━━━━━━\u001b[0m\u001b[37m\u001b[0m \u001b[1m49s\u001b[0m 238ms/step - accuracy: 0.8513 - loss: 0.3393 - precision: 0.8455 - recall: 0.8559 - val_accuracy: 0.8057 - val_loss: 0.4232 - val_precision: 0.2418 - val_recall: 0.5366\n",
      "Epoch 10/10\n",
      "\u001b[1m206/206\u001b[0m \u001b[32m━━━━━━━━━━━━━━━━━━━━\u001b[0m\u001b[37m\u001b[0m \u001b[1m51s\u001b[0m 250ms/step - accuracy: 0.8670 - loss: 0.3079 - precision: 0.8620 - recall: 0.8743 - val_accuracy: 0.7848 - val_loss: 0.4581 - val_precision: 0.2297 - val_recall: 0.5854\n",
      "Epoch 10: early stopping\n",
      "Restoring model weights from the end of the best epoch: 7.\n",
      "\u001b[1m57/57\u001b[0m \u001b[32m━━━━━━━━━━━━━━━━━━━━\u001b[0m\u001b[37m\u001b[0m \u001b[1m5s\u001b[0m 76ms/step\n"
     ]
    },
    {
     "name": "stderr",
     "output_type": "stream",
     "text": [
      " 20%|██        | 1/5 [08:26<33:45, 506.37s/it]"
     ]
    },
    {
     "name": "stdout",
     "output_type": "stream",
     "text": [
      "Fold 1 Metrics: Accuracy=0.8079, Precision=0.2125, Recall=0.4146, F1-Score=0.2810\n",
      "Waktu untuk SMOTE: 506.38 detik\n",
      "Fold 2 - Resampled training set distribution (SMOTE): Counter({0: 6589, 1: 6589})\n",
      "\n",
      "===== Training and Evaluating SMOTE - Fold 2 =====\n"
     ]
    },
    {
     "name": "stderr",
     "output_type": "stream",
     "text": [
      "c:\\Users\\Arciel\\anaconda3\\Lib\\site-packages\\keras\\src\\layers\\core\\embedding.py:90: UserWarning: Argument `input_length` is deprecated. Just remove it.\n",
      "  warnings.warn(\n"
     ]
    },
    {
     "name": "stdout",
     "output_type": "stream",
     "text": [
      "Epoch 1/10\n",
      "\u001b[1m206/206\u001b[0m \u001b[32m━━━━━━━━━━━━━━━━━━━━\u001b[0m\u001b[37m\u001b[0m \u001b[1m58s\u001b[0m 260ms/step - accuracy: 0.5087 - loss: 0.6923 - precision: 0.5054 - recall: 0.6202 - val_accuracy: 0.5469 - val_loss: 0.6884 - val_precision: 0.1386 - val_recall: 0.7683\n",
      "Epoch 2/10\n",
      "\u001b[1m206/206\u001b[0m \u001b[32m━━━━━━━━━━━━━━━━━━━━\u001b[0m\u001b[37m\u001b[0m \u001b[1m44s\u001b[0m 212ms/step - accuracy: 0.6237 - loss: 0.6483 - precision: 0.6049 - recall: 0.6703 - val_accuracy: 0.6043 - val_loss: 0.6784 - val_precision: 0.1423 - val_recall: 0.6707\n",
      "Epoch 3/10\n",
      "\u001b[1m206/206\u001b[0m \u001b[32m━━━━━━━━━━━━━━━━━━━━\u001b[0m\u001b[37m\u001b[0m \u001b[1m49s\u001b[0m 239ms/step - accuracy: 0.7264 - loss: 0.5417 - precision: 0.7122 - recall: 0.7644 - val_accuracy: 0.7125 - val_loss: 0.5522 - val_precision: 0.1713 - val_recall: 0.5671\n",
      "Epoch 4/10\n",
      "\u001b[1m206/206\u001b[0m \u001b[32m━━━━━━━━━━━━━━━━━━━━\u001b[0m\u001b[37m\u001b[0m \u001b[1m56s\u001b[0m 269ms/step - accuracy: 0.7640 - loss: 0.4903 - precision: 0.7531 - recall: 0.7875 - val_accuracy: 0.7263 - val_loss: 0.5511 - val_precision: 0.1732 - val_recall: 0.5366\n",
      "Epoch 5/10\n",
      "\u001b[1m206/206\u001b[0m \u001b[32m━━━━━━━━━━━━━━━━━━━━\u001b[0m\u001b[37m\u001b[0m \u001b[1m49s\u001b[0m 238ms/step - accuracy: 0.7948 - loss: 0.4451 - precision: 0.7829 - recall: 0.8176 - val_accuracy: 0.7241 - val_loss: 0.5741 - val_precision: 0.1732 - val_recall: 0.5427\n",
      "Epoch 6/10\n",
      "\u001b[1m206/206\u001b[0m \u001b[32m━━━━━━━━━━━━━━━━━━━━\u001b[0m\u001b[37m\u001b[0m \u001b[1m50s\u001b[0m 243ms/step - accuracy: 0.8015 - loss: 0.4242 - precision: 0.7961 - recall: 0.8100 - val_accuracy: 0.7555 - val_loss: 0.5209 - val_precision: 0.1987 - val_recall: 0.5610\n",
      "Epoch 7/10\n",
      "\u001b[1m206/206\u001b[0m \u001b[32m━━━━━━━━━━━━━━━━━━━━\u001b[0m\u001b[37m\u001b[0m \u001b[1m56s\u001b[0m 273ms/step - accuracy: 0.8291 - loss: 0.3821 - precision: 0.8284 - recall: 0.8315 - val_accuracy: 0.6783 - val_loss: 0.6798 - val_precision: 0.1616 - val_recall: 0.6098\n",
      "Epoch 8/10\n",
      "\u001b[1m206/206\u001b[0m \u001b[32m━━━━━━━━━━━━━━━━━━━━\u001b[0m\u001b[37m\u001b[0m \u001b[1m49s\u001b[0m 236ms/step - accuracy: 0.8419 - loss: 0.3591 - precision: 0.8418 - recall: 0.8398 - val_accuracy: 0.7428 - val_loss: 0.5665 - val_precision: 0.1774 - val_recall: 0.5061\n",
      "Epoch 9/10\n",
      "\u001b[1m206/206\u001b[0m \u001b[32m━━━━━━━━━━━━━━━━━━━━\u001b[0m\u001b[37m\u001b[0m \u001b[1m51s\u001b[0m 247ms/step - accuracy: 0.8518 - loss: 0.3334 - precision: 0.8537 - recall: 0.8470 - val_accuracy: 0.7848 - val_loss: 0.4954 - val_precision: 0.2042 - val_recall: 0.4756\n",
      "Epoch 10/10\n",
      "\u001b[1m206/206\u001b[0m \u001b[32m━━━━━━━━━━━━━━━━━━━━\u001b[0m\u001b[37m\u001b[0m \u001b[1m55s\u001b[0m 266ms/step - accuracy: 0.8645 - loss: 0.3113 - precision: 0.8678 - recall: 0.8609 - val_accuracy: 0.8085 - val_loss: 0.4571 - val_precision: 0.2114 - val_recall: 0.4085\n",
      "Restoring model weights from the end of the best epoch: 10.\n",
      "\u001b[1m57/57\u001b[0m \u001b[32m━━━━━━━━━━━━━━━━━━━━\u001b[0m\u001b[37m\u001b[0m \u001b[1m5s\u001b[0m 86ms/step\n"
     ]
    },
    {
     "name": "stderr",
     "output_type": "stream",
     "text": [
      " 40%|████      | 2/5 [17:08<25:47, 515.76s/it]"
     ]
    },
    {
     "name": "stdout",
     "output_type": "stream",
     "text": [
      "Fold 2 Metrics: Accuracy=0.8085, Precision=0.2114, Recall=0.4085, F1-Score=0.2786\n",
      "Waktu untuk SMOTE: 1028.71 detik\n",
      "Fold 3 - Resampled training set distribution (SMOTE): Counter({0: 6590, 1: 6590})\n",
      "\n",
      "===== Training and Evaluating SMOTE - Fold 3 =====\n"
     ]
    },
    {
     "name": "stderr",
     "output_type": "stream",
     "text": [
      "c:\\Users\\Arciel\\anaconda3\\Lib\\site-packages\\keras\\src\\layers\\core\\embedding.py:90: UserWarning: Argument `input_length` is deprecated. Just remove it.\n",
      "  warnings.warn(\n"
     ]
    },
    {
     "name": "stdout",
     "output_type": "stream",
     "text": [
      "Epoch 1/10\n",
      "\u001b[1m206/206\u001b[0m \u001b[32m━━━━━━━━━━━━━━━━━━━━\u001b[0m\u001b[37m\u001b[0m \u001b[1m57s\u001b[0m 252ms/step - accuracy: 0.5094 - loss: 0.6928 - precision: 0.5106 - recall: 0.6059 - val_accuracy: 0.4989 - val_loss: 0.6838 - val_precision: 0.1281 - val_recall: 0.7758\n",
      "Epoch 2/10\n",
      "\u001b[1m206/206\u001b[0m \u001b[32m━━━━━━━━━━━━━━━━━━━━\u001b[0m\u001b[37m\u001b[0m \u001b[1m54s\u001b[0m 263ms/step - accuracy: 0.6182 - loss: 0.6541 - precision: 0.6037 - recall: 0.6878 - val_accuracy: 0.6175 - val_loss: 0.6109 - val_precision: 0.1452 - val_recall: 0.6545\n",
      "Epoch 3/10\n",
      "\u001b[1m206/206\u001b[0m \u001b[32m━━━━━━━━━━━━━━━━━━━━\u001b[0m\u001b[37m\u001b[0m \u001b[1m49s\u001b[0m 239ms/step - accuracy: 0.7127 - loss: 0.5585 - precision: 0.6862 - recall: 0.7660 - val_accuracy: 0.6115 - val_loss: 0.6610 - val_precision: 0.1468 - val_recall: 0.6788\n",
      "Epoch 4/10\n",
      "\u001b[1m206/206\u001b[0m \u001b[32m━━━━━━━━━━━━━━━━━━━━\u001b[0m\u001b[37m\u001b[0m \u001b[1m53s\u001b[0m 259ms/step - accuracy: 0.7582 - loss: 0.4967 - precision: 0.7435 - recall: 0.7913 - val_accuracy: 0.7853 - val_loss: 0.4467 - val_precision: 0.1818 - val_recall: 0.3879\n",
      "Epoch 5/10\n",
      "\u001b[1m206/206\u001b[0m \u001b[32m━━━━━━━━━━━━━━━━━━━━\u001b[0m\u001b[37m\u001b[0m \u001b[1m58s\u001b[0m 279ms/step - accuracy: 0.7822 - loss: 0.4628 - precision: 0.7705 - recall: 0.8032 - val_accuracy: 0.7219 - val_loss: 0.5468 - val_precision: 0.1844 - val_recall: 0.6000\n",
      "Epoch 6/10\n",
      "\u001b[1m206/206\u001b[0m \u001b[32m━━━━━━━━━━━━━━━━━━━━\u001b[0m\u001b[37m\u001b[0m \u001b[1m47s\u001b[0m 226ms/step - accuracy: 0.8089 - loss: 0.4177 - precision: 0.7998 - recall: 0.8241 - val_accuracy: 0.7208 - val_loss: 0.5445 - val_precision: 0.1740 - val_recall: 0.5515\n",
      "Epoch 7/10\n",
      "\u001b[1m206/206\u001b[0m \u001b[32m━━━━━━━━━━━━━━━━━━━━\u001b[0m\u001b[37m\u001b[0m \u001b[1m51s\u001b[0m 245ms/step - accuracy: 0.8100 - loss: 0.4139 - precision: 0.8088 - recall: 0.8151 - val_accuracy: 0.7726 - val_loss: 0.4891 - val_precision: 0.2067 - val_recall: 0.5273\n",
      "Epoch 7: early stopping\n",
      "Restoring model weights from the end of the best epoch: 4.\n",
      "\u001b[1m57/57\u001b[0m \u001b[32m━━━━━━━━━━━━━━━━━━━━\u001b[0m\u001b[37m\u001b[0m \u001b[1m6s\u001b[0m 95ms/step\n"
     ]
    },
    {
     "name": "stderr",
     "output_type": "stream",
     "text": [
      " 60%|██████    | 3/5 [23:23<15:02, 451.18s/it]"
     ]
    },
    {
     "name": "stdout",
     "output_type": "stream",
     "text": [
      "Fold 3 Metrics: Accuracy=0.7853, Precision=0.1818, Recall=0.3879, F1-Score=0.2476\n",
      "Waktu untuk SMOTE: 1403.04 detik\n",
      "Fold 4 - Resampled training set distribution (SMOTE): Counter({0: 6590, 1: 6590})\n",
      "\n",
      "===== Training and Evaluating SMOTE - Fold 4 =====\n"
     ]
    },
    {
     "name": "stderr",
     "output_type": "stream",
     "text": [
      "c:\\Users\\Arciel\\anaconda3\\Lib\\site-packages\\keras\\src\\layers\\core\\embedding.py:90: UserWarning: Argument `input_length` is deprecated. Just remove it.\n",
      "  warnings.warn(\n"
     ]
    },
    {
     "name": "stdout",
     "output_type": "stream",
     "text": [
      "Epoch 1/10\n",
      "\u001b[1m206/206\u001b[0m \u001b[32m━━━━━━━━━━━━━━━━━━━━\u001b[0m\u001b[37m\u001b[0m \u001b[1m60s\u001b[0m 270ms/step - accuracy: 0.5095 - loss: 0.6915 - precision: 0.5099 - recall: 0.5692 - val_accuracy: 0.4978 - val_loss: 0.7153 - val_precision: 0.1294 - val_recall: 0.7879\n",
      "Epoch 2/10\n",
      "\u001b[1m206/206\u001b[0m \u001b[32m━━━━━━━━━━━━━━━━━━━━\u001b[0m\u001b[37m\u001b[0m \u001b[1m54s\u001b[0m 263ms/step - accuracy: 0.6711 - loss: 0.6092 - precision: 0.6572 - recall: 0.7025 - val_accuracy: 0.5977 - val_loss: 0.6633 - val_precision: 0.1366 - val_recall: 0.6424\n",
      "Epoch 3/10\n",
      "\u001b[1m206/206\u001b[0m \u001b[32m━━━━━━━━━━━━━━━━━━━━\u001b[0m\u001b[37m\u001b[0m \u001b[1m52s\u001b[0m 251ms/step - accuracy: 0.7415 - loss: 0.5259 - precision: 0.7231 - recall: 0.7839 - val_accuracy: 0.6600 - val_loss: 0.6209 - val_precision: 0.1525 - val_recall: 0.6000\n",
      "Epoch 4/10\n",
      "\u001b[1m206/206\u001b[0m \u001b[32m━━━━━━━━━━━━━━━━━━━━\u001b[0m\u001b[37m\u001b[0m \u001b[1m54s\u001b[0m 261ms/step - accuracy: 0.7709 - loss: 0.4767 - precision: 0.7620 - recall: 0.7818 - val_accuracy: 0.7517 - val_loss: 0.5221 - val_precision: 0.1895 - val_recall: 0.5273\n",
      "Epoch 5/10\n",
      "\u001b[1m206/206\u001b[0m \u001b[32m━━━━━━━━━━━━━━━━━━━━\u001b[0m\u001b[37m\u001b[0m \u001b[1m55s\u001b[0m 268ms/step - accuracy: 0.7872 - loss: 0.4502 - precision: 0.7845 - recall: 0.7950 - val_accuracy: 0.7224 - val_loss: 0.5444 - val_precision: 0.1750 - val_recall: 0.5515\n",
      "Epoch 6/10\n",
      "\u001b[1m206/206\u001b[0m \u001b[32m━━━━━━━━━━━━━━━━━━━━\u001b[0m\u001b[37m\u001b[0m \u001b[1m54s\u001b[0m 262ms/step - accuracy: 0.8088 - loss: 0.4180 - precision: 0.7990 - recall: 0.8254 - val_accuracy: 0.6865 - val_loss: 0.6138 - val_precision: 0.1544 - val_recall: 0.5455\n",
      "Epoch 7/10\n",
      "\u001b[1m206/206\u001b[0m \u001b[32m━━━━━━━━━━━━━━━━━━━━\u001b[0m\u001b[37m\u001b[0m \u001b[1m52s\u001b[0m 254ms/step - accuracy: 0.8164 - loss: 0.3985 - precision: 0.8148 - recall: 0.8171 - val_accuracy: 0.7787 - val_loss: 0.4875 - val_precision: 0.2108 - val_recall: 0.5212\n",
      "Epoch 8/10\n",
      "\u001b[1m206/206\u001b[0m \u001b[32m━━━━━━━━━━━━━━━━━━━━\u001b[0m\u001b[37m\u001b[0m \u001b[1m53s\u001b[0m 257ms/step - accuracy: 0.8320 - loss: 0.3721 - precision: 0.8313 - recall: 0.8303 - val_accuracy: 0.7428 - val_loss: 0.5307 - val_precision: 0.1805 - val_recall: 0.5152\n",
      "Epoch 9/10\n",
      "\u001b[1m206/206\u001b[0m \u001b[32m━━━━━━━━━━━━━━━━━━━━\u001b[0m\u001b[37m\u001b[0m \u001b[1m53s\u001b[0m 256ms/step - accuracy: 0.8474 - loss: 0.3419 - precision: 0.8440 - recall: 0.8532 - val_accuracy: 0.7616 - val_loss: 0.5095 - val_precision: 0.1931 - val_recall: 0.5091\n",
      "Epoch 10/10\n",
      "\u001b[1m206/206\u001b[0m \u001b[32m━━━━━━━━━━━━━━━━━━━━\u001b[0m\u001b[37m\u001b[0m \u001b[1m56s\u001b[0m 272ms/step - accuracy: 0.8648 - loss: 0.3189 - precision: 0.8625 - recall: 0.8644 - val_accuracy: 0.8107 - val_loss: 0.4528 - val_precision: 0.2110 - val_recall: 0.3939\n",
      "Restoring model weights from the end of the best epoch: 10.\n",
      "\u001b[1m57/57\u001b[0m \u001b[32m━━━━━━━━━━━━━━━━━━━━\u001b[0m\u001b[37m\u001b[0m \u001b[1m4s\u001b[0m 59ms/step\n"
     ]
    },
    {
     "name": "stderr",
     "output_type": "stream",
     "text": [
      " 80%|████████  | 4/5 [32:30<08:09, 489.10s/it]"
     ]
    },
    {
     "name": "stdout",
     "output_type": "stream",
     "text": [
      "Fold 4 Metrics: Accuracy=0.8107, Precision=0.2110, Recall=0.3939, F1-Score=0.2748\n",
      "Waktu untuk SMOTE: 1950.28 detik\n",
      "Fold 5 - Resampled training set distribution (SMOTE): Counter({0: 6590, 1: 6590})\n",
      "\n",
      "===== Training and Evaluating SMOTE - Fold 5 =====\n"
     ]
    },
    {
     "name": "stderr",
     "output_type": "stream",
     "text": [
      "c:\\Users\\Arciel\\anaconda3\\Lib\\site-packages\\keras\\src\\layers\\core\\embedding.py:90: UserWarning: Argument `input_length` is deprecated. Just remove it.\n",
      "  warnings.warn(\n"
     ]
    },
    {
     "name": "stdout",
     "output_type": "stream",
     "text": [
      "Epoch 1/10\n",
      "\u001b[1m206/206\u001b[0m \u001b[32m━━━━━━━━━━━━━━━━━━━━\u001b[0m\u001b[37m\u001b[0m \u001b[1m55s\u001b[0m 247ms/step - accuracy: 0.5268 - loss: 0.6915 - precision: 0.5220 - recall: 0.5391 - val_accuracy: 0.7544 - val_loss: 0.5647 - val_precision: 0.1651 - val_recall: 0.4182\n",
      "Epoch 2/10\n",
      "\u001b[1m206/206\u001b[0m \u001b[32m━━━━━━━━━━━━━━━━━━━━\u001b[0m\u001b[37m\u001b[0m \u001b[1m47s\u001b[0m 229ms/step - accuracy: 0.6614 - loss: 0.6244 - precision: 0.6486 - recall: 0.7291 - val_accuracy: 0.5844 - val_loss: 0.7042 - val_precision: 0.1432 - val_recall: 0.7152\n",
      "Epoch 3/10\n",
      "\u001b[1m206/206\u001b[0m \u001b[32m━━━━━━━━━━━━━━━━━━━━\u001b[0m\u001b[37m\u001b[0m \u001b[1m52s\u001b[0m 252ms/step - accuracy: 0.7267 - loss: 0.5369 - precision: 0.7066 - recall: 0.7682 - val_accuracy: 0.7572 - val_loss: 0.4732 - val_precision: 0.1795 - val_recall: 0.4667\n",
      "Epoch 4/10\n",
      "\u001b[1m206/206\u001b[0m \u001b[32m━━━━━━━━━━━━━━━━━━━━\u001b[0m\u001b[37m\u001b[0m \u001b[1m55s\u001b[0m 268ms/step - accuracy: 0.7682 - loss: 0.4781 - precision: 0.7573 - recall: 0.7920 - val_accuracy: 0.7125 - val_loss: 0.5433 - val_precision: 0.1799 - val_recall: 0.6061\n",
      "Epoch 5/10\n",
      "\u001b[1m206/206\u001b[0m \u001b[32m━━━━━━━━━━━━━━━━━━━━\u001b[0m\u001b[37m\u001b[0m \u001b[1m48s\u001b[0m 231ms/step - accuracy: 0.7987 - loss: 0.4427 - precision: 0.7951 - recall: 0.8121 - val_accuracy: 0.7627 - val_loss: 0.4886 - val_precision: 0.1882 - val_recall: 0.4848\n",
      "Epoch 6/10\n",
      "\u001b[1m206/206\u001b[0m \u001b[32m━━━━━━━━━━━━━━━━━━━━\u001b[0m\u001b[37m\u001b[0m \u001b[1m52s\u001b[0m 251ms/step - accuracy: 0.8090 - loss: 0.4145 - precision: 0.8079 - recall: 0.8098 - val_accuracy: 0.7643 - val_loss: 0.4755 - val_precision: 0.1939 - val_recall: 0.5030\n",
      "Epoch 6: early stopping\n",
      "Restoring model weights from the end of the best epoch: 3.\n",
      "\u001b[1m57/57\u001b[0m \u001b[32m━━━━━━━━━━━━━━━━━━━━\u001b[0m\u001b[37m\u001b[0m \u001b[1m5s\u001b[0m 69ms/step\n"
     ]
    },
    {
     "name": "stderr",
     "output_type": "stream",
     "text": [
      "100%|██████████| 5/5 [37:44<00:00, 452.85s/it]\n"
     ]
    },
    {
     "name": "stdout",
     "output_type": "stream",
     "text": [
      "Fold 5 Metrics: Accuracy=0.7572, Precision=0.1795, Recall=0.4667, F1-Score=0.2593\n",
      "Waktu untuk SMOTE: 2264.27 detik\n",
      "\n",
      "Average Metrics for SMOTE across 5 folds:\n",
      "{'accuracy': 0.7939293598233995, 'precision': 0.1992401578442588, 'recall': 0.41433111603843314, 'f1_score': 0.26825218320877536, 'technique': 'SMOTE'}\n",
      "\n",
      "--- Starting 5-Fold Cross-Validation for ADASYN ---\n"
     ]
    },
    {
     "name": "stderr",
     "output_type": "stream",
     "text": [
      "  0%|          | 0/5 [00:00<?, ?it/s]"
     ]
    },
    {
     "name": "stdout",
     "output_type": "stream",
     "text": [
      "Fold 1 - Resampled training set distribution (ADASYN): Counter({1: 6623, 0: 6589})\n",
      "\n",
      "===== Training and Evaluating ADASYN - Fold 1 =====\n",
      "Epoch 1/10\n"
     ]
    },
    {
     "name": "stderr",
     "output_type": "stream",
     "text": [
      "c:\\Users\\Arciel\\anaconda3\\Lib\\site-packages\\keras\\src\\layers\\core\\embedding.py:90: UserWarning: Argument `input_length` is deprecated. Just remove it.\n",
      "  warnings.warn(\n"
     ]
    },
    {
     "name": "stdout",
     "output_type": "stream",
     "text": [
      "\u001b[1m207/207\u001b[0m \u001b[32m━━━━━━━━━━━━━━━━━━━━\u001b[0m\u001b[37m\u001b[0m \u001b[1m39s\u001b[0m 164ms/step - accuracy: 0.5267 - loss: 0.6904 - precision: 0.5275 - recall: 0.6210 - val_accuracy: 0.5292 - val_loss: 0.6793 - val_precision: 0.1218 - val_recall: 0.6768\n",
      "Epoch 2/10\n",
      "\u001b[1m207/207\u001b[0m \u001b[32m━━━━━━━━━━━━━━━━━━━━\u001b[0m\u001b[37m\u001b[0m \u001b[1m37s\u001b[0m 177ms/step - accuracy: 0.6478 - loss: 0.6317 - precision: 0.6289 - recall: 0.7180 - val_accuracy: 0.7423 - val_loss: 0.4935 - val_precision: 0.1837 - val_recall: 0.5366\n",
      "Epoch 3/10\n",
      "\u001b[1m207/207\u001b[0m \u001b[32m━━━━━━━━━━━━━━━━━━━━\u001b[0m\u001b[37m\u001b[0m \u001b[1m44s\u001b[0m 214ms/step - accuracy: 0.7352 - loss: 0.5340 - precision: 0.7249 - recall: 0.7697 - val_accuracy: 0.6683 - val_loss: 0.5743 - val_precision: 0.1623 - val_recall: 0.6402\n",
      "Epoch 4/10\n",
      "\u001b[1m207/207\u001b[0m \u001b[32m━━━━━━━━━━━━━━━━━━━━\u001b[0m\u001b[37m\u001b[0m \u001b[1m55s\u001b[0m 266ms/step - accuracy: 0.7728 - loss: 0.4738 - precision: 0.7594 - recall: 0.7884 - val_accuracy: 0.7053 - val_loss: 0.5912 - val_precision: 0.1661 - val_recall: 0.5610\n",
      "Epoch 5/10\n",
      "\u001b[1m207/207\u001b[0m \u001b[32m━━━━━━━━━━━━━━━━━━━━\u001b[0m\u001b[37m\u001b[0m \u001b[1m54s\u001b[0m 261ms/step - accuracy: 0.7943 - loss: 0.4489 - precision: 0.7863 - recall: 0.8136 - val_accuracy: 0.8344 - val_loss: 0.3901 - val_precision: 0.2518 - val_recall: 0.4207\n",
      "Epoch 6/10\n",
      "\u001b[1m207/207\u001b[0m \u001b[32m━━━━━━━━━━━━━━━━━━━━\u001b[0m\u001b[37m\u001b[0m \u001b[1m53s\u001b[0m 258ms/step - accuracy: 0.8112 - loss: 0.4087 - precision: 0.8097 - recall: 0.8190 - val_accuracy: 0.7616 - val_loss: 0.4848 - val_precision: 0.1941 - val_recall: 0.5183\n",
      "Epoch 7/10\n",
      "\u001b[1m207/207\u001b[0m \u001b[32m━━━━━━━━━━━━━━━━━━━━\u001b[0m\u001b[37m\u001b[0m \u001b[1m52s\u001b[0m 252ms/step - accuracy: 0.8275 - loss: 0.3880 - precision: 0.8262 - recall: 0.8364 - val_accuracy: 0.7296 - val_loss: 0.5532 - val_precision: 0.1901 - val_recall: 0.6098\n",
      "Epoch 8/10\n",
      "\u001b[1m207/207\u001b[0m \u001b[32m━━━━━━━━━━━━━━━━━━━━\u001b[0m\u001b[37m\u001b[0m \u001b[1m57s\u001b[0m 273ms/step - accuracy: 0.8375 - loss: 0.3654 - precision: 0.8359 - recall: 0.8406 - val_accuracy: 0.7494 - val_loss: 0.5213 - val_precision: 0.1928 - val_recall: 0.5549\n",
      "Epoch 8: early stopping\n",
      "Restoring model weights from the end of the best epoch: 5.\n",
      "\u001b[1m57/57\u001b[0m \u001b[32m━━━━━━━━━━━━━━━━━━━━\u001b[0m\u001b[37m\u001b[0m \u001b[1m4s\u001b[0m 55ms/step\n"
     ]
    },
    {
     "name": "stderr",
     "output_type": "stream",
     "text": [
      " 20%|██        | 1/5 [06:35<26:21, 395.49s/it]"
     ]
    },
    {
     "name": "stdout",
     "output_type": "stream",
     "text": [
      "Fold 1 Metrics: Accuracy=0.8344, Precision=0.2518, Recall=0.4207, F1-Score=0.3151\n",
      "Waktu untuk ADASYN: 395.50 detik\n",
      "Fold 2 - Resampled training set distribution (ADASYN): Counter({0: 6589, 1: 6555})\n",
      "\n",
      "===== Training and Evaluating ADASYN - Fold 2 =====\n"
     ]
    },
    {
     "name": "stderr",
     "output_type": "stream",
     "text": [
      "c:\\Users\\Arciel\\anaconda3\\Lib\\site-packages\\keras\\src\\layers\\core\\embedding.py:90: UserWarning: Argument `input_length` is deprecated. Just remove it.\n",
      "  warnings.warn(\n"
     ]
    },
    {
     "name": "stdout",
     "output_type": "stream",
     "text": [
      "Epoch 1/10\n",
      "\u001b[1m206/206\u001b[0m \u001b[32m━━━━━━━━━━━━━━━━━━━━\u001b[0m\u001b[37m\u001b[0m \u001b[1m56s\u001b[0m 248ms/step - accuracy: 0.5203 - loss: 0.6917 - precision: 0.5158 - recall: 0.4961 - val_accuracy: 0.4862 - val_loss: 0.6929 - val_precision: 0.1114 - val_recall: 0.6707\n",
      "Epoch 2/10\n",
      "\u001b[1m206/206\u001b[0m \u001b[32m━━━━━━━━━━━━━━━━━━━━\u001b[0m\u001b[37m\u001b[0m \u001b[1m50s\u001b[0m 243ms/step - accuracy: 0.6428 - loss: 0.6348 - precision: 0.6233 - recall: 0.7163 - val_accuracy: 0.6611 - val_loss: 0.5679 - val_precision: 0.1484 - val_recall: 0.5793\n",
      "Epoch 3/10\n",
      "\u001b[1m206/206\u001b[0m \u001b[32m━━━━━━━━━━━━━━━━━━━━\u001b[0m\u001b[37m\u001b[0m \u001b[1m55s\u001b[0m 266ms/step - accuracy: 0.7353 - loss: 0.5395 - precision: 0.7151 - recall: 0.7868 - val_accuracy: 0.7417 - val_loss: 0.4933 - val_precision: 0.1780 - val_recall: 0.5122\n",
      "Epoch 4/10\n",
      "\u001b[1m206/206\u001b[0m \u001b[32m━━━━━━━━━━━━━━━━━━━━\u001b[0m\u001b[37m\u001b[0m \u001b[1m51s\u001b[0m 247ms/step - accuracy: 0.7651 - loss: 0.4917 - precision: 0.7536 - recall: 0.7877 - val_accuracy: 0.7616 - val_loss: 0.4765 - val_precision: 0.1763 - val_recall: 0.4451\n",
      "Epoch 5/10\n",
      "\u001b[1m206/206\u001b[0m \u001b[32m━━━━━━━━━━━━━━━━━━━━\u001b[0m\u001b[37m\u001b[0m \u001b[1m53s\u001b[0m 258ms/step - accuracy: 0.7881 - loss: 0.4644 - precision: 0.7790 - recall: 0.8046 - val_accuracy: 0.7478 - val_loss: 0.5206 - val_precision: 0.1808 - val_recall: 0.5061\n",
      "Epoch 6/10\n",
      "\u001b[1m206/206\u001b[0m \u001b[32m━━━━━━━━━━━━━━━━━━━━\u001b[0m\u001b[37m\u001b[0m \u001b[1m52s\u001b[0m 254ms/step - accuracy: 0.8018 - loss: 0.4279 - precision: 0.7936 - recall: 0.8155 - val_accuracy: 0.7329 - val_loss: 0.5369 - val_precision: 0.1774 - val_recall: 0.5366\n",
      "Epoch 7/10\n",
      "\u001b[1m206/206\u001b[0m \u001b[32m━━━━━━━━━━━━━━━━━━━━\u001b[0m\u001b[37m\u001b[0m \u001b[1m50s\u001b[0m 240ms/step - accuracy: 0.8213 - loss: 0.3937 - precision: 0.8146 - recall: 0.8309 - val_accuracy: 0.8278 - val_loss: 0.3919 - val_precision: 0.2357 - val_recall: 0.4024\n",
      "Epoch 8/10\n",
      "\u001b[1m206/206\u001b[0m \u001b[32m━━━━━━━━━━━━━━━━━━━━\u001b[0m\u001b[37m\u001b[0m \u001b[1m51s\u001b[0m 247ms/step - accuracy: 0.8271 - loss: 0.3751 - precision: 0.8270 - recall: 0.8275 - val_accuracy: 0.7704 - val_loss: 0.4911 - val_precision: 0.1850 - val_recall: 0.4512\n",
      "Epoch 9/10\n",
      "\u001b[1m206/206\u001b[0m \u001b[32m━━━━━━━━━━━━━━━━━━━━\u001b[0m\u001b[37m\u001b[0m \u001b[1m50s\u001b[0m 241ms/step - accuracy: 0.8363 - loss: 0.3615 - precision: 0.8394 - recall: 0.8320 - val_accuracy: 0.7809 - val_loss: 0.4845 - val_precision: 0.2109 - val_recall: 0.5183\n",
      "Epoch 10/10\n",
      "\u001b[1m206/206\u001b[0m \u001b[32m━━━━━━━━━━━━━━━━━━━━\u001b[0m\u001b[37m\u001b[0m \u001b[1m56s\u001b[0m 269ms/step - accuracy: 0.8480 - loss: 0.3480 - precision: 0.8544 - recall: 0.8388 - val_accuracy: 0.7666 - val_loss: 0.5468 - val_precision: 0.1995 - val_recall: 0.5244\n",
      "Epoch 10: early stopping\n",
      "Restoring model weights from the end of the best epoch: 7.\n",
      "\u001b[1m57/57\u001b[0m \u001b[32m━━━━━━━━━━━━━━━━━━━━\u001b[0m\u001b[37m\u001b[0m \u001b[1m3s\u001b[0m 46ms/step\n"
     ]
    },
    {
     "name": "stderr",
     "output_type": "stream",
     "text": [
      " 40%|████      | 2/5 [15:23<23:39, 473.19s/it]"
     ]
    },
    {
     "name": "stdout",
     "output_type": "stream",
     "text": [
      "Fold 2 Metrics: Accuracy=0.8278, Precision=0.2357, Recall=0.4024, F1-Score=0.2973\n",
      "Waktu untuk ADASYN: 923.07 detik\n"
     ]
    },
    {
     "name": "stderr",
     "output_type": "stream",
     "text": [
      "c:\\Users\\Arciel\\anaconda3\\Lib\\site-packages\\keras\\src\\layers\\core\\embedding.py:90: UserWarning: Argument `input_length` is deprecated. Just remove it.\n",
      "  warnings.warn(\n"
     ]
    },
    {
     "name": "stdout",
     "output_type": "stream",
     "text": [
      "Fold 3 - Resampled training set distribution (ADASYN): Counter({0: 6590, 1: 6556})\n",
      "\n",
      "===== Training and Evaluating ADASYN - Fold 3 =====\n",
      "Epoch 1/10\n",
      "\u001b[1m206/206\u001b[0m \u001b[32m━━━━━━━━━━━━━━━━━━━━\u001b[0m\u001b[37m\u001b[0m \u001b[1m59s\u001b[0m 263ms/step - accuracy: 0.5293 - loss: 0.6862 - precision: 0.5095 - recall: 0.3758 - val_accuracy: 0.6474 - val_loss: 0.5638 - val_precision: 0.1494 - val_recall: 0.6121\n",
      "Epoch 2/10\n",
      "\u001b[1m206/206\u001b[0m \u001b[32m━━━━━━━━━━━━━━━━━━━━\u001b[0m\u001b[37m\u001b[0m \u001b[1m49s\u001b[0m 239ms/step - accuracy: 0.6976 - loss: 0.5972 - precision: 0.6720 - recall: 0.7584 - val_accuracy: 0.7406 - val_loss: 0.4879 - val_precision: 0.1856 - val_recall: 0.5455\n",
      "Epoch 3/10\n",
      "\u001b[1m206/206\u001b[0m \u001b[32m━━━━━━━━━━━━━━━━━━━━\u001b[0m\u001b[37m\u001b[0m \u001b[1m54s\u001b[0m 262ms/step - accuracy: 0.7362 - loss: 0.5342 - precision: 0.7158 - recall: 0.7810 - val_accuracy: 0.6369 - val_loss: 0.6318 - val_precision: 0.1581 - val_recall: 0.6909\n",
      "Epoch 4/10\n",
      "\u001b[1m206/206\u001b[0m \u001b[32m━━━━━━━━━━━━━━━━━━━━\u001b[0m\u001b[37m\u001b[0m \u001b[1m53s\u001b[0m 257ms/step - accuracy: 0.7685 - loss: 0.4874 - precision: 0.7543 - recall: 0.8040 - val_accuracy: 0.6683 - val_loss: 0.6233 - val_precision: 0.1697 - val_recall: 0.6788\n",
      "Epoch 5/10\n",
      "\u001b[1m206/206\u001b[0m \u001b[32m━━━━━━━━━━━━━━━━━━━━\u001b[0m\u001b[37m\u001b[0m \u001b[1m53s\u001b[0m 257ms/step - accuracy: 0.7947 - loss: 0.4409 - precision: 0.7850 - recall: 0.8096 - val_accuracy: 0.7092 - val_loss: 0.5583 - val_precision: 0.1858 - val_recall: 0.6485\n",
      "Epoch 5: early stopping\n",
      "Restoring model weights from the end of the best epoch: 2.\n",
      "\u001b[1m57/57\u001b[0m \u001b[32m━━━━━━━━━━━━━━━━━━━━\u001b[0m\u001b[37m\u001b[0m \u001b[1m3s\u001b[0m 39ms/step\n"
     ]
    },
    {
     "name": "stderr",
     "output_type": "stream",
     "text": [
      " 60%|██████    | 3/5 [19:54<12:41, 380.88s/it]"
     ]
    },
    {
     "name": "stdout",
     "output_type": "stream",
     "text": [
      "Fold 3 Metrics: Accuracy=0.7406, Precision=0.1856, Recall=0.5455, F1-Score=0.2769\n",
      "Waktu untuk ADASYN: 1194.10 detik\n"
     ]
    },
    {
     "name": "stderr",
     "output_type": "stream",
     "text": [
      "c:\\Users\\Arciel\\anaconda3\\Lib\\site-packages\\keras\\src\\layers\\core\\embedding.py:90: UserWarning: Argument `input_length` is deprecated. Just remove it.\n",
      "  warnings.warn(\n"
     ]
    },
    {
     "name": "stdout",
     "output_type": "stream",
     "text": [
      "Fold 4 - Resampled training set distribution (ADASYN): Counter({0: 6590, 1: 6552})\n",
      "\n",
      "===== Training and Evaluating ADASYN - Fold 4 =====\n",
      "Epoch 1/10\n",
      "\u001b[1m206/206\u001b[0m \u001b[32m━━━━━━━━━━━━━━━━━━━━\u001b[0m\u001b[37m\u001b[0m \u001b[1m59s\u001b[0m 264ms/step - accuracy: 0.5330 - loss: 0.6899 - precision: 0.5327 - recall: 0.6541 - val_accuracy: 0.7009 - val_loss: 0.5423 - val_precision: 0.1566 - val_recall: 0.5212\n",
      "Epoch 2/10\n",
      "\u001b[1m206/206\u001b[0m \u001b[32m━━━━━━━━━━━━━━━━━━━━\u001b[0m\u001b[37m\u001b[0m \u001b[1m55s\u001b[0m 268ms/step - accuracy: 0.6504 - loss: 0.6305 - precision: 0.6372 - recall: 0.7134 - val_accuracy: 0.7616 - val_loss: 0.4969 - val_precision: 0.1844 - val_recall: 0.4727\n",
      "Epoch 3/10\n",
      "\u001b[1m206/206\u001b[0m \u001b[32m━━━━━━━━━━━━━━━━━━━━\u001b[0m\u001b[37m\u001b[0m \u001b[1m47s\u001b[0m 230ms/step - accuracy: 0.7466 - loss: 0.5172 - precision: 0.7377 - recall: 0.7579 - val_accuracy: 0.6413 - val_loss: 0.6323 - val_precision: 0.1480 - val_recall: 0.6182\n",
      "Epoch 4/10\n",
      "\u001b[1m206/206\u001b[0m \u001b[32m━━━━━━━━━━━━━━━━━━━━\u001b[0m\u001b[37m\u001b[0m \u001b[1m53s\u001b[0m 257ms/step - accuracy: 0.7806 - loss: 0.4653 - precision: 0.7722 - recall: 0.7886 - val_accuracy: 0.6523 - val_loss: 0.6134 - val_precision: 0.1493 - val_recall: 0.6000\n",
      "Epoch 5/10\n",
      "\u001b[1m206/206\u001b[0m \u001b[32m━━━━━━━━━━━━━━━━━━━━\u001b[0m\u001b[37m\u001b[0m \u001b[1m55s\u001b[0m 269ms/step - accuracy: 0.7928 - loss: 0.4428 - precision: 0.7840 - recall: 0.8126 - val_accuracy: 0.6341 - val_loss: 0.6986 - val_precision: 0.1443 - val_recall: 0.6121\n",
      "Epoch 5: early stopping\n",
      "Restoring model weights from the end of the best epoch: 2.\n",
      "\u001b[1m57/57\u001b[0m \u001b[32m━━━━━━━━━━━━━━━━━━━━\u001b[0m\u001b[37m\u001b[0m \u001b[1m4s\u001b[0m 61ms/step\n"
     ]
    },
    {
     "name": "stderr",
     "output_type": "stream",
     "text": [
      " 80%|████████  | 4/5 [24:28<05:38, 338.78s/it]"
     ]
    },
    {
     "name": "stdout",
     "output_type": "stream",
     "text": [
      "Fold 4 Metrics: Accuracy=0.7616, Precision=0.1844, Recall=0.4727, F1-Score=0.2653\n",
      "Waktu untuk ADASYN: 1468.33 detik\n",
      "Fold 5 - Resampled training set distribution (ADASYN): Counter({0: 6590, 1: 6562})\n",
      "\n",
      "===== Training and Evaluating ADASYN - Fold 5 =====\n"
     ]
    },
    {
     "name": "stderr",
     "output_type": "stream",
     "text": [
      "c:\\Users\\Arciel\\anaconda3\\Lib\\site-packages\\keras\\src\\layers\\core\\embedding.py:90: UserWarning: Argument `input_length` is deprecated. Just remove it.\n",
      "  warnings.warn(\n"
     ]
    },
    {
     "name": "stdout",
     "output_type": "stream",
     "text": [
      "Epoch 1/10\n",
      "\u001b[1m206/206\u001b[0m \u001b[32m━━━━━━━━━━━━━━━━━━━━\u001b[0m\u001b[37m\u001b[0m \u001b[1m60s\u001b[0m 263ms/step - accuracy: 0.5286 - loss: 0.6896 - precision: 0.5280 - recall: 0.5086 - val_accuracy: 0.4956 - val_loss: 0.6891 - val_precision: 0.1182 - val_recall: 0.7030\n",
      "Epoch 2/10\n",
      "\u001b[1m206/206\u001b[0m \u001b[32m━━━━━━━━━━━━━━━━━━━━\u001b[0m\u001b[37m\u001b[0m \u001b[1m54s\u001b[0m 261ms/step - accuracy: 0.6600 - loss: 0.6220 - precision: 0.6424 - recall: 0.6916 - val_accuracy: 0.7136 - val_loss: 0.5065 - val_precision: 0.1635 - val_recall: 0.5212\n",
      "Epoch 3/10\n",
      "\u001b[1m206/206\u001b[0m \u001b[32m━━━━━━━━━━━━━━━━━━━━\u001b[0m\u001b[37m\u001b[0m \u001b[1m54s\u001b[0m 262ms/step - accuracy: 0.7339 - loss: 0.5360 - precision: 0.7164 - recall: 0.7639 - val_accuracy: 0.6965 - val_loss: 0.5658 - val_precision: 0.1664 - val_recall: 0.5818\n",
      "Epoch 4/10\n",
      "\u001b[1m206/206\u001b[0m \u001b[32m━━━━━━━━━━━━━━━━━━━━\u001b[0m\u001b[37m\u001b[0m \u001b[1m51s\u001b[0m 247ms/step - accuracy: 0.7795 - loss: 0.4726 - precision: 0.7676 - recall: 0.7967 - val_accuracy: 0.7009 - val_loss: 0.5667 - val_precision: 0.1699 - val_recall: 0.5879\n",
      "Epoch 5/10\n",
      "\u001b[1m206/206\u001b[0m \u001b[32m━━━━━━━━━━━━━━━━━━━━\u001b[0m\u001b[37m\u001b[0m \u001b[1m55s\u001b[0m 267ms/step - accuracy: 0.8056 - loss: 0.4274 - precision: 0.7968 - recall: 0.8234 - val_accuracy: 0.8162 - val_loss: 0.4021 - val_precision: 0.2308 - val_recall: 0.4364\n",
      "Epoch 6/10\n",
      "\u001b[1m206/206\u001b[0m \u001b[32m━━━━━━━━━━━━━━━━━━━━\u001b[0m\u001b[37m\u001b[0m \u001b[1m57s\u001b[0m 275ms/step - accuracy: 0.8190 - loss: 0.3999 - precision: 0.8172 - recall: 0.8255 - val_accuracy: 0.7307 - val_loss: 0.5700 - val_precision: 0.1876 - val_recall: 0.5879\n",
      "Epoch 7/10\n",
      "\u001b[1m206/206\u001b[0m \u001b[32m━━━━━━━━━━━━━━━━━━━━\u001b[0m\u001b[37m\u001b[0m \u001b[1m58s\u001b[0m 283ms/step - accuracy: 0.8338 - loss: 0.3708 - precision: 0.8236 - recall: 0.8421 - val_accuracy: 0.7638 - val_loss: 0.4904 - val_precision: 0.2084 - val_recall: 0.5697\n",
      "Epoch 8/10\n",
      "\u001b[1m206/206\u001b[0m \u001b[32m━━━━━━━━━━━━━━━━━━━━\u001b[0m\u001b[37m\u001b[0m \u001b[1m53s\u001b[0m 259ms/step - accuracy: 0.8508 - loss: 0.3416 - precision: 0.8415 - recall: 0.8616 - val_accuracy: 0.7610 - val_loss: 0.5182 - val_precision: 0.1854 - val_recall: 0.4788\n",
      "Epoch 8: early stopping\n",
      "Restoring model weights from the end of the best epoch: 5.\n",
      "\u001b[1m57/57\u001b[0m \u001b[32m━━━━━━━━━━━━━━━━━━━━\u001b[0m\u001b[37m\u001b[0m \u001b[1m3s\u001b[0m 47ms/step\n"
     ]
    },
    {
     "name": "stderr",
     "output_type": "stream",
     "text": [
      "100%|██████████| 5/5 [31:53<00:00, 382.79s/it]"
     ]
    },
    {
     "name": "stdout",
     "output_type": "stream",
     "text": [
      "Fold 5 Metrics: Accuracy=0.8162, Precision=0.2308, Recall=0.4364, F1-Score=0.3019\n",
      "Waktu untuk ADASYN: 1913.98 detik\n",
      "\n",
      "Average Metrics for ADASYN across 5 folds:\n",
      "{'accuracy': 0.7961368653421633, 'precision': 0.2176545014863221, 'recall': 0.45554323725055434, 'f1_score': 0.29129635645457375, 'technique': 'ADASYN'}\n",
      "\n",
      "Visualisasi Confusion Matrix Gabungan untuk Setiap Teknik Oversampling:\n"
     ]
    },
    {
     "name": "stderr",
     "output_type": "stream",
     "text": [
      "\n"
     ]
    },
    {
     "data": {
      "image/png": "[encoded data removed]",
      "text/plain": [
       "<Figure size 640x480 with 2 Axes>"
      ]
     },
     "metadata": {},
     "output_type": "display_data"
    },
    {
     "data": {
      "text/plain": [
       "<Figure size 640x480 with 0 Axes>"
      ]
     },
     "metadata": {},
     "output_type": "display_data"
    },
    {
     "data": {
      "image/png": "[encoded data removed]",
      "text/plain": [
       "<Figure size 640x480 with 2 Axes>"
      ]
     },
     "metadata": {},
     "output_type": "display_data"
    },
    {
     "data": {
      "text/plain": [
       "<Figure size 640x480 with 0 Axes>"
      ]
     },
     "metadata": {},
     "output_type": "display_data"
    },
    {
     "data": {
      "image/png": "[encoded data removed]",
      "text/plain": [
       "<Figure size 640x480 with 2 Axes>"
      ]
     },
     "metadata": {},
     "output_type": "display_data"
    },
    {
     "name": "stdout",
     "output_type": "stream",
     "text": [
      "\n",
      "Perbandingan Metrik Kinerja Model (Rata-rata Cross-Validation):\n",
      "   accuracy  precision    recall  f1_score            technique\n",
      "0  0.825166   0.291403  0.596718  0.385568  Random Oversampling\n",
      "1  0.793929   0.199240  0.414331  0.268252                SMOTE\n",
      "2  0.796137   0.217655  0.455543  0.291296               ADASYN\n"
     ]
    },
    {
     "data": {
      "text/plain": [
       "<Figure size 640x480 with 0 Axes>"
      ]
     },
     "metadata": {},
     "output_type": "display_data"
    },
    {
     "data": {
      "image/png": "[encoded data removed]",
      "text/plain": [
       "<Figure size 2000x500 with 4 Axes>"
      ]
     },
     "metadata": {},
     "output_type": "display_data"
    }
   ],
   "source": [
    "#Implementasi K-Fold Cross-Validation untuk Setiap Teknik Oversampling\n",
    "n_splits = 5 # Jumlah folds untuk cross-validation\n",
    "skf = StratifiedKFold(n_splits=n_splits, shuffle=True, random_state=42)\n",
    "\n",
    "from tqdm import tqdm\n",
    "import time\n",
    "\n",
    "all_results = {}\n",
    "confusion_matrices = {}\n",
    "\n",
    "# List teknik penanganan imbalance dan inisialisasi objeknya\n",
    "oversampling_methods = {\n",
    "    \"Random Oversampling\": RandomOverSampler(random_state=42),\n",
    "    \"SMOTE\": SMOTE(random_state=42),\n",
    "    \"ADASYN\": ADASYN(random_state=42),\n",
    "}\n",
    "\n",
    "for tech_name, oversampler in oversampling_methods.items():\n",
    "    fold_metrics = []\n",
    "    all_y_true = []\n",
    "    all_y_pred = []\n",
    "\n",
    "    print(f\"\\n--- Starting {n_splits}-Fold Cross-Validation for {tech_name} ---\")\n",
    "    start_time = time.time()\n",
    "    \n",
    "    # Loop melalui setiap fold Stratified K-Fold\n",
    "    # skf.split akan membagi X_data_for_cv dan y_data_for_cv (seluruh dataset)\n",
    "    for fold_idx, (train_idx, val_idx) in tqdm(enumerate(skf.split(X_cv, y_cv)), total=n_splits):\n",
    "        # Ambil data pelatihan dan validasi untuk fold saat ini (data asli)\n",
    "        X_train_fold_orig, X_val_fold_orig = X_cv[train_idx], X_cv[val_idx]\n",
    "        y_train_fold_orig, y_val_fold_orig = y_cv[train_idx], y_cv[val_idx]\n",
    "        \n",
    "        X_train_fold_resampled, y_train_fold_resampled = oversampler.fit_resample(X_train_fold_orig, y_train_fold_orig)\n",
    "        print(f\"Fold {fold_idx+1} - Resampled training set distribution ({tech_name}): {Counter(y_train_fold_resampled)}\")\n",
    "\n",
    "        # Latih dan evaluasi model pada fold ini\n",
    "        metrics = train_and_evaluate_single_fold(\n",
    "            X_train_fold_resampled, y_train_fold_resampled,\n",
    "            X_val_fold_orig, y_val_fold_orig, # Evaluasi pada data validasi asli (tidak di-oversample)\n",
    "            fold_idx,\n",
    "            tech_name, # Teruskan nama teknik ke fungsi evaluasi\n",
    "        )\n",
    "\n",
    "        fold_metrics.append(metrics)\n",
    "        all_y_true.extend(metrics['y_true'])\n",
    "        all_y_pred.extend(metrics['y_pred'])\n",
    "\n",
    "        print(f\"Waktu untuk {tech_name}: {time.time() - start_time:.2f} detik\")\n",
    "    \n",
    "    # Confusion matrix gabungan untuk teknik ini\n",
    "    cm = confusion_matrix(all_y_true, all_y_pred)\n",
    "    confusion_matrices[tech_name] = cm\n",
    "\n",
    "    # Rata-rata metrik\n",
    "    metric_df = pd.DataFrame([{k: v for k, v in d.items() if k in ['accuracy', 'precision', 'recall', 'f1_score']} for d in fold_metrics])\n",
    "    avg_metrics = metric_df.mean().to_dict()\n",
    "    avg_metrics['technique'] = tech_name\n",
    "    all_results[tech_name] = avg_metrics\n",
    "\n",
    "    print(f\"\\nAverage Metrics for {tech_name} across {n_splits} folds:\")\n",
    "    print(avg_metrics)\n",
    "\n",
    "# Visualisasi confusion matrix per teknik\n",
    "print(\"\\nVisualisasi Confusion Matrix Gabungan untuk Setiap Teknik Oversampling:\")\n",
    "for tech_name, cm in confusion_matrices.items():\n",
    "    disp = ConfusionMatrixDisplay(confusion_matrix=cm, display_labels=['Non-HS', 'HS'])\n",
    "    disp.plot(cmap=plt.cm.Blues, values_format='d')\n",
    "    plt.title(f'Confusion Matrix Gabungan - {tech_name}')\n",
    "    plt.show()\n",
    "    plt.savefig(f\"confusion_matrix_{tech_name}.png\", dpi=300, bbox_inches='tight')\n",
    "\n",
    "# Konversi hasil evaluasi ke DataFrame\n",
    "results_df = pd.DataFrame(list(all_results.values()))\n",
    "print(\"\\nPerbandingan Metrik Kinerja Model (Rata-rata Cross-Validation):\")\n",
    "print(results_df)\n",
    "\n",
    "# Plot perbandingan metrik\n",
    "metrics_to_plot = ['accuracy', 'precision', 'recall', 'f1_score']\n",
    "fig, axes = plt.subplots(nrows=1, ncols=len(metrics_to_plot), figsize=(20, 5), sharey=True)\n",
    "fig.suptitle('Perbandingan Kinerja Model LSTM dengan Berbagai Teknik Penanganan Imbalance (Cross-Validation)', fontsize=16)\n",
    "\n",
    "for i, metric in enumerate(metrics_to_plot):\n",
    "    axes[i].bar(results_df['technique'], results_df[metric], color=['skyblue', 'lightcoral', 'lightgreen', 'gold'])\n",
    "    axes[i].set_title(metric.replace('_', ' ').title())\n",
    "    axes[i].set_ylim(0, 1)\n",
    "    axes[i].tick_params(axis='x', rotation=45)\n",
    "    for index, row in results_df.iterrows():\n",
    "        axes[i].text(index, row[metric] + 0.02, f\"{row[metric]:.2f}\", ha='center', va='bottom')\n",
    "\n",
    "plt.tight_layout(rect=[0, 0.03, 1, 0.95])\n",
    "plt.show()"
   ]
  }
 ],
 "metadata": {
  "kernelspec": {
   "display_name": "base",
   "language": "python",
   "name": "python3"
  },
  "language_info": {
   "codemirror_mode": {
    "name": "ipython",
    "version": 3
   },
   "file_extension": ".py",
   "mimetype": "text/x-python",
   "name": "python",
   "nbconvert_exporter": "python",
   "pygments_lexer": "ipython3",
   "version": "3.12.7"
  }
 },
 "nbformat": 4,
 "nbformat_minor": 5
}
